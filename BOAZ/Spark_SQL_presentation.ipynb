{
  "nbformat": 4,
  "nbformat_minor": 0,
  "metadata": {
    "colab": {
      "provenance": [],
      "collapsed_sections": [],
      "mount_file_id": "1MRR9sYoldizrk7_kUu51wXAe5ynDS3wu",
      "authorship_tag": "ABX9TyPmHLQnGYOynFOxjJT5q5rQ",
      "include_colab_link": true
    },
    "kernelspec": {
      "name": "python3",
      "display_name": "Python 3"
    },
    "language_info": {
      "name": "python"
    }
  },
  "cells": [
    {
      "cell_type": "markdown",
      "metadata": {
        "id": "view-in-github",
        "colab_type": "text"
      },
      "source": [
        "<a href=\"https://colab.research.google.com/github/jeewonkimm2/TIL/blob/main/BOAZ/Spark_SQL_presentation.ipynb\" target=\"_parent\"><img src=\"https://colab.research.google.com/assets/colab-badge.svg\" alt=\"Open In Colab\"/></a>"
      ]
    },
    {
      "cell_type": "markdown",
      "source": [
        "#**2. Spark SQL**"
      ],
      "metadata": {
        "id": "Bo6-sLtCMdpu"
      }
    },
    {
      "cell_type": "markdown",
      "source": [
        "1. 목적\n",
        "  - 스파크 프로그래밍 내부에서 관계형 처리를 하기 위해\n",
        "  - 스키마의 정보를 이용해 자동으로 최적화를 하기 위해\n",
        "  - 외부 데이터셋을 사용하기 쉽게 하기 위해\n",
        "\n",
        "\n",
        "2. **DataFrame**\n",
        "  - Spark Core에 RDD가 있다면 Spark SQL엔 DataFrame 가 있음\n",
        "  - DataFrame은 테이블 데이터셋이라고 보면 됨\n",
        "  - 개념적으론 RDD에 스키마가 적용된 것\n",
        "  - 이점\n",
        "    - MLLib이나 Spark Streaming 같은 다른 Spark Module들과 사용하기 편함\n",
        "    - 최적화가 알아서 됨\n",
        "\n",
        "\n",
        "3. **SparkSession**\n",
        "  - Spark Core에 SparkContext가 있다면 Spark SQL엔 SparkSession 가 있음\n",
        "\n",
        "\n",
        "4. Spark에서 사용할 수 있는 SQL문\n",
        "  - Hive Query Language와 거의 동일\n",
        "      - Select\n",
        "      - From\n",
        "      - Where\n",
        "      - Count\n",
        "      - Having\n",
        "      - Group By\n",
        "      - Order By\n",
        "      - Sort By\n",
        "      - Distinct\n",
        "      - Join"
      ],
      "metadata": {
        "id": "OC0gH2pCMjfd"
      }
    },
    {
      "cell_type": "markdown",
      "source": [
        "####**SparkSession과 DataFrame생성**\n",
        "\n",
        "1. Spark Session\n",
        "\n",
        "`spark = SparkSession.builder.appName(\"test-app\").getOrCreate()`\n",
        "\n",
        "2. DataFrame\n",
        "- RDD에서 스키마를 정의한 다음 변형\n",
        "\n",
        "  - RDD를 만드는 부분\n",
        "\n",
        "    `lines = sc.textFile(\"example.csv\") 하나의 긴 텍스트\n",
        "    data = lines.map(lambda x : x.split(\",\"))\n",
        "    preprocessed = data.map(lambda x : Row(name = x[0], price=int(x[1])))`\n",
        "\n",
        "  - Infer 자동으로 유추해서 만드는 부분\n",
        "\n",
        "    `df = spark.createDataFrame(preprocessed)`\n",
        "\n",
        "  - Schema를 사용자가 정의\n",
        "\n",
        "      Specify 사용자가 스키마를 지정\n",
        "    \n",
        "      `schema = StructType(\n",
        "    StructField(\"name\", StringType(), True),\n",
        "    StructField(\"price\", StringType(), True)\n",
        "  )`\n",
        "\n",
        "    `spark.createDataFrame(preprocessed, schema).show()`\n",
        "\n",
        "- CSV, JSON등 파일로부터 데이터 받아오기\n",
        "\n",
        "  `dataframe = spark.read.json(json파일)`\n",
        "\n",
        "  `dataframe_txt = spark.read.text(txt파일)`\n",
        "\n",
        "  `dataframe_csv = spark.read.csv(csv파일)`\n",
        "\n",
        "  `dataframe_parquet = spark.read.load(parquet파일)`\n",
        "\n"
      ],
      "metadata": {
        "id": "eV39LbT6Rpcj"
      }
    },
    {
      "cell_type": "markdown",
      "source": [
        "####**createOrReplaceTempView**\n",
        "\n",
        "- DataFrame을 하나의 데이터베이스 테이블처럼 사용하려면 createOrReplaceTempView() 함수로 temporary view를 만들어줘야함(닉네임 지어주기)\n",
        "\n",
        "  `data.createOrReplaceTempView(\"mobility_data\")`\n",
        "\n",
        "  `spark.sql(\"SELECT pickup_datetime FFOM mobility_data LIMIT 5\").show()`"
      ],
      "metadata": {
        "id": "a-UHXPvcTnQr"
      }
    },
    {
      "cell_type": "code",
      "source": [
        "# mount Drive to access data files\n",
        "\n",
        "from google.colab import drive\n",
        "drive.mount('./mount')"
      ],
      "metadata": {
        "id": "1jw-4x2nIDD_",
        "colab": {
          "base_uri": "https://localhost:8080/"
        },
        "outputId": "6bf5dfe6-de68-487f-bfdd-17f83a830328"
      },
      "execution_count": 1,
      "outputs": [
        {
          "output_type": "stream",
          "name": "stdout",
          "text": [
            "Mounted at ./mount\n"
          ]
        }
      ]
    },
    {
      "cell_type": "code",
      "source": [
        "pip install pyspark"
      ],
      "metadata": {
        "colab": {
          "base_uri": "https://localhost:8080/"
        },
        "id": "io7WGz81FX0h",
        "outputId": "df960e6a-1e7a-4417-bd7b-0acbdbc5db3d"
      },
      "execution_count": 2,
      "outputs": [
        {
          "output_type": "stream",
          "name": "stdout",
          "text": [
            "Looking in indexes: https://pypi.org/simple, https://us-python.pkg.dev/colab-wheels/public/simple/\n",
            "Collecting pyspark\n",
            "  Downloading pyspark-3.3.0.tar.gz (281.3 MB)\n",
            "\u001b[K     |████████████████████████████████| 281.3 MB 41 kB/s \n",
            "\u001b[?25hCollecting py4j==0.10.9.5\n",
            "  Downloading py4j-0.10.9.5-py2.py3-none-any.whl (199 kB)\n",
            "\u001b[K     |████████████████████████████████| 199 kB 40.8 MB/s \n",
            "\u001b[?25hBuilding wheels for collected packages: pyspark\n",
            "  Building wheel for pyspark (setup.py) ... \u001b[?25l\u001b[?25hdone\n",
            "  Created wheel for pyspark: filename=pyspark-3.3.0-py2.py3-none-any.whl size=281764026 sha256=15ac768ae630d2a28c18a5799023605ce21aa143c3277bda829c9b174e85c5c2\n",
            "  Stored in directory: /root/.cache/pip/wheels/7a/8e/1b/f73a52650d2e5f337708d9f6a1750d451a7349a867f928b885\n",
            "Successfully built pyspark\n",
            "Installing collected packages: py4j, pyspark\n",
            "Successfully installed py4j-0.10.9.5 pyspark-3.3.0\n"
          ]
        }
      ]
    },
    {
      "cell_type": "markdown",
      "source": [
        "1. Spark Instance 만들기"
      ],
      "metadata": {
        "id": "PM6NZtaV2G5u"
      }
    },
    {
      "cell_type": "code",
      "source": [
        "from pyspark.sql import SparkSession\n",
        "spark = SparkSession.builder.master(\"local\").appName(\"learn-sql\").getOrCreate()"
      ],
      "metadata": {
        "id": "xSS1OGoi2D8S"
      },
      "execution_count": 3,
      "outputs": []
    },
    {
      "cell_type": "markdown",
      "source": [
        "2. 데이터"
      ],
      "metadata": {
        "id": "W8pvbaX12SgJ"
      }
    },
    {
      "cell_type": "code",
      "source": [
        "stocks = [\n",
        "\t('Google', 'GOOGL', 'USA', 2984, 'USD'),\n",
        "\t('Netflix', 'NFLX', 'USA', 645, 'USD'),\n",
        "\t('Amazon', 'AMZN', 'USA', 3518, 'USD'),\n",
        "\t('Tesla', 'TSLA', 'USA', 1222, 'USD'),\n",
        "\t('Tencent', '0700', 'Hong Kong', 483, 'HKD'),\n",
        "\t('Toyota', '7203', 'Japan', 2006, 'JPY'),\n",
        "\t('Samsung', '005930', 'Korea', 70600, 'KRW'),\n",
        "\t('Kakao', '035720', 'Korea', 125000, 'KRW')\n",
        "]"
      ],
      "metadata": {
        "id": "RLv3vKv12R0W"
      },
      "execution_count": 4,
      "outputs": []
    },
    {
      "cell_type": "markdown",
      "source": [
        "3. 스키마 생성"
      ],
      "metadata": {
        "id": "vSuo4iox2VFI"
      }
    },
    {
      "cell_type": "code",
      "source": [
        "stockSchema = [\"name\",\"ticker\",\"country\",\"price\",\"currency\"]"
      ],
      "metadata": {
        "id": "wveYJKZZ2Uv7"
      },
      "execution_count": 5,
      "outputs": []
    },
    {
      "cell_type": "markdown",
      "source": [
        "4. DataFrame 만들기"
      ],
      "metadata": {
        "id": "B7_YwHSh2YPr"
      }
    },
    {
      "cell_type": "code",
      "source": [
        "df = spark.createDataFrame(data = stocks, schema = stockSchema)\n",
        "\n",
        "# 데이터 타입 확인\n",
        "df.dtypes"
      ],
      "metadata": {
        "colab": {
          "base_uri": "https://localhost:8080/"
        },
        "id": "yzYU7ARb2Zyp",
        "outputId": "bae99d22-249f-40d4-dcb9-a84651435ce0"
      },
      "execution_count": 6,
      "outputs": [
        {
          "output_type": "execute_result",
          "data": {
            "text/plain": [
              "[('name', 'string'),\n",
              " ('ticker', 'string'),\n",
              " ('country', 'string'),\n",
              " ('price', 'bigint'),\n",
              " ('currency', 'string')]"
            ]
          },
          "metadata": {},
          "execution_count": 6
        }
      ]
    },
    {
      "cell_type": "code",
      "source": [
        "# 데이터 프레임 확인\n",
        "df.show()"
      ],
      "metadata": {
        "colab": {
          "base_uri": "https://localhost:8080/"
        },
        "id": "b2SJMKvf2opr",
        "outputId": "d3ec2b49-7f9c-444c-c6b0-e1424b7e0061"
      },
      "execution_count": 7,
      "outputs": [
        {
          "output_type": "stream",
          "name": "stdout",
          "text": [
            "+-------+------+---------+------+--------+\n",
            "|   name|ticker|  country| price|currency|\n",
            "+-------+------+---------+------+--------+\n",
            "| Google| GOOGL|      USA|  2984|     USD|\n",
            "|Netflix|  NFLX|      USA|   645|     USD|\n",
            "| Amazon|  AMZN|      USA|  3518|     USD|\n",
            "|  Tesla|  TSLA|      USA|  1222|     USD|\n",
            "|Tencent|  0700|Hong Kong|   483|     HKD|\n",
            "| Toyota|  7203|    Japan|  2006|     JPY|\n",
            "|Samsung|005930|    Korea| 70600|     KRW|\n",
            "|  Kakao|035720|    Korea|125000|     KRW|\n",
            "+-------+------+---------+------+--------+\n",
            "\n"
          ]
        }
      ]
    },
    {
      "cell_type": "markdown",
      "source": [
        "5. Temporary View에 등록 - 닉네임 stocks"
      ],
      "metadata": {
        "id": "3qdgl2Lr22bl"
      }
    },
    {
      "cell_type": "code",
      "source": [
        "df.createOrReplaceTempView(\"stocks\")"
      ],
      "metadata": {
        "id": "L9F9dzJj27fB"
      },
      "execution_count": 8,
      "outputs": []
    },
    {
      "cell_type": "markdown",
      "source": [
        "6. 회사 이름 가져오기"
      ],
      "metadata": {
        "id": "Nh5cP4Es3Aq3"
      }
    },
    {
      "cell_type": "code",
      "source": [
        "spark.sql(\"select name from stocks\").show()"
      ],
      "metadata": {
        "colab": {
          "base_uri": "https://localhost:8080/"
        },
        "id": "TAOBr7yu3BsR",
        "outputId": "85f279ce-8b47-4230-d486-22838aee4879"
      },
      "execution_count": 9,
      "outputs": [
        {
          "output_type": "stream",
          "name": "stdout",
          "text": [
            "+-------+\n",
            "|   name|\n",
            "+-------+\n",
            "| Google|\n",
            "|Netflix|\n",
            "| Amazon|\n",
            "|  Tesla|\n",
            "|Tencent|\n",
            "| Toyota|\n",
            "|Samsung|\n",
            "|  Kakao|\n",
            "+-------+\n",
            "\n"
          ]
        }
      ]
    },
    {
      "cell_type": "markdown",
      "source": [
        "7. 여러 개의 컬럼 가져오기"
      ],
      "metadata": {
        "id": "Lv8j9f7l3TQQ"
      }
    },
    {
      "cell_type": "code",
      "source": [
        "spark.sql(\"select name, price from stocks\").show()"
      ],
      "metadata": {
        "colab": {
          "base_uri": "https://localhost:8080/"
        },
        "id": "Nci2e4rt3U7I",
        "outputId": "b81d9d1b-c3b8-461e-a887-df8b56098b3a"
      },
      "execution_count": 10,
      "outputs": [
        {
          "output_type": "stream",
          "name": "stdout",
          "text": [
            "+-------+------+\n",
            "|   name| price|\n",
            "+-------+------+\n",
            "| Google|  2984|\n",
            "|Netflix|   645|\n",
            "| Amazon|  3518|\n",
            "|  Tesla|  1222|\n",
            "|Tencent|   483|\n",
            "| Toyota|  2006|\n",
            "|Samsung| 70600|\n",
            "|  Kakao|125000|\n",
            "+-------+------+\n",
            "\n"
          ]
        }
      ]
    },
    {
      "cell_type": "markdown",
      "source": [
        "8. 조건문"
      ],
      "metadata": {
        "id": "kyYNNAVS3bIi"
      }
    },
    {
      "cell_type": "code",
      "source": [
        "# country가 Korea인 name, price 컬럼 가져오기\n",
        "\n",
        "spark.sql(\"select name, price from stocks where country = 'Korea'\").show()"
      ],
      "metadata": {
        "colab": {
          "base_uri": "https://localhost:8080/"
        },
        "id": "GjdsF8B53ZOY",
        "outputId": "4f76243a-da9e-4ecc-96bb-91e3bc4ebfd3"
      },
      "execution_count": 11,
      "outputs": [
        {
          "output_type": "stream",
          "name": "stdout",
          "text": [
            "+-------+------+\n",
            "|   name| price|\n",
            "+-------+------+\n",
            "|Samsung| 70600|\n",
            "|  Kakao|125000|\n",
            "+-------+------+\n",
            "\n"
          ]
        }
      ]
    },
    {
      "cell_type": "code",
      "source": [
        "# price>2000인 name, price 컬럼 가져오기\n",
        "\n",
        "spark.sql(\"select name, price from stocks where price > 2000\").show()"
      ],
      "metadata": {
        "colab": {
          "base_uri": "https://localhost:8080/"
        },
        "id": "YjmEHLUs3n8y",
        "outputId": "ad297df0-e681-466f-8b0f-dbc358dee57a"
      },
      "execution_count": 12,
      "outputs": [
        {
          "output_type": "stream",
          "name": "stdout",
          "text": [
            "+-------+------+\n",
            "|   name| price|\n",
            "+-------+------+\n",
            "| Google|  2984|\n",
            "| Amazon|  3518|\n",
            "| Toyota|  2006|\n",
            "|Samsung| 70600|\n",
            "|  Kakao|125000|\n",
            "+-------+------+\n",
            "\n"
          ]
        }
      ]
    },
    {
      "cell_type": "code",
      "source": [
        "# price>2000이면서 country가 USA인 name, price 컬럼 가져오기\n",
        "\n",
        "spark.sql(\"select name,price from stocks where price>2000 and country = 'USA'\").show()"
      ],
      "metadata": {
        "colab": {
          "base_uri": "https://localhost:8080/"
        },
        "id": "JGxE0ctY3vhT",
        "outputId": "863f9b02-c45c-4676-c62d-7c84346a4087"
      },
      "execution_count": 13,
      "outputs": [
        {
          "output_type": "stream",
          "name": "stdout",
          "text": [
            "+------+-----+\n",
            "|  name|price|\n",
            "+------+-----+\n",
            "|Google| 2984|\n",
            "|Amazon| 3518|\n",
            "+------+-----+\n",
            "\n"
          ]
        }
      ]
    },
    {
      "cell_type": "markdown",
      "source": [
        "9. like : String에서 유용하게 쓰임"
      ],
      "metadata": {
        "id": "DuirB-6_4LfH"
      }
    },
    {
      "cell_type": "code",
      "source": [
        "# U로 시작하는 나라의 name,price 컬럼 가져오기\n",
        "\n",
        "spark.sql(\"select name, price from stocks where country like 'U%'\").show()"
      ],
      "metadata": {
        "colab": {
          "base_uri": "https://localhost:8080/"
        },
        "id": "iImsksfQ4PYg",
        "outputId": "a9724465-cfa3-44ce-8b15-4d424c219080"
      },
      "execution_count": 14,
      "outputs": [
        {
          "output_type": "stream",
          "name": "stdout",
          "text": [
            "+-------+-----+\n",
            "|   name|price|\n",
            "+-------+-----+\n",
            "| Google| 2984|\n",
            "|Netflix|  645|\n",
            "| Amazon| 3518|\n",
            "|  Tesla| 1222|\n",
            "+-------+-----+\n",
            "\n"
          ]
        }
      ]
    },
    {
      "cell_type": "code",
      "source": [
        "# U로 시작하는 나라, 회사 이름에서 e가 없는 곳의 name, price 컬럼 가져오기\n",
        "\n",
        "spark.sql(\"select name, price from stocks where country like 'U%' and name not like '%e%'\").show()"
      ],
      "metadata": {
        "colab": {
          "base_uri": "https://localhost:8080/"
        },
        "id": "qQp-xiJe43uX",
        "outputId": "eddc70b9-736c-49cf-fc79-2674c1c5c00e"
      },
      "execution_count": 15,
      "outputs": [
        {
          "output_type": "stream",
          "name": "stdout",
          "text": [
            "+------+-----+\n",
            "|  name|price|\n",
            "+------+-----+\n",
            "|Amazon| 3518|\n",
            "+------+-----+\n",
            "\n"
          ]
        }
      ]
    },
    {
      "cell_type": "markdown",
      "source": [
        "10. between"
      ],
      "metadata": {
        "id": "BF4fLJ0d5MG9"
      }
    },
    {
      "cell_type": "code",
      "source": [
        "# 1000<price<10000 인 name, price 컬럼 가져오기\n",
        "\n",
        "spark.sql(\"select name, price from stocks where price between 1000 and 10000\").show()"
      ],
      "metadata": {
        "colab": {
          "base_uri": "https://localhost:8080/"
        },
        "id": "W9go6Za55QLB",
        "outputId": "036900d2-9900-48ad-d3b0-fd417f721a73"
      },
      "execution_count": 16,
      "outputs": [
        {
          "output_type": "stream",
          "name": "stdout",
          "text": [
            "+------+-----+\n",
            "|  name|price|\n",
            "+------+-----+\n",
            "|Google| 2984|\n",
            "|Amazon| 3518|\n",
            "| Tesla| 1222|\n",
            "|Toyota| 2006|\n",
            "+------+-----+\n",
            "\n"
          ]
        }
      ]
    },
    {
      "cell_type": "markdown",
      "source": [
        "11. 중첩 사용"
      ],
      "metadata": {
        "id": "hXVFYZLM5Y-W"
      }
    },
    {
      "cell_type": "code",
      "source": [
        "# Tesla보다 비싸며 currency가 USD인 name,price,currency 컬럼 가져오기\n",
        "\n",
        "spark.sql(\"select name, price, currency from stocks \\\n",
        "where currency = 'USD' and price > (select price from stocks where name = 'Tesla')\").show()"
      ],
      "metadata": {
        "colab": {
          "base_uri": "https://localhost:8080/"
        },
        "id": "pCRqKgQI4Y6M",
        "outputId": "5bb9d559-8f55-4e33-f9ed-8df8e9b13a9f"
      },
      "execution_count": 17,
      "outputs": [
        {
          "output_type": "stream",
          "name": "stdout",
          "text": [
            "+------+-----+--------+\n",
            "|  name|price|currency|\n",
            "+------+-----+--------+\n",
            "|Google| 2984|     USD|\n",
            "|Amazon| 3518|     USD|\n",
            "+------+-----+--------+\n",
            "\n"
          ]
        }
      ]
    },
    {
      "cell_type": "markdown",
      "source": [
        "12. order by"
      ],
      "metadata": {
        "id": "A766mUG7AiY2"
      }
    },
    {
      "cell_type": "code",
      "source": [
        "#오름차순\n",
        "\n",
        "spark.sql(\"select name, price from stocks order by price asc\").show()"
      ],
      "metadata": {
        "colab": {
          "base_uri": "https://localhost:8080/"
        },
        "id": "T_7HzWuB4KJ7",
        "outputId": "cb7c9d15-be5d-4473-8321-16d1d3ef249a"
      },
      "execution_count": 18,
      "outputs": [
        {
          "output_type": "stream",
          "name": "stdout",
          "text": [
            "+-------+------+\n",
            "|   name| price|\n",
            "+-------+------+\n",
            "|Tencent|   483|\n",
            "|Netflix|   645|\n",
            "|  Tesla|  1222|\n",
            "| Toyota|  2006|\n",
            "| Google|  2984|\n",
            "| Amazon|  3518|\n",
            "|Samsung| 70600|\n",
            "|  Kakao|125000|\n",
            "+-------+------+\n",
            "\n"
          ]
        }
      ]
    },
    {
      "cell_type": "code",
      "source": [
        "#내림차순\n",
        "\n",
        "spark.sql(\"select name, price from stocks order by price desc\").show()"
      ],
      "metadata": {
        "colab": {
          "base_uri": "https://localhost:8080/"
        },
        "id": "ZrZ4Fnaw3hXv",
        "outputId": "565708ed-5c8b-4459-f50c-aea024057a35"
      },
      "execution_count": 19,
      "outputs": [
        {
          "output_type": "stream",
          "name": "stdout",
          "text": [
            "+-------+------+\n",
            "|   name| price|\n",
            "+-------+------+\n",
            "|  Kakao|125000|\n",
            "|Samsung| 70600|\n",
            "| Amazon|  3518|\n",
            "| Google|  2984|\n",
            "| Toyota|  2006|\n",
            "|  Tesla|  1222|\n",
            "|Netflix|   645|\n",
            "|Tencent|   483|\n",
            "+-------+------+\n",
            "\n"
          ]
        }
      ]
    },
    {
      "cell_type": "code",
      "source": [
        "#회사 길이의 순서대로\n",
        "\n",
        "spark.sql(\"select name, price from stocks order by length(name)\").show()"
      ],
      "metadata": {
        "id": "e3vMSsobS5OI",
        "colab": {
          "base_uri": "https://localhost:8080/"
        },
        "outputId": "7760e400-1366-475f-c962-4f44cea22207"
      },
      "execution_count": 20,
      "outputs": [
        {
          "output_type": "stream",
          "name": "stdout",
          "text": [
            "+-------+------+\n",
            "|   name| price|\n",
            "+-------+------+\n",
            "|  Tesla|  1222|\n",
            "|  Kakao|125000|\n",
            "| Amazon|  3518|\n",
            "| Toyota|  2006|\n",
            "| Google|  2984|\n",
            "|Netflix|   645|\n",
            "|Samsung| 70600|\n",
            "|Tencent|   483|\n",
            "+-------+------+\n",
            "\n"
          ]
        }
      ]
    },
    {
      "cell_type": "markdown",
      "source": [
        "13. grouping aggregate"
      ],
      "metadata": {
        "id": "BMczZD3gA412"
      }
    },
    {
      "cell_type": "code",
      "source": [
        "#합\n",
        "\n",
        "spark.sql(\"select sum(price) from stocks where country = 'Korea'\").show()"
      ],
      "metadata": {
        "colab": {
          "base_uri": "https://localhost:8080/"
        },
        "id": "ArmjagZbA68F",
        "outputId": "60593379-8cb8-429f-e745-7d406472300e"
      },
      "execution_count": 21,
      "outputs": [
        {
          "output_type": "stream",
          "name": "stdout",
          "text": [
            "+----------+\n",
            "|sum(price)|\n",
            "+----------+\n",
            "|    195600|\n",
            "+----------+\n",
            "\n"
          ]
        }
      ]
    },
    {
      "cell_type": "code",
      "source": [
        "#평균\n",
        "\n",
        "spark.sql(\"select mean(price) from stocks where country = 'Korea'\").show()"
      ],
      "metadata": {
        "colab": {
          "base_uri": "https://localhost:8080/"
        },
        "id": "OeTk0EC8A8hU",
        "outputId": "e8eb7bff-a2fa-46b7-bd7b-ea03d3e72d81"
      },
      "execution_count": 22,
      "outputs": [
        {
          "output_type": "stream",
          "name": "stdout",
          "text": [
            "+-----------+\n",
            "|mean(price)|\n",
            "+-----------+\n",
            "|    97800.0|\n",
            "+-----------+\n",
            "\n"
          ]
        }
      ]
    },
    {
      "cell_type": "code",
      "source": [
        "#'Korea' 값이 몇개인지\n",
        "\n",
        "spark.sql(\"select count(price) from stocks where country = 'Korea'\").show()"
      ],
      "metadata": {
        "colab": {
          "base_uri": "https://localhost:8080/"
        },
        "id": "qyU2g60iBCbP",
        "outputId": "77d5c384-7025-4f25-e4a6-62c65cd4ecfd"
      },
      "execution_count": 23,
      "outputs": [
        {
          "output_type": "stream",
          "name": "stdout",
          "text": [
            "+------------+\n",
            "|count(price)|\n",
            "+------------+\n",
            "|           2|\n",
            "+------------+\n",
            "\n"
          ]
        }
      ]
    },
    {
      "cell_type": "markdown",
      "source": [
        "14. in"
      ],
      "metadata": {
        "id": "Qd8ZrHaBDFn2"
      }
    },
    {
      "cell_type": "code",
      "source": [
        "#USA, Korea 가 몇개인지\n",
        "\n",
        "spark.sql(\"select count(price) from stocks where country in ('Korea', 'USA')\").show()"
      ],
      "metadata": {
        "colab": {
          "base_uri": "https://localhost:8080/"
        },
        "id": "wXYUurhXDGuO",
        "outputId": "480826bf-f71b-43de-ab8b-b1b9d3ef8eac"
      },
      "execution_count": 24,
      "outputs": [
        {
          "output_type": "stream",
          "name": "stdout",
          "text": [
            "+------------+\n",
            "|count(price)|\n",
            "+------------+\n",
            "|           6|\n",
            "+------------+\n",
            "\n"
          ]
        }
      ]
    },
    {
      "cell_type": "markdown",
      "source": [
        "15. join : 여러개의 테이블 다루기 (실무에선 여러개의 테이블의 데이터를 씀 -> 유용함)"
      ],
      "metadata": {
        "id": "adWPWNZjDLMu"
      }
    },
    {
      "cell_type": "code",
      "source": [
        "# 새로운 데이터 가져오기\n",
        "earnings = [\n",
        "('Google', 27.99, 'USD'),\n",
        "('Netflix', 2.56, 'USD'),\n",
        "('Amazon', 6.12, 'USD'),\n",
        "('Tesla', 1.86, 'USD'),\n",
        "('Tencent', 11.01, 'HKD'),\n",
        "('Toyota', 224.82, 'JPY'),\n",
        "('Samsung', 1780., 'KRW'),\n",
        "('Kakao', 705., 'KRW')\n",
        "]\n",
        "\n",
        "#직접 스키마의 타입 정하기\n",
        "from pyspark.sql.types import StringType, FloatType, StructType, StructField\n",
        "\n",
        "earningsSchema = StructType([\n",
        "\tStructField(\"name\", StringType(), True),\n",
        "\tStructField(\"eps\", FloatType(), True),\n",
        "\tStructField(\"currency\", StringType(), True)\n",
        "])\n",
        "\n",
        "\n",
        "earningsDF = spark.createDataFrame(data = earnings, schema = earningsSchema)"
      ],
      "metadata": {
        "id": "3CT2i_kXDKek"
      },
      "execution_count": 25,
      "outputs": []
    },
    {
      "cell_type": "code",
      "source": [
        "#데이터프레임 스키마 타입 확인하기\n",
        "\n",
        "earningsDF.dtypes"
      ],
      "metadata": {
        "colab": {
          "base_uri": "https://localhost:8080/"
        },
        "id": "VCJjVwddDlAw",
        "outputId": "b547cc06-011d-43ea-d25d-f0f081f76d7d"
      },
      "execution_count": 26,
      "outputs": [
        {
          "output_type": "execute_result",
          "data": {
            "text/plain": [
              "[('name', 'string'), ('eps', 'float'), ('currency', 'string')]"
            ]
          },
          "metadata": {},
          "execution_count": 26
        }
      ]
    },
    {
      "cell_type": "code",
      "source": [
        "earningsDF.createOrReplaceTempView(\"earnings\")"
      ],
      "metadata": {
        "id": "_SIhppW6Doid"
      },
      "execution_count": 27,
      "outputs": []
    },
    {
      "cell_type": "code",
      "source": [
        "#데이터프레임 데이터 보기\n",
        "\n",
        "earningsDF.select(\"*\").show()"
      ],
      "metadata": {
        "colab": {
          "base_uri": "https://localhost:8080/"
        },
        "id": "AXlFvx7qDpwI",
        "outputId": "8fe3bd74-30e9-4ba2-8cbe-6114b658a552"
      },
      "execution_count": 28,
      "outputs": [
        {
          "output_type": "stream",
          "name": "stdout",
          "text": [
            "+-------+------+--------+\n",
            "|   name|   eps|currency|\n",
            "+-------+------+--------+\n",
            "| Google| 27.99|     USD|\n",
            "|Netflix|  2.56|     USD|\n",
            "| Amazon|  6.12|     USD|\n",
            "|  Tesla|  1.86|     USD|\n",
            "|Tencent| 11.01|     HKD|\n",
            "| Toyota|224.82|     JPY|\n",
            "|Samsung|1780.0|     KRW|\n",
            "|  Kakao| 705.0|     KRW|\n",
            "+-------+------+--------+\n",
            "\n"
          ]
        }
      ]
    },
    {
      "cell_type": "markdown",
      "source": [
        "Inner Join"
      ],
      "metadata": {
        "id": "MM_1Ui76Dx1L"
      }
    },
    {
      "cell_type": "code",
      "source": [
        "# join의 기준 : stocks.name = earnings.name\n",
        "\n",
        "spark.sql(\"select * from stocks join earnings on stocks.name = earnings.name\").show()"
      ],
      "metadata": {
        "colab": {
          "base_uri": "https://localhost:8080/"
        },
        "id": "9TuAbLbGDzBk",
        "outputId": "b5149a0c-cea1-433a-a092-b37352d156e9"
      },
      "execution_count": 29,
      "outputs": [
        {
          "output_type": "stream",
          "name": "stdout",
          "text": [
            "+-------+------+---------+------+--------+-------+------+--------+\n",
            "|   name|ticker|  country| price|currency|   name|   eps|currency|\n",
            "+-------+------+---------+------+--------+-------+------+--------+\n",
            "| Amazon|  AMZN|      USA|  3518|     USD| Amazon|  6.12|     USD|\n",
            "| Google| GOOGL|      USA|  2984|     USD| Google| 27.99|     USD|\n",
            "|  Kakao|035720|    Korea|125000|     KRW|  Kakao| 705.0|     KRW|\n",
            "|Netflix|  NFLX|      USA|   645|     USD|Netflix|  2.56|     USD|\n",
            "|Samsung|005930|    Korea| 70600|     KRW|Samsung|1780.0|     KRW|\n",
            "|Tencent|  0700|Hong Kong|   483|     HKD|Tencent| 11.01|     HKD|\n",
            "|  Tesla|  TSLA|      USA|  1222|     USD|  Tesla|  1.86|     USD|\n",
            "| Toyota|  7203|    Japan|  2006|     JPY| Toyota|224.82|     JPY|\n",
            "+-------+------+---------+------+--------+-------+------+--------+\n",
            "\n"
          ]
        }
      ]
    },
    {
      "cell_type": "code",
      "source": [
        "#PER(Price-earnings ratio) : Price / EPS\n",
        "\n",
        "spark.sql(\"select stocks.name, (stocks.price/earnings.eps) from stocks join earnings on stocks.name = earnings.name\").show()"
      ],
      "metadata": {
        "colab": {
          "base_uri": "https://localhost:8080/"
        },
        "id": "cYq5JR-lD2Tu",
        "outputId": "da9e0357-744a-45d7-9c37-12cf2eb549a5"
      },
      "execution_count": 30,
      "outputs": [
        {
          "output_type": "stream",
          "name": "stdout",
          "text": [
            "+-------+------------------+\n",
            "|   name|     (price / eps)|\n",
            "+-------+------------------+\n",
            "| Amazon| 574.8366120563447|\n",
            "| Google| 106.6095042658442|\n",
            "|  Kakao| 177.3049645390071|\n",
            "|Netflix| 251.9531306315913|\n",
            "|Samsung|39.662921348314605|\n",
            "|Tencent| 43.86920889728746|\n",
            "|  Tesla|  656.989242258975|\n",
            "| Toyota| 8.922693419839167|\n",
            "+-------+------------------+\n",
            "\n"
          ]
        }
      ]
    },
    {
      "cell_type": "code",
      "source": [
        "# 사용 후 종료!\n",
        "\n",
        "spark.stop()"
      ],
      "metadata": {
        "id": "lRi9ifxrGN2Z"
      },
      "execution_count": 31,
      "outputs": []
    },
    {
      "cell_type": "markdown",
      "source": [
        "##**실습**\n",
        "\n",
        "###Data : TLC Trip Record Data\n",
        "- 10+년 이상의 택시와 모빌리티 서비스 기록\n",
        "- 매년 20GB씩 쌓임\n",
        "- https://www1.nyc.gov/site/tlc/about/tlc-trip-record-data.page\n",
        "\n",
        "####데이터 정보\n",
        "- hvfhs_license_num : 회사 면허 번호\n",
        "- dispatching_base_num : 지역 라이센스 번호\n",
        "- pickup_datetime : 승차 시간\n",
        "- dropoff_datetime : 하차 시간\n",
        "- PULocationID : 승차 지역 ID\n",
        "- DOLocationID : 하차 지역 ID\n",
        "- SR_Flag : 합승 여부 Flag"
      ],
      "metadata": {
        "id": "0ZbaP6N8jRLw"
      }
    },
    {
      "cell_type": "code",
      "source": [
        "from google.colab import drive\n",
        "drive.mount('/content/drive')"
      ],
      "metadata": {
        "colab": {
          "base_uri": "https://localhost:8080/"
        },
        "id": "Wm28-iENjPdR",
        "outputId": "fffe2068-9cc0-4721-a8f4-d2f6622752cd"
      },
      "execution_count": 32,
      "outputs": [
        {
          "output_type": "stream",
          "name": "stdout",
          "text": [
            "Mounted at /content/drive\n"
          ]
        }
      ]
    },
    {
      "cell_type": "code",
      "source": [
        "from pyspark.sql import SparkSession\n",
        "\n",
        "spark = SparkSession.builder.appName(\"taxi-analysis\").getOrCreate()"
      ],
      "metadata": {
        "id": "LmGdHc-2ix5K"
      },
      "execution_count": 33,
      "outputs": []
    },
    {
      "cell_type": "code",
      "source": [
        "# 데이터\n",
        "\n",
        "trip_files = \"/content/drive/MyDrive/Colab Notebooks/2022/BOAZ/학기 세션/trips/*\"\n",
        "zone_file = \"/content/drive/MyDrive/Colab Notebooks/2022/BOAZ/학기 세션/taxi+_zone_lookup.csv\"\n",
        "\n",
        "# df생성\n",
        "trips_df = spark.read.csv(trip_files, inferSchema = True, header = True)\n",
        "zone_df = spark.read.csv(zone_file, inferSchema = True, header = True)"
      ],
      "metadata": {
        "id": "SpOrSIwgHAi3"
      },
      "execution_count": 39,
      "outputs": []
    },
    {
      "cell_type": "code",
      "source": [
        "# 스키마 확인\n",
        "\n",
        "trips_df.printSchema()\n",
        "zone_df.printSchema()"
      ],
      "metadata": {
        "id": "B0XVh-KkkpfV",
        "colab": {
          "base_uri": "https://localhost:8080/"
        },
        "outputId": "bd3e81fd-d5a8-44b0-9937-a15c0978f583"
      },
      "execution_count": 40,
      "outputs": [
        {
          "output_type": "stream",
          "name": "stdout",
          "text": [
            "root\n",
            " |-- _c0: integer (nullable = true)\n",
            " |-- VendorID: integer (nullable = true)\n",
            " |-- tpep_pickup_datetime: timestamp (nullable = true)\n",
            " |-- tpep_dropoff_datetime: timestamp (nullable = true)\n",
            " |-- passenger_count: double (nullable = true)\n",
            " |-- trip_distance: double (nullable = true)\n",
            " |-- RatecodeID: double (nullable = true)\n",
            " |-- store_and_fwd_flag: string (nullable = true)\n",
            " |-- PULocationID: integer (nullable = true)\n",
            " |-- DOLocationID: integer (nullable = true)\n",
            " |-- payment_type: integer (nullable = true)\n",
            " |-- fare_amount: double (nullable = true)\n",
            " |-- extra: double (nullable = true)\n",
            " |-- mta_tax: double (nullable = true)\n",
            " |-- tip_amount: double (nullable = true)\n",
            " |-- tolls_amount: double (nullable = true)\n",
            " |-- improvement_surcharge: double (nullable = true)\n",
            " |-- total_amount: double (nullable = true)\n",
            " |-- congestion_surcharge: double (nullable = true)\n",
            " |-- airport_fee: double (nullable = true)\n",
            "\n",
            "root\n",
            " |-- LocationID: integer (nullable = true)\n",
            " |-- Borough: string (nullable = true)\n",
            " |-- Zone: string (nullable = true)\n",
            " |-- service_zone: string (nullable = true)\n",
            "\n"
          ]
        }
      ]
    },
    {
      "cell_type": "code",
      "source": [
        "trips_df.createOrReplaceTempView(\"trips\")\n",
        "zone_df.createOrReplaceTempView(\"zone\")"
      ],
      "metadata": {
        "id": "f2fWsLCrIwrT"
      },
      "execution_count": 41,
      "outputs": []
    },
    {
      "cell_type": "code",
      "source": [
        "query = \"\"\"\n",
        "SELECT\n",
        "\tt.VendorID as vendor_id,\n",
        "  TO_DATE(t.tpep_pickup_datetime) as pickup_date,\n",
        "  TO_DATE(t.tpep_dropoff_datetime) as dropoff_date,\n",
        "  HOUR(t.tpep_pickup_datetime) as pickup_time,\n",
        "  HOUR(t.tpep_dropoff_datetime) as dropoff_time,\n",
        "  t.passenger_count,\n",
        "  t.trip_distance,\n",
        "  t.fare_amount,\n",
        "  t.tip_amount,\n",
        "  t.tolls_amount,\n",
        "  t.total_amount,\n",
        "  t.payment_type,\n",
        "  pz.Zone as pickup_zone,\n",
        "  dz.Zone as dropoff_zone\n",
        "FROM\n",
        "\ttrips t\n",
        "\tLEFT JOIN\n",
        "\t\tzone pz\n",
        "\tON\n",
        "\t\tt.PULocationID = pz.LocationID\n",
        "\tLEFT JOIN\n",
        "\t\tzone dz\n",
        "\tON\n",
        "\t\tt.DOLocationID = dz.LocationID\n",
        "\"\"\"\n",
        "\n",
        "\n",
        "comb_df = spark.sql(query)\n",
        "comb_df.createOrReplaceTempView(\"comb\")"
      ],
      "metadata": {
        "id": "PD7nDzFuIyXQ"
      },
      "execution_count": 42,
      "outputs": []
    },
    {
      "cell_type": "code",
      "source": [
        "comb_df.printSchema()"
      ],
      "metadata": {
        "colab": {
          "base_uri": "https://localhost:8080/"
        },
        "id": "YtaMpJVKt_no",
        "outputId": "93ce5736-174f-463f-9607-822cc5c5079e"
      },
      "execution_count": 43,
      "outputs": [
        {
          "output_type": "stream",
          "name": "stdout",
          "text": [
            "root\n",
            " |-- vendor_id: integer (nullable = true)\n",
            " |-- pickup_date: date (nullable = true)\n",
            " |-- dropoff_date: date (nullable = true)\n",
            " |-- pickup_time: integer (nullable = true)\n",
            " |-- dropoff_time: integer (nullable = true)\n",
            " |-- passenger_count: double (nullable = true)\n",
            " |-- trip_distance: double (nullable = true)\n",
            " |-- fare_amount: double (nullable = true)\n",
            " |-- tip_amount: double (nullable = true)\n",
            " |-- tolls_amount: double (nullable = true)\n",
            " |-- total_amount: double (nullable = true)\n",
            " |-- payment_type: integer (nullable = true)\n",
            " |-- pickup_zone: string (nullable = true)\n",
            " |-- dropoff_zone: string (nullable = true)\n",
            "\n"
          ]
        }
      ]
    },
    {
      "cell_type": "code",
      "source": [
        "spark.sql(\"SELECT pickup_date, pickup_time from comb WHERE pickup_time > 0\").show()"
      ],
      "metadata": {
        "colab": {
          "base_uri": "https://localhost:8080/"
        },
        "id": "eb0NG19ZuB59",
        "outputId": "e03ac44b-cf54-4569-97a3-c227747963f1"
      },
      "execution_count": 44,
      "outputs": [
        {
          "output_type": "stream",
          "name": "stdout",
          "text": [
            "+-----------+-----------+\n",
            "|pickup_date|pickup_time|\n",
            "+-----------+-----------+\n",
            "| 2021-06-01|         18|\n",
            "| 2021-05-31|         23|\n",
            "| 2021-05-31|         23|\n",
            "| 2021-05-31|         23|\n",
            "| 2021-05-31|         23|\n",
            "| 2021-05-31|         23|\n",
            "| 2021-05-31|         23|\n",
            "| 2021-05-31|         23|\n",
            "| 2021-05-31|         23|\n",
            "| 2021-05-31|         22|\n",
            "| 2021-05-31|         23|\n",
            "| 2021-05-31|         23|\n",
            "| 2021-05-31|         23|\n",
            "| 2021-05-31|         23|\n",
            "| 2021-05-31|         23|\n",
            "| 2021-06-01|          1|\n",
            "| 2021-05-31|         23|\n",
            "| 2021-05-31|         23|\n",
            "| 2021-05-31|         23|\n",
            "| 2021-05-31|         23|\n",
            "+-----------+-----------+\n",
            "only showing top 20 rows\n",
            "\n"
          ]
        }
      ]
    },
    {
      "cell_type": "code",
      "source": [
        "spark.sql(\"SELECT pickup_date, pickup_time from comb WHERE pickup_date < '2020-12-31'\").show()"
      ],
      "metadata": {
        "colab": {
          "base_uri": "https://localhost:8080/"
        },
        "id": "lUkB7LM1uEiV",
        "outputId": "aea9b24f-ea67-4822-cf53-10566dff1859"
      },
      "execution_count": 45,
      "outputs": [
        {
          "output_type": "stream",
          "name": "stdout",
          "text": [
            "+-----------+-----------+\n",
            "|pickup_date|pickup_time|\n",
            "+-----------+-----------+\n",
            "| 2009-01-01|          0|\n",
            "| 2009-01-01|         16|\n",
            "| 2009-01-01|         16|\n",
            "| 2009-01-01|          0|\n",
            "| 2009-01-01|          0|\n",
            "| 2009-01-01|          0|\n",
            "| 2009-01-01|         19|\n",
            "| 2009-01-01|         19|\n",
            "| 2009-01-01|         20|\n",
            "| 2008-12-31|         23|\n",
            "| 2008-12-31|         23|\n",
            "| 2008-12-31|         23|\n",
            "| 2009-01-01|          0|\n",
            "| 2009-01-01|          0|\n",
            "| 2009-01-01|          0|\n",
            "| 2009-01-01|          0|\n",
            "| 2009-01-01|          0|\n",
            "| 2009-01-01|          0|\n",
            "| 2009-01-01|          0|\n",
            "| 2009-01-01|          0|\n",
            "+-----------+-----------+\n",
            "only showing top 20 rows\n",
            "\n"
          ]
        }
      ]
    },
    {
      "cell_type": "code",
      "source": [
        "comb_df.select(\"total_amount\").describe().show()"
      ],
      "metadata": {
        "colab": {
          "base_uri": "https://localhost:8080/"
        },
        "id": "rAmaZZ-quHXP",
        "outputId": "d6e81173-a400-4742-c217-aff9e717c6cb"
      },
      "execution_count": 46,
      "outputs": [
        {
          "output_type": "stream",
          "name": "stdout",
          "text": [
            "+-------+------------------+\n",
            "|summary|      total_amount|\n",
            "+-------+------------------+\n",
            "|  count|          14417410|\n",
            "|   mean|18.619025350762502|\n",
            "| stddev|148.62450788281419|\n",
            "|    min|            -647.8|\n",
            "|    max|          398469.2|\n",
            "+-------+------------------+\n",
            "\n"
          ]
        }
      ]
    },
    {
      "cell_type": "code",
      "source": [
        "comb_df.select(\"trip_distance\").describe().show()"
      ],
      "metadata": {
        "colab": {
          "base_uri": "https://localhost:8080/"
        },
        "id": "xhYVbZPeuSk1",
        "outputId": "16eb3d5b-f5ae-474c-8506-7d3ef1ae8b83"
      },
      "execution_count": 47,
      "outputs": [
        {
          "output_type": "stream",
          "name": "stdout",
          "text": [
            "+-------+-----------------+\n",
            "|summary|    trip_distance|\n",
            "+-------+-----------------+\n",
            "|  count|         14417410|\n",
            "|   mean|5.871865292032283|\n",
            "| stddev|596.8236922677327|\n",
            "|    min|              0.0|\n",
            "|    max|        332541.19|\n",
            "+-------+-----------------+\n",
            "\n"
          ]
        }
      ]
    },
    {
      "cell_type": "code",
      "source": [
        "comb_df.select(\"passenger_count\").describe().show()"
      ],
      "metadata": {
        "colab": {
          "base_uri": "https://localhost:8080/"
        },
        "id": "RtuGox1GuU8d",
        "outputId": "bb21b6a2-fda5-456f-e737-c23030decbcc"
      },
      "execution_count": 48,
      "outputs": [
        {
          "output_type": "stream",
          "name": "stdout",
          "text": [
            "+-------+------------------+\n",
            "|summary|   passenger_count|\n",
            "+-------+------------------+\n",
            "|  count|          13714038|\n",
            "|   mean|1.4244646981436102|\n",
            "| stddev|1.0436164920743145|\n",
            "|    min|               0.0|\n",
            "|    max|               9.0|\n",
            "+-------+------------------+\n",
            "\n"
          ]
        }
      ]
    },
    {
      "cell_type": "code",
      "source": [
        "query = \"\"\"\n",
        "SELECT\n",
        "\t\tDATE_TRUNC('MM', c.pickup_date) AS month,\n",
        "\t\tCOUNT(*) AS trips\n",
        "FROM\n",
        "\t\tcomb c\n",
        "GROUP BY\n",
        "\t\tmonth\n",
        "ORDER BY\n",
        "\t\tmonth desc\n",
        "\"\"\"\n",
        "\n",
        "spark.sql(query).show()"
      ],
      "metadata": {
        "colab": {
          "base_uri": "https://localhost:8080/"
        },
        "id": "VLfsiu4yuttd",
        "outputId": "a16cb05e-23c1-4f57-ce15-9ea40ceb844a"
      },
      "execution_count": 49,
      "outputs": [
        {
          "output_type": "stream",
          "name": "stdout",
          "text": [
            "+-------------------+-------+\n",
            "|              month|  trips|\n",
            "+-------------------+-------+\n",
            "|2029-05-01 00:00:00|      1|\n",
            "|2021-12-01 00:00:00|      5|\n",
            "|2021-11-01 00:00:00|      5|\n",
            "|2021-10-01 00:00:00|      3|\n",
            "|2021-09-01 00:00:00|      3|\n",
            "|2021-08-01 00:00:00|      5|\n",
            "|2021-07-01 00:00:00|2238173|\n",
            "|2021-06-01 00:00:00|2834204|\n",
            "|2021-05-01 00:00:00|2507075|\n",
            "|2021-04-01 00:00:00|2171215|\n",
            "|2021-03-01 00:00:00|1925130|\n",
            "|2021-02-01 00:00:00|1371689|\n",
            "|2021-01-01 00:00:00|1369753|\n",
            "|2020-12-01 00:00:00|     16|\n",
            "|2009-01-01 00:00:00|    108|\n",
            "|2008-12-01 00:00:00|     22|\n",
            "|2004-04-01 00:00:00|      1|\n",
            "|2003-01-01 00:00:00|      1|\n",
            "|2002-12-01 00:00:00|      1|\n",
            "+-------------------+-------+\n",
            "\n"
          ]
        }
      ]
    },
    {
      "cell_type": "markdown",
      "source": [
        "Data Cleaning"
      ],
      "metadata": {
        "id": "eZXI1zlXvwMu"
      }
    },
    {
      "cell_type": "code",
      "source": [
        "query = \"\"\"\n",
        "SELECT\n",
        "\t\t*\n",
        "FROM\n",
        "\t\tcomb c\n",
        "WHERE\n",
        "\t\tc.total_amount < 5000\n",
        "\t\tAND c.total_amount > 0\n",
        "\t\tAND c.trip_distance < 100\n",
        "\t\tAND c.passenger_count < 4\n",
        "\t\tAND c.pickup_date >= '2021-01-01'\n",
        "\t\tAND c.pickup_date < '2021-08-01'\n",
        "\"\"\"\n",
        "\n",
        "cleaned_df = spark.sql(query)\n",
        "cleaned_df.createOrReplaceTempView(\"cleaned\")"
      ],
      "metadata": {
        "id": "1gQzo4N2vx4r"
      },
      "execution_count": 53,
      "outputs": []
    },
    {
      "cell_type": "code",
      "source": [
        "cleaned_df.describe().show()"
      ],
      "metadata": {
        "id": "Cyr0RbfGv58Z"
      },
      "execution_count": null,
      "outputs": []
    },
    {
      "cell_type": "markdown",
      "source": [
        "Graph"
      ],
      "metadata": {
        "id": "Slt90MwEv9Or"
      }
    },
    {
      "cell_type": "code",
      "source": [
        "import numpy as np\n",
        "import pandas as pd\n",
        "import seaborn as sns\n",
        "import matplotlib.pyplot as plt\n",
        "import matplotlib.dates as mdates"
      ],
      "metadata": {
        "id": "18VAutVlv-Ny"
      },
      "execution_count": 55,
      "outputs": []
    },
    {
      "cell_type": "code",
      "source": [
        "# 그래프1\n",
        "\n",
        "query = \"\"\"\n",
        "SELECT\n",
        "\t\tc.pickup_date,\n",
        "\t\tCOUNT(*) AS trips\n",
        "FROM\n",
        "\t\tcleaned c\n",
        "GROUP BY\n",
        "\t\tc.pickup_date\n",
        "\"\"\"\n",
        "\n",
        "pd_df = spark.sql(query).toPandas()"
      ],
      "metadata": {
        "id": "VlG669zbxls9"
      },
      "execution_count": null,
      "outputs": []
    },
    {
      "cell_type": "code",
      "source": [
        "fig, ax = plt.subplots(figsize=(16,6))\n",
        "sns.lineplot(x=\"pickup_date\", y=\"trips\", data = pd_df)"
      ],
      "metadata": {
        "id": "37w4KN6gxm_T"
      },
      "execution_count": null,
      "outputs": []
    },
    {
      "cell_type": "code",
      "source": [
        "# 그래프2\n",
        "\n",
        "query = \"\"\"\n",
        "SELECT\n",
        "\t\tc.pickup_date,\n",
        "\t\tDATE_FORMAT(c.pickup_date, 'EEEE') AS day_of_week,\n",
        "\t\tCOUNT(*) AS trips\n",
        "FROM\n",
        "\t\tcleaned c\n",
        "GROUP BY\n",
        "\t\tc.pickup_date,\n",
        "\t\tday_of_week\n",
        "\"\"\"\n",
        "\n",
        "pd_df2 = spark.sql(query).toPandas()"
      ],
      "metadata": {
        "id": "xY2Q3UvFyAF6"
      },
      "execution_count": null,
      "outputs": []
    },
    {
      "cell_type": "code",
      "source": [
        "data = pd_df2.groupby(\"day_of_week\").trips.median().to_frame().reset_index()\n",
        "data[\"sort_dow\"] = data[\"day_of_week\"].replace({\n",
        "\t\"Sunday\": 0,\n",
        "  \"Monday\": 1,\n",
        "  \"Tuesday\": 2,\n",
        "  \"Wednesday\": 3,\n",
        "  \"Thursday\": 4,\n",
        "  \"Friday\": 5,\n",
        "  \"Saturday\": 6\n",
        "})"
      ],
      "metadata": {
        "id": "Z0l7sGQ4yESE"
      },
      "execution_count": null,
      "outputs": []
    },
    {
      "cell_type": "code",
      "source": [
        "data.sort_values(by=\"sort_dow\", inplace=True)"
      ],
      "metadata": {
        "id": "t7ub6pHWyEwz"
      },
      "execution_count": null,
      "outputs": []
    },
    {
      "cell_type": "code",
      "source": [
        "fig, ax = plt.subplots(figsize=(12,5))\n",
        "sns.barplot(\n",
        "\t\tx=\"day_of_week\",\n",
        "\t\ty=\"trips\",\n",
        "\t\tdata=data\n",
        ")"
      ],
      "metadata": {
        "id": "xc3HCOMJyIJw"
      },
      "execution_count": null,
      "outputs": []
    },
    {
      "cell_type": "code",
      "source": [
        "# 그래프3\n",
        "\n",
        "def get_weekday(data):\n",
        "\t\timport calendar\n",
        "\t\treturn calendar.day_name[date.weekday()]\n",
        "\n",
        "spark.udf.register(\"get_weekday\", get_weekday)"
      ],
      "metadata": {
        "id": "h62bLFVyyJIT"
      },
      "execution_count": null,
      "outputs": []
    },
    {
      "cell_type": "code",
      "source": [
        "query = \"\"\"\n",
        "SELECT\n",
        "\t\tc.pickup_date,\n",
        "\t\tget_weekday(c.pickup_date) AS day_of_week,\n",
        "\t\tCOUNT(*) AS trips\n",
        "FROM\n",
        "\t\tcleaned c\n",
        "GROUP BY\n",
        "\t\tc.pickup_date,\n",
        "\t\tday_of_week\n",
        "\"\"\""
      ],
      "metadata": {
        "id": "92BV5BbsyK7r"
      },
      "execution_count": null,
      "outputs": []
    },
    {
      "cell_type": "code",
      "source": [
        "payment_type_to_string = {\n",
        "\t\t1: \"Credit Card\",\n",
        "    2: \"Cash\",\n",
        "    3: \"No Charge\",\n",
        "    4: \"Dispute\",\n",
        "    5: \"Unknown\",\n",
        "    6: \"Voided Trip\",\n",
        "}\n",
        "\n",
        "def parse_payment_type(payment_type):\n",
        "\t\treturn payment_type_to_string[payment_type]\n",
        "\n",
        "spark.udf.register(\"parse_payment_type\", parse_payment_type)"
      ],
      "metadata": {
        "id": "8K3ysDeSyL65"
      },
      "execution_count": null,
      "outputs": []
    },
    {
      "cell_type": "code",
      "source": [
        "query = \"\"\"\n",
        "SELECT \n",
        "    parse_payment_type(payment_type),\n",
        "    count(*) AS trips,\n",
        "    MEAN(fare_amount) AS mean_fare_amount,\n",
        "    STD(fare_amount) AS stdev_fare_amount\n",
        "FROM\n",
        "    cleaned\n",
        "GROUP BY\n",
        "    payment_type\n",
        "\"\"\"\n",
        "\n",
        "spark.sql(query).show()"
      ],
      "metadata": {
        "id": "vW-p75nNyOHm"
      },
      "execution_count": null,
      "outputs": []
    },
    {
      "cell_type": "code",
      "source": [
        "# # 사용 후 종료!\n",
        "\n",
        "# spark.stop()"
      ],
      "metadata": {
        "id": "0NT6QuRpqq3e"
      },
      "execution_count": 37,
      "outputs": []
    },
    {
      "cell_type": "markdown",
      "source": [
        "Reference\n",
        "\n",
        "\n",
        "https://spark.apache.org/docs/latest/api/python/#"
      ],
      "metadata": {
        "id": "iYwcJAVpggKs"
      }
    }
  ]
}