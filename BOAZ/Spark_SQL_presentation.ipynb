{
  "cells": [
    {
      "cell_type": "markdown",
      "metadata": {
        "id": "Bo6-sLtCMdpu"
      },
      "source": [
        "#**2. Spark SQL**"
      ]
    },
    {
      "cell_type": "markdown",
      "metadata": {
        "id": "OC0gH2pCMjfd"
      },
      "source": [
        "1. 목적\n",
        "  - 스파크 프로그래밍 내부에서 관계형 처리를 하기 위해\n",
        "  - 스키마의 정보를 이용해 자동으로 최적화를 하기 위해\n",
        "  - 외부 데이터셋을 사용하기 쉽게 하기 위해\n",
        "\n",
        "\n",
        "2. **DataFrame**\n",
        "  - Spark Core에 RDD가 있다면 Spark SQL엔 DataFrame 가 있음\n",
        "  - DataFrame은 테이블 데이터셋이라고 보면 됨\n",
        "  - 개념적으론 RDD에 스키마가 적용된 것\n",
        "  - 이점\n",
        "    - MLLib이나 Spark Streaming 같은 다른 Spark Module들과 사용하기 편함\n",
        "    - 최적화가 알아서 됨\n",
        "\n",
        "\n",
        "3. **SparkSession**\n",
        "  - Spark Core에 SparkContext가 있다면 Spark SQL엔 SparkSession 가 있음\n",
        "\n",
        "\n",
        "4. Spark에서 사용할 수 있는 SQL문\n",
        "  - Hive Query Language와 거의 동일\n",
        "      - Select\n",
        "      - From\n",
        "      - Where\n",
        "      - Count\n",
        "      - Having\n",
        "      - Group By\n",
        "      - Order By\n",
        "      - Sort By\n",
        "      - Distinct\n",
        "      - Join"
      ]
    },
    {
      "cell_type": "markdown",
      "metadata": {
        "id": "eV39LbT6Rpcj"
      },
      "source": [
        "####**SparkSession과 DataFrame생성**\n",
        "\n",
        "1. Spark Session\n",
        "\n",
        "`spark = SparkSession.builder.appName(\"test-app\").getOrCreate()`\n",
        "\n",
        "2. DataFrame\n",
        "- RDD에서 스키마를 정의한 다음 변형\n",
        "\n",
        "  - RDD를 만드는 부분\n",
        "\n",
        "    `lines = sc.textFile(\"example.csv\") 하나의 긴 텍스트\n",
        "    data = lines.map(lambda x : x.split(\",\"))\n",
        "    preprocessed = data.map(lambda x : Row(name = x[0], price=int(x[1])))`\n",
        "\n",
        "  - Infer 자동으로 유추해서 만드는 부분\n",
        "\n",
        "    `df = spark.createDataFrame(preprocessed)`\n",
        "\n",
        "  - Schema를 사용자가 정의\n",
        "\n",
        "      Specify 사용자가 스키마를 지정\n",
        "    \n",
        "      `schema = StructType(\n",
        "    StructField(\"name\", StringType(), True),\n",
        "    StructField(\"price\", StringType(), True)\n",
        "  )`\n",
        "\n",
        "    `spark.createDataFrame(preprocessed, schema).show()`\n",
        "\n",
        "- CSV, JSON등 파일로부터 데이터 받아오기\n",
        "\n",
        "  `dataframe = spark.read.json(json파일)`\n",
        "\n",
        "  `dataframe_txt = spark.read.text(txt파일)`\n",
        "\n",
        "  `dataframe_csv = spark.read.csv(csv파일)`\n",
        "\n",
        "  `dataframe_parquet = spark.read.load(parquet파일)`\n",
        "\n"
      ]
    },
    {
      "cell_type": "markdown",
      "metadata": {
        "id": "a-UHXPvcTnQr"
      },
      "source": [
        "####**createOrReplaceTempView**\n",
        "\n",
        "- DataFrame을 하나의 데이터베이스 테이블처럼 사용하려면 createOrReplaceTempView() 함수로 temporary view를 만들어줘야함(닉네임 지어주기)\n",
        "\n",
        "  `data.createOrReplaceTempView(\"mobility_data\")`\n",
        "\n",
        "  `spark.sql(\"SELECT pickup_datetime FFOM mobility_data LIMIT 5\").show()`"
      ]
    },
    {
      "cell_type": "code",
      "execution_count": 44,
      "metadata": {
        "colab": {
          "base_uri": "https://localhost:8080/"
        },
        "id": "1jw-4x2nIDD_",
        "outputId": "5638d342-8013-4db4-83ec-fce970f702ba"
      },
      "outputs": [
        {
          "output_type": "stream",
          "name": "stdout",
          "text": [
            "Mounted at ./mount\n"
          ]
        }
      ],
      "source": [
        "# mount Drive to access data files\n",
        "\n",
        "from google.colab import drive\n",
        "drive.mount('./mount')"
      ]
    },
    {
      "cell_type": "code",
      "execution_count": 45,
      "metadata": {
        "colab": {
          "base_uri": "https://localhost:8080/"
        },
        "id": "io7WGz81FX0h",
        "outputId": "11d12fec-9bea-44a7-b9be-737bff4bae22"
      },
      "outputs": [
        {
          "output_type": "stream",
          "name": "stdout",
          "text": [
            "Looking in indexes: https://pypi.org/simple, https://us-python.pkg.dev/colab-wheels/public/simple/\n",
            "Requirement already satisfied: pyspark in /usr/local/lib/python3.7/dist-packages (3.3.0)\n",
            "Requirement already satisfied: py4j==0.10.9.5 in /usr/local/lib/python3.7/dist-packages (from pyspark) (0.10.9.5)\n"
          ]
        }
      ],
      "source": [
        "pip install pyspark"
      ]
    },
    {
      "cell_type": "markdown",
      "metadata": {
        "id": "PM6NZtaV2G5u"
      },
      "source": [
        "1. Spark Instance 만들기"
      ]
    },
    {
      "cell_type": "code",
      "execution_count": 46,
      "metadata": {
        "id": "xSS1OGoi2D8S"
      },
      "outputs": [],
      "source": [
        "from pyspark.sql import SparkSession\n",
        "spark = SparkSession.builder.master(\"local\").appName(\"learn-sql\").getOrCreate()"
      ]
    },
    {
      "cell_type": "markdown",
      "metadata": {
        "id": "W8pvbaX12SgJ"
      },
      "source": [
        "2. 데이터"
      ]
    },
    {
      "cell_type": "code",
      "execution_count": 47,
      "metadata": {
        "id": "RLv3vKv12R0W"
      },
      "outputs": [],
      "source": [
        "stocks = [\n",
        "\t('Google', 'GOOGL', 'USA', 2984, 'USD'),\n",
        "\t('Netflix', 'NFLX', 'USA', 645, 'USD'),\n",
        "\t('Amazon', 'AMZN', 'USA', 3518, 'USD'),\n",
        "\t('Tesla', 'TSLA', 'USA', 1222, 'USD'),\n",
        "\t('Tencent', '0700', 'Hong Kong', 483, 'HKD'),\n",
        "\t('Toyota', '7203', 'Japan', 2006, 'JPY'),\n",
        "\t('Samsung', '005930', 'Korea', 70600, 'KRW'),\n",
        "\t('Kakao', '035720', 'Korea', 125000, 'KRW')\n",
        "]"
      ]
    },
    {
      "cell_type": "markdown",
      "metadata": {
        "id": "vSuo4iox2VFI"
      },
      "source": [
        "3. 스키마 생성"
      ]
    },
    {
      "cell_type": "code",
      "execution_count": 48,
      "metadata": {
        "id": "wveYJKZZ2Uv7"
      },
      "outputs": [],
      "source": [
        "stockSchema = [\"name\",\"ticker\",\"country\",\"price\",\"currency\"]"
      ]
    },
    {
      "cell_type": "markdown",
      "metadata": {
        "id": "B7_YwHSh2YPr"
      },
      "source": [
        "4. DataFrame 만들기"
      ]
    },
    {
      "cell_type": "code",
      "execution_count": 49,
      "metadata": {
        "colab": {
          "base_uri": "https://localhost:8080/"
        },
        "id": "yzYU7ARb2Zyp",
        "outputId": "6ab53e9b-0433-44fc-fce8-7f4b94f428e0"
      },
      "outputs": [
        {
          "output_type": "execute_result",
          "data": {
            "text/plain": [
              "[('name', 'string'),\n",
              " ('ticker', 'string'),\n",
              " ('country', 'string'),\n",
              " ('price', 'bigint'),\n",
              " ('currency', 'string')]"
            ]
          },
          "metadata": {},
          "execution_count": 49
        }
      ],
      "source": [
        "df = spark.createDataFrame(data = stocks, schema = stockSchema)\n",
        "\n",
        "# 데이터 타입 확인\n",
        "df.dtypes"
      ]
    },
    {
      "cell_type": "code",
      "execution_count": 50,
      "metadata": {
        "colab": {
          "base_uri": "https://localhost:8080/"
        },
        "id": "b2SJMKvf2opr",
        "outputId": "73c7755a-f1fa-44d6-b1f9-9ae15323b600"
      },
      "outputs": [
        {
          "output_type": "stream",
          "name": "stdout",
          "text": [
            "+-------+------+---------+------+--------+\n",
            "|   name|ticker|  country| price|currency|\n",
            "+-------+------+---------+------+--------+\n",
            "| Google| GOOGL|      USA|  2984|     USD|\n",
            "|Netflix|  NFLX|      USA|   645|     USD|\n",
            "| Amazon|  AMZN|      USA|  3518|     USD|\n",
            "|  Tesla|  TSLA|      USA|  1222|     USD|\n",
            "|Tencent|  0700|Hong Kong|   483|     HKD|\n",
            "| Toyota|  7203|    Japan|  2006|     JPY|\n",
            "|Samsung|005930|    Korea| 70600|     KRW|\n",
            "|  Kakao|035720|    Korea|125000|     KRW|\n",
            "+-------+------+---------+------+--------+\n",
            "\n"
          ]
        }
      ],
      "source": [
        "# 데이터 프레임 확인\n",
        "df.show()"
      ]
    },
    {
      "cell_type": "markdown",
      "metadata": {
        "id": "3qdgl2Lr22bl"
      },
      "source": [
        "5. Temporary View에 등록 - 닉네임 stocks"
      ]
    },
    {
      "cell_type": "code",
      "execution_count": 51,
      "metadata": {
        "id": "L9F9dzJj27fB"
      },
      "outputs": [],
      "source": [
        "df.createOrReplaceTempView(\"stocks\")"
      ]
    },
    {
      "cell_type": "markdown",
      "metadata": {
        "id": "Nh5cP4Es3Aq3"
      },
      "source": [
        "6. 회사 이름 가져오기"
      ]
    },
    {
      "cell_type": "code",
      "execution_count": 52,
      "metadata": {
        "colab": {
          "base_uri": "https://localhost:8080/"
        },
        "id": "TAOBr7yu3BsR",
        "outputId": "1ffe7dc9-c529-49da-d84c-1301a1f4f63e"
      },
      "outputs": [
        {
          "output_type": "stream",
          "name": "stdout",
          "text": [
            "+-------+\n",
            "|   name|\n",
            "+-------+\n",
            "| Google|\n",
            "|Netflix|\n",
            "| Amazon|\n",
            "|  Tesla|\n",
            "|Tencent|\n",
            "| Toyota|\n",
            "|Samsung|\n",
            "|  Kakao|\n",
            "+-------+\n",
            "\n"
          ]
        }
      ],
      "source": [
        "spark.sql(\"select name from stocks\").show()"
      ]
    },
    {
      "cell_type": "markdown",
      "metadata": {
        "id": "Lv8j9f7l3TQQ"
      },
      "source": [
        "7. 여러 개의 컬럼 가져오기"
      ]
    },
    {
      "cell_type": "code",
      "execution_count": 53,
      "metadata": {
        "colab": {
          "base_uri": "https://localhost:8080/"
        },
        "id": "Nci2e4rt3U7I",
        "outputId": "d2ff62ae-6f7e-40d5-b605-7c54e8087931"
      },
      "outputs": [
        {
          "output_type": "stream",
          "name": "stdout",
          "text": [
            "+-------+------+\n",
            "|   name| price|\n",
            "+-------+------+\n",
            "| Google|  2984|\n",
            "|Netflix|   645|\n",
            "| Amazon|  3518|\n",
            "|  Tesla|  1222|\n",
            "|Tencent|   483|\n",
            "| Toyota|  2006|\n",
            "|Samsung| 70600|\n",
            "|  Kakao|125000|\n",
            "+-------+------+\n",
            "\n"
          ]
        }
      ],
      "source": [
        "spark.sql(\"select name, price from stocks\").show()"
      ]
    },
    {
      "cell_type": "markdown",
      "metadata": {
        "id": "kyYNNAVS3bIi"
      },
      "source": [
        "8. 조건문"
      ]
    },
    {
      "cell_type": "code",
      "execution_count": 54,
      "metadata": {
        "colab": {
          "base_uri": "https://localhost:8080/"
        },
        "id": "GjdsF8B53ZOY",
        "outputId": "4eb75794-4afd-489b-9a69-4da2961a03cb"
      },
      "outputs": [
        {
          "output_type": "stream",
          "name": "stdout",
          "text": [
            "+-------+------+\n",
            "|   name| price|\n",
            "+-------+------+\n",
            "|Samsung| 70600|\n",
            "|  Kakao|125000|\n",
            "+-------+------+\n",
            "\n"
          ]
        }
      ],
      "source": [
        "# country가 Korea인 name, price 컬럼 가져오기\n",
        "\n",
        "spark.sql(\"select name, price from stocks where country = 'Korea'\").show()"
      ]
    },
    {
      "cell_type": "code",
      "execution_count": 55,
      "metadata": {
        "colab": {
          "base_uri": "https://localhost:8080/"
        },
        "id": "YjmEHLUs3n8y",
        "outputId": "0785fcf2-887c-4c29-f58a-d1ddcd6b15c2"
      },
      "outputs": [
        {
          "output_type": "stream",
          "name": "stdout",
          "text": [
            "+-------+------+\n",
            "|   name| price|\n",
            "+-------+------+\n",
            "| Google|  2984|\n",
            "| Amazon|  3518|\n",
            "| Toyota|  2006|\n",
            "|Samsung| 70600|\n",
            "|  Kakao|125000|\n",
            "+-------+------+\n",
            "\n"
          ]
        }
      ],
      "source": [
        "# price>2000인 name, price 컬럼 가져오기\n",
        "\n",
        "spark.sql(\"select name, price from stocks where price > 2000\").show()"
      ]
    },
    {
      "cell_type": "code",
      "execution_count": 56,
      "metadata": {
        "colab": {
          "base_uri": "https://localhost:8080/"
        },
        "id": "JGxE0ctY3vhT",
        "outputId": "bb662954-258d-40a9-94c5-eb68c843094c"
      },
      "outputs": [
        {
          "output_type": "stream",
          "name": "stdout",
          "text": [
            "+------+-----+\n",
            "|  name|price|\n",
            "+------+-----+\n",
            "|Google| 2984|\n",
            "|Amazon| 3518|\n",
            "+------+-----+\n",
            "\n"
          ]
        }
      ],
      "source": [
        "# price>2000이면서 country가 USA인 name, price 컬럼 가져오기\n",
        "\n",
        "spark.sql(\"select name,price from stocks where price>2000 and country = 'USA'\").show()"
      ]
    },
    {
      "cell_type": "markdown",
      "metadata": {
        "id": "DuirB-6_4LfH"
      },
      "source": [
        "9. like : String에서 유용하게 쓰임"
      ]
    },
    {
      "cell_type": "code",
      "execution_count": 57,
      "metadata": {
        "colab": {
          "base_uri": "https://localhost:8080/"
        },
        "id": "iImsksfQ4PYg",
        "outputId": "0c0261af-ccab-4ded-830c-d25ee0cdb09c"
      },
      "outputs": [
        {
          "output_type": "stream",
          "name": "stdout",
          "text": [
            "+-------+-----+\n",
            "|   name|price|\n",
            "+-------+-----+\n",
            "| Google| 2984|\n",
            "|Netflix|  645|\n",
            "| Amazon| 3518|\n",
            "|  Tesla| 1222|\n",
            "+-------+-----+\n",
            "\n"
          ]
        }
      ],
      "source": [
        "# U로 시작하는 나라의 name,price 컬럼 가져오기\n",
        "\n",
        "spark.sql(\"select name, price from stocks where country like 'U%'\").show()"
      ]
    },
    {
      "cell_type": "code",
      "execution_count": 58,
      "metadata": {
        "colab": {
          "base_uri": "https://localhost:8080/"
        },
        "id": "qQp-xiJe43uX",
        "outputId": "6ebcb438-5a9b-49e9-9fec-b30634b03b54"
      },
      "outputs": [
        {
          "output_type": "stream",
          "name": "stdout",
          "text": [
            "+------+-----+\n",
            "|  name|price|\n",
            "+------+-----+\n",
            "|Amazon| 3518|\n",
            "+------+-----+\n",
            "\n"
          ]
        }
      ],
      "source": [
        "# U로 시작하는 나라, 회사 이름에서 e가 없는 곳의 name, price 컬럼 가져오기\n",
        "\n",
        "spark.sql(\"select name, price from stocks where country like 'U%' and name not like '%e%'\").show()"
      ]
    },
    {
      "cell_type": "markdown",
      "metadata": {
        "id": "BF4fLJ0d5MG9"
      },
      "source": [
        "10. between"
      ]
    },
    {
      "cell_type": "code",
      "execution_count": 59,
      "metadata": {
        "colab": {
          "base_uri": "https://localhost:8080/"
        },
        "id": "W9go6Za55QLB",
        "outputId": "1b46d23c-3760-474f-955c-d887801ebd5b"
      },
      "outputs": [
        {
          "output_type": "stream",
          "name": "stdout",
          "text": [
            "+------+-----+\n",
            "|  name|price|\n",
            "+------+-----+\n",
            "|Google| 2984|\n",
            "|Amazon| 3518|\n",
            "| Tesla| 1222|\n",
            "|Toyota| 2006|\n",
            "+------+-----+\n",
            "\n"
          ]
        }
      ],
      "source": [
        "# 1000<price<10000 인 name, price 컬럼 가져오기\n",
        "\n",
        "spark.sql(\"select name, price from stocks where price between 1000 and 10000\").show()"
      ]
    },
    {
      "cell_type": "markdown",
      "metadata": {
        "id": "hXVFYZLM5Y-W"
      },
      "source": [
        "11. 중첩 사용"
      ]
    },
    {
      "cell_type": "code",
      "execution_count": 60,
      "metadata": {
        "colab": {
          "base_uri": "https://localhost:8080/"
        },
        "id": "pCRqKgQI4Y6M",
        "outputId": "966c5e60-424a-4960-a046-43e217b032bc"
      },
      "outputs": [
        {
          "output_type": "stream",
          "name": "stdout",
          "text": [
            "+------+-----+--------+\n",
            "|  name|price|currency|\n",
            "+------+-----+--------+\n",
            "|Google| 2984|     USD|\n",
            "|Amazon| 3518|     USD|\n",
            "+------+-----+--------+\n",
            "\n"
          ]
        }
      ],
      "source": [
        "# Tesla보다 비싸며 currency가 USD인 name,price,currency 컬럼 가져오기\n",
        "\n",
        "spark.sql(\"select name, price, currency from stocks \\\n",
        "where currency = 'USD' and price > (select price from stocks where name = 'Tesla')\").show()"
      ]
    },
    {
      "cell_type": "markdown",
      "metadata": {
        "id": "A766mUG7AiY2"
      },
      "source": [
        "12. order by"
      ]
    },
    {
      "cell_type": "code",
      "execution_count": 61,
      "metadata": {
        "colab": {
          "base_uri": "https://localhost:8080/"
        },
        "id": "T_7HzWuB4KJ7",
        "outputId": "d62df2a7-c133-4d0a-ee16-66c5c8757a9a"
      },
      "outputs": [
        {
          "output_type": "stream",
          "name": "stdout",
          "text": [
            "+-------+------+\n",
            "|   name| price|\n",
            "+-------+------+\n",
            "|Tencent|   483|\n",
            "|Netflix|   645|\n",
            "|  Tesla|  1222|\n",
            "| Toyota|  2006|\n",
            "| Google|  2984|\n",
            "| Amazon|  3518|\n",
            "|Samsung| 70600|\n",
            "|  Kakao|125000|\n",
            "+-------+------+\n",
            "\n"
          ]
        }
      ],
      "source": [
        "#오름차순\n",
        "\n",
        "spark.sql(\"select name, price from stocks order by price asc\").show()"
      ]
    },
    {
      "cell_type": "code",
      "execution_count": 62,
      "metadata": {
        "colab": {
          "base_uri": "https://localhost:8080/"
        },
        "id": "ZrZ4Fnaw3hXv",
        "outputId": "792abf28-3bc2-4171-a12a-2d7003c4ccfd"
      },
      "outputs": [
        {
          "output_type": "stream",
          "name": "stdout",
          "text": [
            "+-------+------+\n",
            "|   name| price|\n",
            "+-------+------+\n",
            "|  Kakao|125000|\n",
            "|Samsung| 70600|\n",
            "| Amazon|  3518|\n",
            "| Google|  2984|\n",
            "| Toyota|  2006|\n",
            "|  Tesla|  1222|\n",
            "|Netflix|   645|\n",
            "|Tencent|   483|\n",
            "+-------+------+\n",
            "\n"
          ]
        }
      ],
      "source": [
        "#내림차순\n",
        "\n",
        "spark.sql(\"select name, price from stocks order by price desc\").show()"
      ]
    },
    {
      "cell_type": "code",
      "execution_count": 63,
      "metadata": {
        "colab": {
          "base_uri": "https://localhost:8080/"
        },
        "id": "e3vMSsobS5OI",
        "outputId": "4f0fd2c6-5150-48db-eefe-9900d3730161"
      },
      "outputs": [
        {
          "output_type": "stream",
          "name": "stdout",
          "text": [
            "+-------+------+\n",
            "|   name| price|\n",
            "+-------+------+\n",
            "|  Tesla|  1222|\n",
            "|  Kakao|125000|\n",
            "| Amazon|  3518|\n",
            "| Toyota|  2006|\n",
            "| Google|  2984|\n",
            "|Netflix|   645|\n",
            "|Samsung| 70600|\n",
            "|Tencent|   483|\n",
            "+-------+------+\n",
            "\n"
          ]
        }
      ],
      "source": [
        "#회사 길이의 순서대로\n",
        "\n",
        "spark.sql(\"select name, price from stocks order by length(name)\").show()"
      ]
    },
    {
      "cell_type": "markdown",
      "metadata": {
        "id": "BMczZD3gA412"
      },
      "source": [
        "13. grouping aggregate"
      ]
    },
    {
      "cell_type": "code",
      "execution_count": 64,
      "metadata": {
        "colab": {
          "base_uri": "https://localhost:8080/"
        },
        "id": "ArmjagZbA68F",
        "outputId": "fa9e8057-7808-4924-ca04-3286c5744ac1"
      },
      "outputs": [
        {
          "output_type": "stream",
          "name": "stdout",
          "text": [
            "+----------+\n",
            "|sum(price)|\n",
            "+----------+\n",
            "|    195600|\n",
            "+----------+\n",
            "\n"
          ]
        }
      ],
      "source": [
        "#합\n",
        "\n",
        "spark.sql(\"select sum(price) from stocks where country = 'Korea'\").show()"
      ]
    },
    {
      "cell_type": "code",
      "execution_count": 65,
      "metadata": {
        "colab": {
          "base_uri": "https://localhost:8080/"
        },
        "id": "OeTk0EC8A8hU",
        "outputId": "bf58be2e-b2ec-44d7-82ec-b8ab4158698a"
      },
      "outputs": [
        {
          "output_type": "stream",
          "name": "stdout",
          "text": [
            "+-----------+\n",
            "|mean(price)|\n",
            "+-----------+\n",
            "|    97800.0|\n",
            "+-----------+\n",
            "\n"
          ]
        }
      ],
      "source": [
        "#평균\n",
        "\n",
        "spark.sql(\"select mean(price) from stocks where country = 'Korea'\").show()"
      ]
    },
    {
      "cell_type": "code",
      "execution_count": 66,
      "metadata": {
        "colab": {
          "base_uri": "https://localhost:8080/"
        },
        "id": "qyU2g60iBCbP",
        "outputId": "f092fecc-5d22-4750-f78d-2997be162adc"
      },
      "outputs": [
        {
          "output_type": "stream",
          "name": "stdout",
          "text": [
            "+------------+\n",
            "|count(price)|\n",
            "+------------+\n",
            "|           2|\n",
            "+------------+\n",
            "\n"
          ]
        }
      ],
      "source": [
        "#'Korea' 값이 몇개인지\n",
        "\n",
        "spark.sql(\"select count(price) from stocks where country = 'Korea'\").show()"
      ]
    },
    {
      "cell_type": "markdown",
      "metadata": {
        "id": "Qd8ZrHaBDFn2"
      },
      "source": [
        "14. in"
      ]
    },
    {
      "cell_type": "code",
      "execution_count": 67,
      "metadata": {
        "colab": {
          "base_uri": "https://localhost:8080/"
        },
        "id": "wXYUurhXDGuO",
        "outputId": "bf86655b-64dd-44be-a6f9-806aad71bd3d"
      },
      "outputs": [
        {
          "output_type": "stream",
          "name": "stdout",
          "text": [
            "+------------+\n",
            "|count(price)|\n",
            "+------------+\n",
            "|           6|\n",
            "+------------+\n",
            "\n"
          ]
        }
      ],
      "source": [
        "#USA, Korea 가 몇개인지\n",
        "\n",
        "spark.sql(\"select count(price) from stocks where country in ('Korea', 'USA')\").show()"
      ]
    },
    {
      "cell_type": "markdown",
      "metadata": {
        "id": "adWPWNZjDLMu"
      },
      "source": [
        "15. join : 여러개의 테이블 다루기 (실무에선 여러개의 테이블의 데이터를 씀 -> 유용함)"
      ]
    },
    {
      "cell_type": "code",
      "execution_count": 68,
      "metadata": {
        "id": "3CT2i_kXDKek"
      },
      "outputs": [],
      "source": [
        "# 새로운 데이터 가져오기\n",
        "earnings = [\n",
        "('Google', 27.99, 'USD'),\n",
        "('Netflix', 2.56, 'USD'),\n",
        "('Amazon', 6.12, 'USD'),\n",
        "('Tesla', 1.86, 'USD'),\n",
        "('Tencent', 11.01, 'HKD'),\n",
        "('Toyota', 224.82, 'JPY'),\n",
        "('Samsung', 1780., 'KRW'),\n",
        "('Kakao', 705., 'KRW')\n",
        "]\n",
        "\n",
        "#직접 스키마의 타입 정하기\n",
        "from pyspark.sql.types import StringType, FloatType, StructType, StructField\n",
        "\n",
        "earningsSchema = StructType([\n",
        "\tStructField(\"name\", StringType(), True),\n",
        "\tStructField(\"eps\", FloatType(), True),\n",
        "\tStructField(\"currency\", StringType(), True)\n",
        "])\n",
        "\n",
        "\n",
        "earningsDF = spark.createDataFrame(data = earnings, schema = earningsSchema)"
      ]
    },
    {
      "cell_type": "code",
      "execution_count": 69,
      "metadata": {
        "colab": {
          "base_uri": "https://localhost:8080/"
        },
        "id": "VCJjVwddDlAw",
        "outputId": "28977f1c-50c4-4d16-af49-2732988e5b20"
      },
      "outputs": [
        {
          "output_type": "execute_result",
          "data": {
            "text/plain": [
              "[('name', 'string'), ('eps', 'float'), ('currency', 'string')]"
            ]
          },
          "metadata": {},
          "execution_count": 69
        }
      ],
      "source": [
        "#데이터프레임 스키마 타입 확인하기\n",
        "\n",
        "earningsDF.dtypes"
      ]
    },
    {
      "cell_type": "code",
      "execution_count": 70,
      "metadata": {
        "id": "_SIhppW6Doid"
      },
      "outputs": [],
      "source": [
        "earningsDF.createOrReplaceTempView(\"earnings\")"
      ]
    },
    {
      "cell_type": "code",
      "execution_count": 71,
      "metadata": {
        "colab": {
          "base_uri": "https://localhost:8080/"
        },
        "id": "AXlFvx7qDpwI",
        "outputId": "29758cbd-f9a7-4244-cf31-b632a85074bb"
      },
      "outputs": [
        {
          "output_type": "stream",
          "name": "stdout",
          "text": [
            "+-------+------+--------+\n",
            "|   name|   eps|currency|\n",
            "+-------+------+--------+\n",
            "| Google| 27.99|     USD|\n",
            "|Netflix|  2.56|     USD|\n",
            "| Amazon|  6.12|     USD|\n",
            "|  Tesla|  1.86|     USD|\n",
            "|Tencent| 11.01|     HKD|\n",
            "| Toyota|224.82|     JPY|\n",
            "|Samsung|1780.0|     KRW|\n",
            "|  Kakao| 705.0|     KRW|\n",
            "+-------+------+--------+\n",
            "\n"
          ]
        }
      ],
      "source": [
        "#데이터프레임 데이터 보기\n",
        "\n",
        "earningsDF.select(\"*\").show()"
      ]
    },
    {
      "cell_type": "markdown",
      "metadata": {
        "id": "MM_1Ui76Dx1L"
      },
      "source": [
        "Inner Join"
      ]
    },
    {
      "cell_type": "code",
      "execution_count": 72,
      "metadata": {
        "colab": {
          "base_uri": "https://localhost:8080/"
        },
        "id": "9TuAbLbGDzBk",
        "outputId": "5eff6756-8869-4103-b48d-c3a224f958e5"
      },
      "outputs": [
        {
          "output_type": "stream",
          "name": "stdout",
          "text": [
            "+-------+------+---------+------+--------+-------+------+--------+\n",
            "|   name|ticker|  country| price|currency|   name|   eps|currency|\n",
            "+-------+------+---------+------+--------+-------+------+--------+\n",
            "| Amazon|  AMZN|      USA|  3518|     USD| Amazon|  6.12|     USD|\n",
            "| Google| GOOGL|      USA|  2984|     USD| Google| 27.99|     USD|\n",
            "|  Kakao|035720|    Korea|125000|     KRW|  Kakao| 705.0|     KRW|\n",
            "|Netflix|  NFLX|      USA|   645|     USD|Netflix|  2.56|     USD|\n",
            "|Samsung|005930|    Korea| 70600|     KRW|Samsung|1780.0|     KRW|\n",
            "|Tencent|  0700|Hong Kong|   483|     HKD|Tencent| 11.01|     HKD|\n",
            "|  Tesla|  TSLA|      USA|  1222|     USD|  Tesla|  1.86|     USD|\n",
            "| Toyota|  7203|    Japan|  2006|     JPY| Toyota|224.82|     JPY|\n",
            "+-------+------+---------+------+--------+-------+------+--------+\n",
            "\n"
          ]
        }
      ],
      "source": [
        "# join의 기준 : stocks.name = earnings.name\n",
        "\n",
        "spark.sql(\"select * from stocks join earnings on stocks.name = earnings.name\").show()"
      ]
    },
    {
      "cell_type": "code",
      "execution_count": 73,
      "metadata": {
        "colab": {
          "base_uri": "https://localhost:8080/"
        },
        "id": "cYq5JR-lD2Tu",
        "outputId": "b36f5a55-2104-43aa-c823-b1ff9c5e4201"
      },
      "outputs": [
        {
          "output_type": "stream",
          "name": "stdout",
          "text": [
            "+-------+------------------+\n",
            "|   name|     (price / eps)|\n",
            "+-------+------------------+\n",
            "| Amazon| 574.8366120563447|\n",
            "| Google| 106.6095042658442|\n",
            "|  Kakao| 177.3049645390071|\n",
            "|Netflix| 251.9531306315913|\n",
            "|Samsung|39.662921348314605|\n",
            "|Tencent| 43.86920889728746|\n",
            "|  Tesla|  656.989242258975|\n",
            "| Toyota| 8.922693419839167|\n",
            "+-------+------------------+\n",
            "\n"
          ]
        }
      ],
      "source": [
        "#PER(Price-earnings ratio) : Price / EPS\n",
        "\n",
        "spark.sql(\"select stocks.name, (stocks.price/earnings.eps) from stocks join earnings on stocks.name = earnings.name\").show()"
      ]
    },
    {
      "cell_type": "code",
      "execution_count": 74,
      "metadata": {
        "id": "lRi9ifxrGN2Z"
      },
      "outputs": [],
      "source": [
        "# 사용 후 종료!\n",
        "\n",
        "spark.stop()"
      ]
    },
    {
      "cell_type": "markdown",
      "metadata": {
        "id": "0ZbaP6N8jRLw"
      },
      "source": [
        "##**실습**\n",
        "\n",
        "###Data : TLC Trip Record Data\n",
        "- 10+년 이상의 택시와 모빌리티 서비스 기록\n",
        "- 매년 20GB씩 쌓임\n",
        "- https://www1.nyc.gov/site/tlc/about/tlc-trip-record-data.page\n",
        "\n",
        "####데이터 정보\n",
        "- hvfhs_license_num : 회사 면허 번호\n",
        "- dispatching_base_num : 지역 라이센스 번호\n",
        "- pickup_datetime : 승차 시간\n",
        "- dropoff_datetime : 하차 시간\n",
        "- PULocationID : 승차 지역 ID\n",
        "- DOLocationID : 하차 지역 ID\n",
        "- SR_Flag : 합승 여부 Flag"
      ]
    },
    {
      "cell_type": "code",
      "execution_count": 75,
      "metadata": {
        "colab": {
          "base_uri": "https://localhost:8080/"
        },
        "id": "Wm28-iENjPdR",
        "outputId": "ea0002af-b02a-4694-ed3a-9faba71b775f"
      },
      "outputs": [
        {
          "output_type": "stream",
          "name": "stdout",
          "text": [
            "Mounted at /content/drive\n"
          ]
        }
      ],
      "source": [
        "from google.colab import drive\n",
        "drive.mount('/content/drive')"
      ]
    },
    {
      "cell_type": "code",
      "execution_count": 76,
      "metadata": {
        "id": "LmGdHc-2ix5K"
      },
      "outputs": [],
      "source": [
        "from pyspark.sql import SparkSession\n",
        "\n",
        "spark = SparkSession.builder.appName(\"taxi-analysis\").getOrCreate()"
      ]
    },
    {
      "cell_type": "code",
      "execution_count": 77,
      "metadata": {
        "id": "SpOrSIwgHAi3"
      },
      "outputs": [],
      "source": [
        "# 시간 소요\n",
        "\n",
        "# 데이터\n",
        "\n",
        "trip_files = \"/content/drive/MyDrive/Colab Notebooks/2022/BOAZ/학기 세션/trips/*\"\n",
        "zone_file = \"/content/drive/MyDrive/Colab Notebooks/2022/BOAZ/학기 세션/taxi+_zone_lookup.csv\"\n",
        "\n",
        "# df생성\n",
        "trips_df = spark.read.csv(trip_files, inferSchema = True, header = True)\n",
        "zone_df = spark.read.csv(zone_file, inferSchema = True, header = True)"
      ]
    },
    {
      "cell_type": "code",
      "execution_count": 78,
      "metadata": {
        "colab": {
          "base_uri": "https://localhost:8080/"
        },
        "id": "B0XVh-KkkpfV",
        "outputId": "f5c937ff-9a5e-4ded-eb5b-cdde057472e7"
      },
      "outputs": [
        {
          "output_type": "stream",
          "name": "stdout",
          "text": [
            "root\n",
            " |-- _c0: integer (nullable = true)\n",
            " |-- VendorID: integer (nullable = true)\n",
            " |-- tpep_pickup_datetime: timestamp (nullable = true)\n",
            " |-- tpep_dropoff_datetime: timestamp (nullable = true)\n",
            " |-- passenger_count: double (nullable = true)\n",
            " |-- trip_distance: double (nullable = true)\n",
            " |-- RatecodeID: double (nullable = true)\n",
            " |-- store_and_fwd_flag: string (nullable = true)\n",
            " |-- PULocationID: integer (nullable = true)\n",
            " |-- DOLocationID: integer (nullable = true)\n",
            " |-- payment_type: integer (nullable = true)\n",
            " |-- fare_amount: double (nullable = true)\n",
            " |-- extra: double (nullable = true)\n",
            " |-- mta_tax: double (nullable = true)\n",
            " |-- tip_amount: double (nullable = true)\n",
            " |-- tolls_amount: double (nullable = true)\n",
            " |-- improvement_surcharge: double (nullable = true)\n",
            " |-- total_amount: double (nullable = true)\n",
            " |-- congestion_surcharge: double (nullable = true)\n",
            " |-- airport_fee: double (nullable = true)\n",
            "\n",
            "root\n",
            " |-- LocationID: integer (nullable = true)\n",
            " |-- Borough: string (nullable = true)\n",
            " |-- Zone: string (nullable = true)\n",
            " |-- service_zone: string (nullable = true)\n",
            "\n"
          ]
        }
      ],
      "source": [
        "# 스키마 확인\n",
        "\n",
        "trips_df.printSchema()\n",
        "zone_df.printSchema()"
      ]
    },
    {
      "cell_type": "code",
      "execution_count": 79,
      "metadata": {
        "id": "f2fWsLCrIwrT"
      },
      "outputs": [],
      "source": [
        "# temporary view 만들기 : trips과 zone의 닉네임을 가짐\n",
        "\n",
        "trips_df.createOrReplaceTempView(\"trips\")\n",
        "zone_df.createOrReplaceTempView(\"zone\")"
      ]
    },
    {
      "cell_type": "code",
      "execution_count": 80,
      "metadata": {
        "id": "PD7nDzFuIyXQ",
        "colab": {
          "base_uri": "https://localhost:8080/"
        },
        "outputId": "8a090a41-fec2-477d-c163-848a2ee74ad4"
      },
      "outputs": [
        {
          "output_type": "stream",
          "name": "stdout",
          "text": [
            "+---------+-----------+------------+-----------+------------+---------------+-------------+-----------+----------+------------+------------+------------+--------------------+--------------------+\n",
            "|vendor_id|pickup_date|dropoff_date|pickup_time|dropoff_time|passenger_count|trip_distance|fare_amount|tip_amount|tolls_amount|total_amount|payment_type|         pickup_zone|        dropoff_zone|\n",
            "+---------+-----------+------------+-----------+------------+---------------+-------------+-----------+----------+------------+------------+------------+--------------------+--------------------+\n",
            "|        1| 2021-01-01|  2021-01-01|          0|           0|            1.0|          2.1|        8.0|       0.0|         0.0|        11.8|           2| Lincoln Square East|        Central Park|\n",
            "|        1| 2021-01-01|  2021-01-01|          0|           0|            1.0|          0.2|        3.0|       0.0|         0.0|         4.3|           2|Upper West Side N...|    Manhattan Valley|\n",
            "|        1| 2021-01-01|  2021-01-01|          0|           1|            1.0|         14.7|       42.0|      8.65|         0.0|       51.95|           1|         JFK Airport|             Midwood|\n",
            "|        1| 2021-01-01|  2021-01-01|          0|           0|            0.0|         10.6|       29.0|      6.05|         0.0|       36.35|           1|   LaGuardia Airport|         JFK Airport|\n",
            "|        2| 2021-01-01|  2021-01-01|          0|           0|            1.0|         4.94|       16.5|      4.06|         0.0|       24.36|           1|        East Chelsea|    Brooklyn Heights|\n",
            "|        1| 2021-01-01|  2021-01-01|          0|           0|            1.0|          1.6|        8.0|      2.35|         0.0|       14.15|           1|Stuy Town/Peter C...|        East Chelsea|\n",
            "|        1| 2021-01-01|  2021-01-01|          0|           0|            1.0|          4.1|       16.0|       0.0|         0.0|        17.3|           2|        Forest Hills|             Maspeth|\n",
            "|        1| 2021-01-01|  2021-01-01|          0|           0|            1.0|          5.7|       18.0|       0.0|         0.0|        21.8|           2|            Flatiron|     Carroll Gardens|\n",
            "|        1| 2021-01-01|  2021-01-01|          0|           1|            1.0|          9.1|       27.5|       0.0|         0.0|        28.8|           4|         Fort Greene|     Jackson Heights|\n",
            "|        1| 2021-01-01|  2021-01-01|          0|           0|            2.0|          2.7|       12.0|      3.15|         0.0|       18.95|           1|      Yorkville West| Lincoln Square East|\n",
            "|        2| 2021-01-01|  2021-01-01|          0|           0|            3.0|         6.11|       20.5|       0.0|         0.0|        24.3|           1|       Midtown South|Williamsburg (Nor...|\n",
            "|        2| 2021-01-01|  2021-01-01|          0|           0|            2.0|         1.21|        7.0|      2.49|         0.0|       10.79|           1|Williamsburg (Nor...|   East Williamsburg|\n",
            "|        1| 2021-01-01|  2021-01-01|          0|           0|            2.0|          7.4|       24.5|       0.0|        6.12|       33.92|           2|   LaGuardia Airport| Morningside Heights|\n",
            "|        2| 2021-01-01|  2021-01-01|          0|           0|            5.0|          1.7|        8.0|      2.36|         0.0|       14.16|           1| Lincoln Square East|        Clinton West|\n",
            "|        2| 2021-01-01|  2021-01-01|          0|           0|            5.0|         0.81|        4.5|       0.0|         0.0|         8.3|           2|        Clinton West| Lincoln Square East|\n",
            "|        2| 2021-01-01|  2021-01-01|          0|           0|            1.0|         1.01|        5.5|       1.0|         0.0|        10.3|           1|Upper East Side N...|Upper East Side S...|\n",
            "|        2| 2021-01-01|  2021-01-01|          0|           0|            1.0|         0.73|        5.5|      2.79|         0.0|       12.09|           1| Lincoln Square East|Upper West Side S...|\n",
            "|        2| 2021-01-01|  2021-01-01|          0|           0|            1.0|         1.17|        6.5|      2.06|         0.0|       12.36|           1|Upper West Side N...| Morningside Heights|\n",
            "|        2| 2021-01-01|  2021-01-01|          0|           0|            1.0|         0.78|        4.5|      1.66|         0.0|        9.96|           1|Upper West Side S...|Upper West Side N...|\n",
            "|        2| 2021-01-01|  2021-01-01|          0|           0|            2.0|         1.66|        8.5|       0.0|         0.0|        12.3|           2|    Manhattan Valley| Lincoln Square East|\n",
            "+---------+-----------+------------+-----------+------------+---------------+-------------+-----------+----------+------------+------------+------------+--------------------+--------------------+\n",
            "only showing top 20 rows\n",
            "\n"
          ]
        }
      ],
      "source": [
        "\n",
        "# from : trips t라는 닉네임\n",
        "# LEFT JOIN : TRIP을 잃지 않기 위해, 기준 : pickup location ID를 기준으로, z의 location ID, pickup location과 dropoff location도 확인하고 싶음\n",
        "\n",
        "# date만 추출(시간 제외)\n",
        "# 시간대만 추출\n",
        "\n",
        "query = \"\"\"\n",
        "SELECT\n",
        "\tt.VendorID as vendor_id,\n",
        "  TO_DATE(t.tpep_pickup_datetime) as pickup_date, \n",
        "  TO_DATE(t.tpep_dropoff_datetime) as dropoff_date,\n",
        "  HOUR(t.tpep_pickup_datetime) as pickup_time, \n",
        "  HOUR(t.tpep_dropoff_datetime) as dropoff_time,\n",
        "  t.passenger_count,\n",
        "  t.trip_distance,\n",
        "  t.fare_amount,\n",
        "  t.tip_amount,\n",
        "  t.tolls_amount,\n",
        "  t.total_amount,\n",
        "  t.payment_type,\n",
        "  pz.Zone as pickup_zone,\n",
        "  dz.Zone as dropoff_zone\n",
        "FROM\n",
        "\ttrips t\n",
        "\tLEFT JOIN\n",
        "\t\tzone pz\n",
        "\tON\n",
        "\t\tt.PULocationID = pz.LocationID\n",
        "\tLEFT JOIN\n",
        "\t\tzone dz\n",
        "\tON\n",
        "\t\tt.DOLocationID = dz.LocationID\n",
        "\"\"\"\n",
        "\n",
        "\n",
        "comb_df = spark.sql(query)\n",
        "comb_df.createOrReplaceTempView(\"comb\")\n",
        "comb_df.show()"
      ]
    },
    {
      "cell_type": "code",
      "execution_count": 81,
      "metadata": {
        "colab": {
          "base_uri": "https://localhost:8080/"
        },
        "id": "YtaMpJVKt_no",
        "outputId": "827bcbb9-9948-47a5-d760-e28fa47571ad"
      },
      "outputs": [
        {
          "output_type": "stream",
          "name": "stdout",
          "text": [
            "root\n",
            " |-- vendor_id: integer (nullable = true)\n",
            " |-- pickup_date: date (nullable = true)\n",
            " |-- dropoff_date: date (nullable = true)\n",
            " |-- pickup_time: integer (nullable = true)\n",
            " |-- dropoff_time: integer (nullable = true)\n",
            " |-- passenger_count: double (nullable = true)\n",
            " |-- trip_distance: double (nullable = true)\n",
            " |-- fare_amount: double (nullable = true)\n",
            " |-- tip_amount: double (nullable = true)\n",
            " |-- tolls_amount: double (nullable = true)\n",
            " |-- total_amount: double (nullable = true)\n",
            " |-- payment_type: integer (nullable = true)\n",
            " |-- pickup_zone: string (nullable = true)\n",
            " |-- dropoff_zone: string (nullable = true)\n",
            "\n"
          ]
        }
      ],
      "source": [
        "# 스키마 확인\n",
        "\n",
        "comb_df.printSchema()"
      ]
    },
    {
      "cell_type": "markdown",
      "source": [
        "데이터가 얼마나 정리가 잘 되어있는지 확인하는 과정"
      ],
      "metadata": {
        "id": "8JhbnnG2iQkt"
      }
    },
    {
      "cell_type": "markdown",
      "source": [
        "**결과 1**\n",
        "\n",
        "우리의 데이터는 2021년 1~5월 데이터 -> 12월 31일에 탑승 후 1월1일에 하차한 것으로 추측\n",
        "\n"
      ],
      "metadata": {
        "id": "qxPXB8VJ5rKD"
      }
    },
    {
      "cell_type": "code",
      "execution_count": 82,
      "metadata": {
        "colab": {
          "base_uri": "https://localhost:8080/"
        },
        "id": "eb0NG19ZuB59",
        "outputId": "b88bcbe9-436a-45f1-c2ae-609e29f59233"
      },
      "outputs": [
        {
          "output_type": "stream",
          "name": "stdout",
          "text": [
            "+-----------+-----------+\n",
            "|pickup_date|pickup_time|\n",
            "+-----------+-----------+\n",
            "| 2020-12-31|         23|\n",
            "| 2020-12-31|         21|\n",
            "| 2020-12-31|         23|\n",
            "| 2020-12-31|         18|\n",
            "| 2021-01-01|          1|\n",
            "| 2021-01-01|          1|\n",
            "| 2020-12-31|         23|\n",
            "| 2020-12-31|         13|\n",
            "| 2020-12-31|         23|\n",
            "| 2021-01-01|          1|\n",
            "| 2021-01-01|          1|\n",
            "| 2021-01-01|          1|\n",
            "| 2021-01-01|          1|\n",
            "| 2021-01-01|          1|\n",
            "| 2021-01-01|          1|\n",
            "| 2021-01-01|          1|\n",
            "| 2021-01-01|          1|\n",
            "| 2021-01-01|          1|\n",
            "| 2021-01-01|          1|\n",
            "| 2021-01-01|          1|\n",
            "+-----------+-----------+\n",
            "only showing top 20 rows\n",
            "\n"
          ]
        }
      ],
      "source": [
        "spark.sql(\"SELECT pickup_date, pickup_time from comb WHERE pickup_time > 0\").show()"
      ]
    },
    {
      "cell_type": "markdown",
      "source": [
        "**결과 2**\n",
        "\n",
        "우리의 데이터는 2021년 1~5월 데이터 -> 2020년 12월 31일 이하면 잘못 수집된 데이터로 확인 -> 데이터 cleaning"
      ],
      "metadata": {
        "id": "uPyEThpy5xVX"
      }
    },
    {
      "cell_type": "code",
      "execution_count": 83,
      "metadata": {
        "id": "lUkB7LM1uEiV",
        "colab": {
          "base_uri": "https://localhost:8080/"
        },
        "outputId": "63b2e750-0c4c-4114-a6c8-74363ad23272"
      },
      "outputs": [
        {
          "output_type": "stream",
          "name": "stdout",
          "text": [
            "+-----------+-----------+\n",
            "|pickup_date|pickup_time|\n",
            "+-----------+-----------+\n",
            "| 2009-01-01|          0|\n",
            "| 2008-12-31|         23|\n",
            "| 2009-01-01|          0|\n",
            "| 2009-01-01|          0|\n",
            "| 2009-01-01|          0|\n",
            "| 2008-12-31|         23|\n",
            "| 2008-12-31|         23|\n",
            "| 2009-01-01|          0|\n",
            "| 2009-01-01|          0|\n",
            "| 2009-01-01|          0|\n",
            "| 2009-01-01|          0|\n",
            "| 2009-01-01|          1|\n",
            "| 2009-01-01|         17|\n",
            "| 2009-01-01|         17|\n",
            "| 2009-01-01|         18|\n",
            "| 2009-01-01|          1|\n",
            "| 2009-01-01|          1|\n",
            "| 2009-01-01|          2|\n",
            "| 2009-01-01|          2|\n",
            "| 2009-01-01|          0|\n",
            "+-----------+-----------+\n",
            "only showing top 20 rows\n",
            "\n"
          ]
        }
      ],
      "source": [
        "spark.sql(\"SELECT pickup_date, pickup_time from comb WHERE pickup_date < '2020-12-31'\").show()"
      ]
    },
    {
      "cell_type": "markdown",
      "source": [
        "**결과 3**\n",
        "\n",
        "max : 398469.2 -> 택시 값이 약 4억 -> 이상함"
      ],
      "metadata": {
        "id": "LTyqpYLe6qlg"
      }
    },
    {
      "cell_type": "code",
      "execution_count": 84,
      "metadata": {
        "id": "rAmaZZ-quHXP",
        "colab": {
          "base_uri": "https://localhost:8080/"
        },
        "outputId": "91e6f29c-852d-41d5-c0d1-d18110073b5b"
      },
      "outputs": [
        {
          "output_type": "stream",
          "name": "stdout",
          "text": [
            "+-------+------------------+\n",
            "|summary|      total_amount|\n",
            "+-------+------------------+\n",
            "|  count|           9344926|\n",
            "|   mean|18.217332152379527|\n",
            "| stddev|184.27259172356773|\n",
            "|    min|            -647.8|\n",
            "|    max|          398469.2|\n",
            "+-------+------------------+\n",
            "\n"
          ]
        }
      ],
      "source": [
        "# describe() : total_amount에 대한 통계\n",
        "\n",
        "comb_df.select(\"total_amount\").describe().show()"
      ]
    },
    {
      "cell_type": "markdown",
      "source": [
        "**결과 4**\n",
        "\n",
        "min : 0.0 -> 택시 부르고 취소한 경우로 추측\n",
        "\n",
        "stddev(standard deviation) 이 너무 큼 -> max : 332541.19, 택시 값이 약 4억 -> 수기로 작성시 오류로 추측"
      ],
      "metadata": {
        "id": "1oes0dM465ip"
      }
    },
    {
      "cell_type": "code",
      "execution_count": 85,
      "metadata": {
        "id": "xhYVbZPeuSk1",
        "colab": {
          "base_uri": "https://localhost:8080/"
        },
        "outputId": "6e5261da-b8e1-4f9c-9dc5-5b828befe0f7"
      },
      "outputs": [
        {
          "output_type": "stream",
          "name": "stdout",
          "text": [
            "+-------+-----------------+\n",
            "|summary|    trip_distance|\n",
            "+-------+-----------------+\n",
            "|  count|          9344926|\n",
            "|   mean|6.186445813482092|\n",
            "| stddev|642.3426034271797|\n",
            "|    min|              0.0|\n",
            "|    max|        332541.19|\n",
            "+-------+-----------------+\n",
            "\n"
          ]
        }
      ],
      "source": [
        "comb_df.select(\"trip_distance\").describe().show()"
      ]
    },
    {
      "cell_type": "markdown",
      "source": [
        "**결과 6**\n",
        "\n",
        "passenger_count 괜찮아 보임"
      ],
      "metadata": {
        "id": "NyiCx4Pa7Stc"
      }
    },
    {
      "cell_type": "code",
      "execution_count": 86,
      "metadata": {
        "id": "RtuGox1GuU8d",
        "colab": {
          "base_uri": "https://localhost:8080/"
        },
        "outputId": "9b6a96aa-49bf-4a54-bc9a-c895eecbcf8f"
      },
      "outputs": [
        {
          "output_type": "stream",
          "name": "stdout",
          "text": [
            "+-------+------------------+\n",
            "|summary|   passenger_count|\n",
            "+-------+------------------+\n",
            "|  count|           8765092|\n",
            "|   mean|1.4108096070183862|\n",
            "| stddev|1.0342324387540838|\n",
            "|    min|               0.0|\n",
            "|    max|               9.0|\n",
            "+-------+------------------+\n",
            "\n"
          ]
        }
      ],
      "source": [
        "comb_df.select(\"passenger_count\").describe().show()"
      ]
    },
    {
      "cell_type": "markdown",
      "source": [
        "**결과 7**\n",
        "\n",
        "2021-01-01 ~ 2021-05-01 데이터가 쓸만 함"
      ],
      "metadata": {
        "id": "5tBtoJBJ7gTT"
      }
    },
    {
      "cell_type": "code",
      "execution_count": 102,
      "metadata": {
        "id": "VLfsiu4yuttd",
        "colab": {
          "base_uri": "https://localhost:8080/"
        },
        "outputId": "93f2cd99-db79-42b3-91c2-7c729539058f"
      },
      "outputs": [
        {
          "output_type": "stream",
          "name": "stdout",
          "text": [
            "+-------------------+-------+\n",
            "|              month|  trips|\n",
            "+-------------------+-------+\n",
            "|2021-07-01 00:00:00|      4|\n",
            "|2021-06-01 00:00:00|     25|\n",
            "|2021-05-01 00:00:00|2507046|\n",
            "|2021-04-01 00:00:00|2171215|\n",
            "|2021-03-01 00:00:00|1925130|\n",
            "|2021-02-01 00:00:00|1371689|\n",
            "|2021-01-01 00:00:00|1369753|\n",
            "|2020-12-01 00:00:00|     16|\n",
            "|2009-01-01 00:00:00|     37|\n",
            "|2008-12-01 00:00:00|     11|\n",
            "+-------------------+-------+\n",
            "\n"
          ]
        }
      ],
      "source": [
        "query = \"\"\"\n",
        "SELECT\n",
        "\t\tDATE_TRUNC('MM', c.pickup_date) AS month,\n",
        "\t\tCOUNT(*) AS trips\n",
        "FROM\n",
        "\t\tcomb c\n",
        "GROUP BY\n",
        "\t\tmonth\n",
        "ORDER BY\n",
        "\t\tmonth desc\n",
        "\"\"\"\n",
        "\n",
        "spark.sql(query).show()"
      ]
    },
    {
      "cell_type": "markdown",
      "metadata": {
        "id": "eZXI1zlXvwMu"
      },
      "source": [
        "###**Data Cleaning**"
      ]
    },
    {
      "cell_type": "code",
      "execution_count": 103,
      "metadata": {
        "id": "1gQzo4N2vx4r"
      },
      "outputs": [],
      "source": [
        "# 1. total_amount 적당히 5000불(600만원) 미만\n",
        "# 2. trip_distance 적당히 100마일(160.934km) 미만\n",
        "# 3. passenger_count 가 최대 9명이었으니, 적당히 4명 미만으로\n",
        "\n",
        "query = \"\"\"\n",
        "SELECT\n",
        "\t\t*\n",
        "FROM\n",
        "\t\tcomb c\n",
        "WHERE\n",
        "\t\tc.total_amount < 5000\n",
        "\t\tAND c.total_amount > 0\n",
        "\t\tAND c.trip_distance < 100\n",
        "\t\tAND c.passenger_count < 4\n",
        "\t\tAND c.pickup_date >= '2021-01-01'\n",
        "\t\tAND c.pickup_date < '2021-06-01'\n",
        "\"\"\"\n",
        "\n",
        "cleaned_df = spark.sql(query)\n",
        "cleaned_df.createOrReplaceTempView(\"cleaned\")"
      ]
    },
    {
      "cell_type": "code",
      "execution_count": 104,
      "metadata": {
        "id": "Cyr0RbfGv58Z",
        "colab": {
          "base_uri": "https://localhost:8080/"
        },
        "outputId": "702aa9c8-306e-4e83-f495-56f3cf45f681"
      },
      "outputs": [
        {
          "output_type": "stream",
          "name": "stdout",
          "text": [
            "+-------+-------------------+------------------+-----------------+------------------+------------------+------------------+------------------+-------------------+-----------------+------------------+--------------------+--------------------+\n",
            "|summary|          vendor_id|       pickup_time|     dropoff_time|   passenger_count|     trip_distance|       fare_amount|        tip_amount|       tolls_amount|     total_amount|      payment_type|         pickup_zone|        dropoff_zone|\n",
            "+-------+-------------------+------------------+-----------------+------------------+------------------+------------------+------------------+-------------------+-----------------+------------------+--------------------+--------------------+\n",
            "|  count|            8242623|           8242623|          8242623|           8242623|           8242623|           8242623|           8242623|            8242623|          8242623|           8242623|             8242623|             8242623|\n",
            "|   mean| 1.6635725059850488|14.189922309924887|14.29028417289011|1.1992125564883898| 2.689494262930605|11.659644307399931|2.0912478309398597|0.21983286024350956|17.38518380875214| 1.249915955151655|                null|                null|\n",
            "| stddev|0.47248710286088846| 4.868249465918936|4.929239186462226|0.5285845747428306|3.3955692932299746|10.412214066681694| 2.435571324674438| 1.3854332863774492|12.36557471082378|0.4555687262167565|                null|                null|\n",
            "|    min|                  1|                 0|                0|               0.0|               0.0|              -0.8|               0.0|                0.0|             0.01|                 1|Allerton/Pelham G...|Allerton/Pelham G...|\n",
            "|    max|                  2|                23|               23|               3.0|             99.96|            4969.0|             700.0|              823.4|           4973.3|                 4|      Yorkville West|      Yorkville West|\n",
            "+-------+-------------------+------------------+-----------------+------------------+------------------+------------------+------------------+-------------------+-----------------+------------------+--------------------+--------------------+\n",
            "\n"
          ]
        }
      ],
      "source": [
        "# 시간 소요\n",
        "\n",
        "cleaned_df.describe().show()"
      ]
    },
    {
      "cell_type": "markdown",
      "metadata": {
        "id": "Slt90MwEv9Or"
      },
      "source": [
        "### **Visualization : Graph**"
      ]
    },
    {
      "cell_type": "code",
      "execution_count": 105,
      "metadata": {
        "id": "18VAutVlv-Ny"
      },
      "outputs": [],
      "source": [
        "# 필요한 패키지 import\n",
        "\n",
        "import numpy as np\n",
        "import pandas as pd\n",
        "import seaborn as sns\n",
        "import matplotlib.pyplot as plt\n",
        "import matplotlib.dates as mdates"
      ]
    },
    {
      "cell_type": "code",
      "execution_count": 106,
      "metadata": {
        "id": "VlG669zbxls9"
      },
      "outputs": [],
      "source": [
        "# 그래프1 : trip의 개수가 날짜에 따라 어떻게 바뀌는지\n",
        "\n",
        "query = \"\"\"\n",
        "SELECT\n",
        "\t\tc.pickup_date,\n",
        "\t\tCOUNT(*) AS trips\n",
        "FROM\n",
        "\t\tcleaned c\n",
        "GROUP BY\n",
        "\t\tc.pickup_date\n",
        "\"\"\"\n",
        "\n",
        "# 그래프를 그려야하기때문에 native 패키지(toPandas) 필요\n",
        "pd_df = spark.sql(query).toPandas()"
      ]
    },
    {
      "cell_type": "markdown",
      "source": [
        "**그래프 결과**\n",
        "\n",
        "코로나가 점점 줄어들면서 택시 탑승이 늘었다"
      ],
      "metadata": {
        "id": "l7Gm_uen9ev8"
      }
    },
    {
      "cell_type": "code",
      "execution_count": 107,
      "metadata": {
        "id": "37w4KN6gxm_T",
        "colab": {
          "base_uri": "https://localhost:8080/",
          "height": 407
        },
        "outputId": "4d986913-9043-44f8-ee87-c1cf7c14f4f6"
      },
      "outputs": [
        {
          "output_type": "execute_result",
          "data": {
            "text/plain": [
              "<matplotlib.axes._subplots.AxesSubplot at 0x7fd85e17bb10>"
            ]
          },
          "metadata": {},
          "execution_count": 107
        },
        {
          "output_type": "display_data",
          "data": {
            "text/plain": [
              "<Figure size 1152x432 with 1 Axes>"
            ],
            "image/png": "[encoded data removed]"
          },
          "metadata": {
            "needs_background": "light"
          }
        }
      ],
      "source": [
        "fig, ax = plt.subplots(figsize=(16,6))\n",
        "sns.lineplot(x=\"pickup_date\", y=\"trips\", data = pd_df)"
      ]
    },
    {
      "cell_type": "code",
      "execution_count": 108,
      "metadata": {
        "id": "xY2Q3UvFyAF6"
      },
      "outputs": [],
      "source": [
        "# 그래프2 : 요일별로 데이터 확인\n",
        "\n",
        "query = \"\"\"\n",
        "SELECT\n",
        "\t\tc.pickup_date,\n",
        "\t\tDATE_FORMAT(c.pickup_date, 'EEEE') AS day_of_week,\n",
        "\t\tCOUNT(*) AS trips\n",
        "FROM\n",
        "\t\tcleaned c\n",
        "GROUP BY\n",
        "\t\tc.pickup_date,\n",
        "\t\tday_of_week\n",
        "\"\"\"\n",
        "\n",
        "pd_df2 = spark.sql(query).toPandas()"
      ]
    },
    {
      "cell_type": "code",
      "execution_count": 110,
      "metadata": {
        "id": "Z0l7sGQ4yESE"
      },
      "outputs": [],
      "source": [
        "# 원하는 순서대로 sorting 해주기 위해\n",
        "# 원래는 스트링 데이터\n",
        "\n",
        "data = pd_df2.groupby(\"day_of_week\").trips.median().to_frame().reset_index()\n",
        "data[\"sort_dow\"] = data[\"day_of_week\"].replace({\n",
        "\t\"Sunday\": 0,\n",
        "  \"Monday\": 1,\n",
        "  \"Tuesday\": 2,\n",
        "  \"Wednesday\": 3,\n",
        "  \"Thursday\": 4,\n",
        "  \"Friday\": 5,\n",
        "  \"Saturday\": 6\n",
        "})"
      ]
    },
    {
      "cell_type": "code",
      "execution_count": 113,
      "metadata": {
        "id": "t7ub6pHWyEwz"
      },
      "outputs": [],
      "source": [
        "data.sort_values(by=\"sort_dow\", inplace=True)"
      ]
    },
    {
      "cell_type": "code",
      "source": [
        "# 제대로 sorting 되었나 확인\n",
        "\n",
        "data"
      ],
      "metadata": {
        "colab": {
          "base_uri": "https://localhost:8080/",
          "height": 269
        },
        "id": "-IOy9ZIP-Yk5",
        "outputId": "fa88dff1-e56d-4c35-ccce-b2f94e1083b1"
      },
      "execution_count": 114,
      "outputs": [
        {
          "output_type": "execute_result",
          "data": {
            "text/plain": [
              "  day_of_week    trips  sort_dow\n",
              "3      Sunday  37136.5         0\n",
              "1      Monday  50626.0         1\n",
              "5     Tuesday  55901.0         2\n",
              "6   Wednesday  59461.0         3\n",
              "4    Thursday  61582.0         4\n",
              "0      Friday  63487.0         5\n",
              "2    Saturday  54303.5         6"
            ],
            "text/html": [
              "\n",
              "  <div id=\"df-ff46a085-4391-4832-8b3a-6de3c39084a4\">\n",
              "    <div class=\"colab-df-container\">\n",
              "      <div>\n",
              "<style scoped>\n",
              "    .dataframe tbody tr th:only-of-type {\n",
              "        vertical-align: middle;\n",
              "    }\n",
              "\n",
              "    .dataframe tbody tr th {\n",
              "        vertical-align: top;\n",
              "    }\n",
              "\n",
              "    .dataframe thead th {\n",
              "        text-align: right;\n",
              "    }\n",
              "</style>\n",
              "<table border=\"1\" class=\"dataframe\">\n",
              "  <thead>\n",
              "    <tr style=\"text-align: right;\">\n",
              "      <th></th>\n",
              "      <th>day_of_week</th>\n",
              "      <th>trips</th>\n",
              "      <th>sort_dow</th>\n",
              "    </tr>\n",
              "  </thead>\n",
              "  <tbody>\n",
              "    <tr>\n",
              "      <th>3</th>\n",
              "      <td>Sunday</td>\n",
              "      <td>37136.5</td>\n",
              "      <td>0</td>\n",
              "    </tr>\n",
              "    <tr>\n",
              "      <th>1</th>\n",
              "      <td>Monday</td>\n",
              "      <td>50626.0</td>\n",
              "      <td>1</td>\n",
              "    </tr>\n",
              "    <tr>\n",
              "      <th>5</th>\n",
              "      <td>Tuesday</td>\n",
              "      <td>55901.0</td>\n",
              "      <td>2</td>\n",
              "    </tr>\n",
              "    <tr>\n",
              "      <th>6</th>\n",
              "      <td>Wednesday</td>\n",
              "      <td>59461.0</td>\n",
              "      <td>3</td>\n",
              "    </tr>\n",
              "    <tr>\n",
              "      <th>4</th>\n",
              "      <td>Thursday</td>\n",
              "      <td>61582.0</td>\n",
              "      <td>4</td>\n",
              "    </tr>\n",
              "    <tr>\n",
              "      <th>0</th>\n",
              "      <td>Friday</td>\n",
              "      <td>63487.0</td>\n",
              "      <td>5</td>\n",
              "    </tr>\n",
              "    <tr>\n",
              "      <th>2</th>\n",
              "      <td>Saturday</td>\n",
              "      <td>54303.5</td>\n",
              "      <td>6</td>\n",
              "    </tr>\n",
              "  </tbody>\n",
              "</table>\n",
              "</div>\n",
              "      <button class=\"colab-df-convert\" onclick=\"convertToInteractive('df-ff46a085-4391-4832-8b3a-6de3c39084a4')\"\n",
              "              title=\"Convert this dataframe to an interactive table.\"\n",
              "              style=\"display:none;\">\n",
              "        \n",
              "  <svg xmlns=\"http://www.w3.org/2000/svg\" height=\"24px\"viewBox=\"0 0 24 24\"\n",
              "       width=\"24px\">\n",
              "    <path d=\"M0 0h24v24H0V0z\" fill=\"none\"/>\n",
              "    <path d=\"M18.56 5.44l.94 2.06.94-2.06 2.06-.94-2.06-.94-.94-2.06-.94 2.06-2.06.94zm-11 1L8.5 8.5l.94-2.06 2.06-.94-2.06-.94L8.5 2.5l-.94 2.06-2.06.94zm10 10l.94 2.06.94-2.06 2.06-.94-2.06-.94-.94-2.06-.94 2.06-2.06.94z\"/><path d=\"M17.41 7.96l-1.37-1.37c-.4-.4-.92-.59-1.43-.59-.52 0-1.04.2-1.43.59L10.3 9.45l-7.72 7.72c-.78.78-.78 2.05 0 2.83L4 21.41c.39.39.9.59 1.41.59.51 0 1.02-.2 1.41-.59l7.78-7.78 2.81-2.81c.8-.78.8-2.07 0-2.86zM5.41 20L4 18.59l7.72-7.72 1.47 1.35L5.41 20z\"/>\n",
              "  </svg>\n",
              "      </button>\n",
              "      \n",
              "  <style>\n",
              "    .colab-df-container {\n",
              "      display:flex;\n",
              "      flex-wrap:wrap;\n",
              "      gap: 12px;\n",
              "    }\n",
              "\n",
              "    .colab-df-convert {\n",
              "      background-color: #E8F0FE;\n",
              "      border: none;\n",
              "      border-radius: 50%;\n",
              "      cursor: pointer;\n",
              "      display: none;\n",
              "      fill: #1967D2;\n",
              "      height: 32px;\n",
              "      padding: 0 0 0 0;\n",
              "      width: 32px;\n",
              "    }\n",
              "\n",
              "    .colab-df-convert:hover {\n",
              "      background-color: #E2EBFA;\n",
              "      box-shadow: 0px 1px 2px rgba(60, 64, 67, 0.3), 0px 1px 3px 1px rgba(60, 64, 67, 0.15);\n",
              "      fill: #174EA6;\n",
              "    }\n",
              "\n",
              "    [theme=dark] .colab-df-convert {\n",
              "      background-color: #3B4455;\n",
              "      fill: #D2E3FC;\n",
              "    }\n",
              "\n",
              "    [theme=dark] .colab-df-convert:hover {\n",
              "      background-color: #434B5C;\n",
              "      box-shadow: 0px 1px 3px 1px rgba(0, 0, 0, 0.15);\n",
              "      filter: drop-shadow(0px 1px 2px rgba(0, 0, 0, 0.3));\n",
              "      fill: #FFFFFF;\n",
              "    }\n",
              "  </style>\n",
              "\n",
              "      <script>\n",
              "        const buttonEl =\n",
              "          document.querySelector('#df-ff46a085-4391-4832-8b3a-6de3c39084a4 button.colab-df-convert');\n",
              "        buttonEl.style.display =\n",
              "          google.colab.kernel.accessAllowed ? 'block' : 'none';\n",
              "\n",
              "        async function convertToInteractive(key) {\n",
              "          const element = document.querySelector('#df-ff46a085-4391-4832-8b3a-6de3c39084a4');\n",
              "          const dataTable =\n",
              "            await google.colab.kernel.invokeFunction('convertToInteractive',\n",
              "                                                     [key], {});\n",
              "          if (!dataTable) return;\n",
              "\n",
              "          const docLinkHtml = 'Like what you see? Visit the ' +\n",
              "            '<a target=\"_blank\" href=https://colab.research.google.com/notebooks/data_table.ipynb>data table notebook</a>'\n",
              "            + ' to learn more about interactive tables.';\n",
              "          element.innerHTML = '';\n",
              "          dataTable['output_type'] = 'display_data';\n",
              "          await google.colab.output.renderOutput(dataTable, element);\n",
              "          const docLink = document.createElement('div');\n",
              "          docLink.innerHTML = docLinkHtml;\n",
              "          element.appendChild(docLink);\n",
              "        }\n",
              "      </script>\n",
              "    </div>\n",
              "  </div>\n",
              "  "
            ]
          },
          "metadata": {},
          "execution_count": 114
        }
      ]
    },
    {
      "cell_type": "markdown",
      "source": [
        "**그래프 결과 2**\n",
        "\n",
        "요일별 트렌드 확인"
      ],
      "metadata": {
        "id": "oXmA8GXz-e_K"
      }
    },
    {
      "cell_type": "code",
      "execution_count": 112,
      "metadata": {
        "id": "xc3HCOMJyIJw",
        "colab": {
          "base_uri": "https://localhost:8080/",
          "height": 353
        },
        "outputId": "450aa9e5-8a9e-485d-df3b-51c220d0bb25"
      },
      "outputs": [
        {
          "output_type": "execute_result",
          "data": {
            "text/plain": [
              "<matplotlib.axes._subplots.AxesSubplot at 0x7fd85179f350>"
            ]
          },
          "metadata": {},
          "execution_count": 112
        },
        {
          "output_type": "display_data",
          "data": {
            "text/plain": [
              "<Figure size 864x360 with 1 Axes>"
            ],
            "image/png": "[encoded data removed]"
          },
          "metadata": {
            "needs_background": "light"
          }
        }
      ],
      "source": [
        "fig, ax = plt.subplots(figsize=(12,5))\n",
        "sns.barplot(\n",
        "\t\tx=\"day_of_week\",\n",
        "\t\ty=\"trips\",\n",
        "\t\tdata=data\n",
        ")"
      ]
    },
    {
      "cell_type": "code",
      "execution_count": 116,
      "metadata": {
        "id": "h62bLFVyyJIT",
        "colab": {
          "base_uri": "https://localhost:8080/"
        },
        "outputId": "1044fd55-f5b8-4fed-b3dc-666d3e3be0e7"
      },
      "outputs": [
        {
          "output_type": "execute_result",
          "data": {
            "text/plain": [
              "<function __main__.get_weekday(data)>"
            ]
          },
          "metadata": {},
          "execution_count": 116
        }
      ],
      "source": [
        "# 그래프3 : spark에 활용하고 싶으면 udf(사용자 정의 함수)활용\n",
        "\n",
        "def get_weekday(data):\n",
        "\t\timport calendar\n",
        "\t\treturn calendar.day_name[date.weekday()]\n",
        "\n",
        "spark.udf.register(\"get_weekday\", get_weekday)"
      ]
    },
    {
      "cell_type": "code",
      "execution_count": 117,
      "metadata": {
        "id": "92BV5BbsyK7r"
      },
      "outputs": [],
      "source": [
        "query = \"\"\"\n",
        "SELECT\n",
        "\t\tc.pickup_date,\n",
        "\t\tget_weekday(c.pickup_date) AS day_of_week,\n",
        "\t\tCOUNT(*) AS trips\n",
        "FROM\n",
        "\t\tcleaned c\n",
        "GROUP BY\n",
        "\t\tc.pickup_date,\n",
        "\t\tday_of_week\n",
        "\"\"\""
      ]
    },
    {
      "cell_type": "code",
      "execution_count": 120,
      "metadata": {
        "id": "8K3ysDeSyL65",
        "colab": {
          "base_uri": "https://localhost:8080/"
        },
        "outputId": "99352154-d5ee-4a95-e683-9180872c27ab"
      },
      "outputs": [
        {
          "output_type": "execute_result",
          "data": {
            "text/plain": [
              "<function __main__.parse_payment_type(payment_type)>"
            ]
          },
          "metadata": {},
          "execution_count": 120
        }
      ],
      "source": [
        "# payment type에 패턴 확인 : udf만들기\n",
        "\n",
        "payment_type_to_string = {\n",
        "\t\t1: \"Credit Card\",\n",
        "    2: \"Cash\",\n",
        "    3: \"No Charge\",\n",
        "    4: \"Dispute\",\n",
        "    5: \"Unknown\",\n",
        "    6: \"Voided Trip\",\n",
        "}\n",
        "\n",
        "def parse_payment_type(payment_type):\n",
        "\t\treturn payment_type_to_string[payment_type]\n",
        "\n",
        "spark.udf.register(\"parse_payment_type\", parse_payment_type)"
      ]
    },
    {
      "cell_type": "code",
      "execution_count": 121,
      "metadata": {
        "id": "vW-p75nNyOHm",
        "colab": {
          "base_uri": "https://localhost:8080/"
        },
        "outputId": "80b39605-1fc4-4dc2-8853-2df682c9ad8d"
      },
      "outputs": [
        {
          "output_type": "stream",
          "name": "stdout",
          "text": [
            "+--------------------------------+-------+------------------+------------------+\n",
            "|parse_payment_type(payment_type)|  trips|  mean_fare_amount| stdev_fare_amount|\n",
            "+--------------------------------+-------+------------------+------------------+\n",
            "|                     Credit Card|6250894|11.687204222308322|10.106509253187086|\n",
            "|                       No Charge|  39150|11.624684546615583|14.702459832748076|\n",
            "|                         Dispute|  14542|12.152530601017737|14.185340646461905|\n",
            "|                            Cash|1938037|11.567761136655276|11.214296883226515|\n",
            "+--------------------------------+-------+------------------+------------------+\n",
            "\n"
          ]
        }
      ],
      "source": [
        "query = \"\"\"\n",
        "SELECT \n",
        "    parse_payment_type(payment_type),\n",
        "    count(*) AS trips,\n",
        "    MEAN(fare_amount) AS mean_fare_amount,\n",
        "    STD(fare_amount) AS stdev_fare_amount\n",
        "FROM\n",
        "    cleaned\n",
        "GROUP BY\n",
        "    payment_type\n",
        "\"\"\"\n",
        "\n",
        "spark.sql(query).show()"
      ]
    },
    {
      "cell_type": "code",
      "execution_count": 122,
      "metadata": {
        "id": "0NT6QuRpqq3e"
      },
      "outputs": [],
      "source": [
        "# 사용 후 종료!\n",
        "\n",
        "spark.stop()"
      ]
    },
    {
      "cell_type": "markdown",
      "metadata": {
        "id": "iYwcJAVpggKs"
      },
      "source": [
        "Reference\n",
        "\n",
        "\n",
        "https://spark.apache.org/docs/latest/api/python/#"
      ]
    }
  ],
  "metadata": {
    "colab": {
      "collapsed_sections": [],
      "provenance": [],
      "mount_file_id": "1MRR9sYoldizrk7_kUu51wXAe5ynDS3wu",
      "authorship_tag": "ABX9TyPLL2uUs4wOptsPLcDw/Vrr"
    },
    "kernelspec": {
      "display_name": "Python 3",
      "name": "python3"
    },
    "language_info": {
      "name": "python"
    }
  },
  "nbformat": 4,
  "nbformat_minor": 0
}