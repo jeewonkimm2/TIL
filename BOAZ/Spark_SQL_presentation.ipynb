{
  "nbformat": 4,
  "nbformat_minor": 0,
  "metadata": {
    "colab": {
      "provenance": [],
      "collapsed_sections": [],
      "mount_file_id": "1MRR9sYoldizrk7_kUu51wXAe5ynDS3wu",
      "authorship_tag": "ABX9TyOpD9Ro+q9bg2mxk9r2LRXh"
    },
    "kernelspec": {
      "name": "python3",
      "display_name": "Python 3"
    },
    "language_info": {
      "name": "python"
    }
  },
  "cells": [
    {
      "cell_type": "markdown",
      "source": [
        "#**2. Spark SQL**"
      ],
      "metadata": {
        "id": "Bo6-sLtCMdpu"
      }
    },
    {
      "cell_type": "markdown",
      "source": [
        "1. 목적\n",
        "  - 스파크 프로그래밍 내부에서 관계형 처리를 하기 위해\n",
        "  - 스키마의 정보를 이용해 자동으로 최적화를 하기 위해\n",
        "  - 외부 데이터셋을 사용하기 쉽게 하기 위해\n",
        "\n",
        "\n",
        "2. **DataFrame**\n",
        "  - Spark Core에 RDD가 있다면 Spark SQL엔 DataFrame 가 있음\n",
        "  - DataFrame은 테이블 데이터셋이라고 보면 됨\n",
        "  - 개념적으론 RDD에 스키마가 적용된 것\n",
        "  - 이점\n",
        "    - MLLib이나 Spark Streaming 같은 다른 Spark Module들과 사용하기 편함\n",
        "    - 최적화가 알아서 됨\n",
        "\n",
        "\n",
        "3. **SparkSession**\n",
        "  - Spark Core에 SparkContext가 있다면 Spark SQL엔 SparkSession 가 있음\n",
        "\n",
        "\n",
        "4. Spark에서 사용할 수 있는 SQL문\n",
        "  - Hive Query Language와 거의 동일\n",
        "      - Select\n",
        "      - From\n",
        "      - Where\n",
        "      - Count\n",
        "      - Having\n",
        "      - Group By\n",
        "      - Order By\n",
        "      - Sort By\n",
        "      - Distinct\n",
        "      - Join"
      ],
      "metadata": {
        "id": "OC0gH2pCMjfd"
      }
    },
    {
      "cell_type": "markdown",
      "source": [
        "####**SparkSession과 DataFrame생성**\n",
        "\n",
        "1. Spark Session\n",
        "\n",
        "`spark = SparkSession.builder.appName(\"test-app\").getOrCreate()`\n",
        "\n",
        "2. DataFrame\n",
        "- RDD에서 스키마를 정의한 다음 변형\n",
        "\n",
        "  - RDD를 만드는 부분\n",
        "\n",
        "    `lines = sc.textFile(\"example.csv\") 하나의 긴 텍스트\n",
        "    data = lines.map(lambda x : x.split(\",\"))\n",
        "    preprocessed = data.map(lambda x : Row(name = x[0], price=int(x[1])))`\n",
        "\n",
        "  - Infer 자동으로 유추해서 만드는 부분\n",
        "\n",
        "    `df = spark.createDataFrame(preprocessed)`\n",
        "\n",
        "  - Schema를 사용자가 정의\n",
        "\n",
        "      Specify 사용자가 스키마를 지정\n",
        "    \n",
        "      `schema = StructType(\n",
        "    StructField(\"name\", StringType(), True),\n",
        "    StructField(\"price\", StringType(), True)\n",
        "  )`\n",
        "\n",
        "    `spark.createDataFrame(preprocessed, schema).show()`\n",
        "\n",
        "- CSV, JSON등 파일로부터 데이터 받아오기\n",
        "\n",
        "  `dataframe = spark.read.json(json파일)`\n",
        "\n",
        "  `dataframe_txt = spark.read.text(txt파일)`\n",
        "\n",
        "  `dataframe_csv = spark.read.csv(csv파일)`\n",
        "\n",
        "  `dataframe_parquet = spark.read.load(parquet파일)`\n",
        "\n"
      ],
      "metadata": {
        "id": "eV39LbT6Rpcj"
      }
    },
    {
      "cell_type": "markdown",
      "source": [
        "####**createOrReplaceTempView**\n",
        "\n",
        "- DataFrame을 하나의 데이터베이스 테이블처럼 사용하려면 createOrReplaceTempView() 함수로 temporary view를 만들어줘야함(닉네임 지어주기)\n",
        "\n",
        "  `data.createOrReplaceTempView(\"mobility_data\")`\n",
        "\n",
        "  `spark.sql(\"SELECT pickup_datetime FFOM mobility_data LIMIT 5\").show()`"
      ],
      "metadata": {
        "id": "a-UHXPvcTnQr"
      }
    },
    {
      "cell_type": "code",
      "source": [
        "# mount Drive to access data files\n",
        "\n",
        "from google.colab import drive\n",
        "drive.mount('./mount')"
      ],
      "metadata": {
        "id": "1jw-4x2nIDD_"
      },
      "execution_count": null,
      "outputs": []
    },
    {
      "cell_type": "code",
      "source": [
        "pip install pyspark"
      ],
      "metadata": {
        "colab": {
          "base_uri": "https://localhost:8080/"
        },
        "id": "io7WGz81FX0h",
        "outputId": "740a87a5-243c-4b83-c6e3-816620bac1b5"
      },
      "execution_count": null,
      "outputs": [
        {
          "output_type": "stream",
          "name": "stdout",
          "text": [
            "Looking in indexes: https://pypi.org/simple, https://us-python.pkg.dev/colab-wheels/public/simple/\n",
            "Collecting pyspark\n",
            "  Downloading pyspark-3.3.0.tar.gz (281.3 MB)\n",
            "\u001b[K     |████████████████████████████████| 281.3 MB 48 kB/s \n",
            "\u001b[?25hCollecting py4j==0.10.9.5\n",
            "  Downloading py4j-0.10.9.5-py2.py3-none-any.whl (199 kB)\n",
            "\u001b[K     |████████████████████████████████| 199 kB 49.9 MB/s \n",
            "\u001b[?25hBuilding wheels for collected packages: pyspark\n",
            "  Building wheel for pyspark (setup.py) ... \u001b[?25l\u001b[?25hdone\n",
            "  Created wheel for pyspark: filename=pyspark-3.3.0-py2.py3-none-any.whl size=281764026 sha256=63f8ea904ccc30481b45ade2ab096a6461962f5d9af384950e1e0b49cce81b2e\n",
            "  Stored in directory: /root/.cache/pip/wheels/7a/8e/1b/f73a52650d2e5f337708d9f6a1750d451a7349a867f928b885\n",
            "Successfully built pyspark\n",
            "Installing collected packages: py4j, pyspark\n",
            "Successfully installed py4j-0.10.9.5 pyspark-3.3.0\n"
          ]
        }
      ]
    },
    {
      "cell_type": "markdown",
      "source": [
        "1. Spark Instance 만들기"
      ],
      "metadata": {
        "id": "PM6NZtaV2G5u"
      }
    },
    {
      "cell_type": "code",
      "source": [
        "from pyspark.sql import SparkSession\n",
        "spark = SparkSession.builder.master(\"local\").appName(\"learn-sql\").getOrCreate()"
      ],
      "metadata": {
        "id": "xSS1OGoi2D8S"
      },
      "execution_count": null,
      "outputs": []
    },
    {
      "cell_type": "markdown",
      "source": [
        "2. 데이터"
      ],
      "metadata": {
        "id": "W8pvbaX12SgJ"
      }
    },
    {
      "cell_type": "code",
      "source": [
        "stocks = [\n",
        "\t('Google', 'GOOGL', 'USA', 2984, 'USD'),\n",
        "\t('Netflix', 'NFLX', 'USA', 645, 'USD'),\n",
        "\t('Amazon', 'AMZN', 'USA', 3518, 'USD'),\n",
        "\t('Tesla', 'TSLA', 'USA', 1222, 'USD'),\n",
        "\t('Tencent', '0700', 'Hong Kong', 483, 'HKD'),\n",
        "\t('Toyota', '7203', 'Japan', 2006, 'JPY'),\n",
        "\t('Samsung', '005930', 'Korea', 70600, 'KRW'),\n",
        "\t('Kakao', '035720', 'Korea', 125000, 'KRW')\n",
        "]"
      ],
      "metadata": {
        "id": "RLv3vKv12R0W"
      },
      "execution_count": null,
      "outputs": []
    },
    {
      "cell_type": "markdown",
      "source": [
        "3. 스키마 생성"
      ],
      "metadata": {
        "id": "vSuo4iox2VFI"
      }
    },
    {
      "cell_type": "code",
      "source": [
        "stockSchema = [\"name\",\"ticker\",\"country\",\"price\",\"currency\"]"
      ],
      "metadata": {
        "id": "wveYJKZZ2Uv7"
      },
      "execution_count": null,
      "outputs": []
    },
    {
      "cell_type": "markdown",
      "source": [
        "4. DataFrame 만들기"
      ],
      "metadata": {
        "id": "B7_YwHSh2YPr"
      }
    },
    {
      "cell_type": "code",
      "source": [
        "df = spark.createDataFrame(data = stocks, schema = stockSchema)\n",
        "\n",
        "# 데이터 타입 확인\n",
        "df.dtypes"
      ],
      "metadata": {
        "colab": {
          "base_uri": "https://localhost:8080/"
        },
        "id": "yzYU7ARb2Zyp",
        "outputId": "52119f33-7f7f-4c7e-ac57-2dab02f91b2b"
      },
      "execution_count": null,
      "outputs": [
        {
          "output_type": "execute_result",
          "data": {
            "text/plain": [
              "[('name', 'string'),\n",
              " ('ticker', 'string'),\n",
              " ('country', 'string'),\n",
              " ('price', 'bigint'),\n",
              " ('currency', 'string')]"
            ]
          },
          "metadata": {},
          "execution_count": 5
        }
      ]
    },
    {
      "cell_type": "code",
      "source": [
        "# 데이터 프레임 확인\n",
        "df.show()"
      ],
      "metadata": {
        "colab": {
          "base_uri": "https://localhost:8080/"
        },
        "id": "b2SJMKvf2opr",
        "outputId": "e18e29dc-affa-42ed-db1d-37d5cab48c5b"
      },
      "execution_count": null,
      "outputs": [
        {
          "output_type": "stream",
          "name": "stdout",
          "text": [
            "+-------+------+---------+------+--------+\n",
            "|   name|ticker|  country| price|currency|\n",
            "+-------+------+---------+------+--------+\n",
            "| Google| GOOGL|      USA|  2984|     USD|\n",
            "|Netflix|  NFLX|      USA|   645|     USD|\n",
            "| Amazon|  AMZN|      USA|  3518|     USD|\n",
            "|  Tesla|  TSLA|      USA|  1222|     USD|\n",
            "|Tencent|  0700|Hong Kong|   483|     HKD|\n",
            "| Toyota|  7203|    Japan|  2006|     JPY|\n",
            "|Samsung|005930|    Korea| 70600|     KRW|\n",
            "|  Kakao|035720|    Korea|125000|     KRW|\n",
            "+-------+------+---------+------+--------+\n",
            "\n"
          ]
        }
      ]
    },
    {
      "cell_type": "markdown",
      "source": [
        "5. Temporary View에 등록 - 닉네임 stocks"
      ],
      "metadata": {
        "id": "3qdgl2Lr22bl"
      }
    },
    {
      "cell_type": "code",
      "source": [
        "df.createOrReplaceTempView(\"stocks\")"
      ],
      "metadata": {
        "id": "L9F9dzJj27fB"
      },
      "execution_count": null,
      "outputs": []
    },
    {
      "cell_type": "markdown",
      "source": [
        "6. 회사 이름 가져오기"
      ],
      "metadata": {
        "id": "Nh5cP4Es3Aq3"
      }
    },
    {
      "cell_type": "code",
      "source": [
        "spark.sql(\"select name from stocks\").show()"
      ],
      "metadata": {
        "colab": {
          "base_uri": "https://localhost:8080/"
        },
        "id": "TAOBr7yu3BsR",
        "outputId": "3deede0d-ef7a-4943-d94d-b33311d6ebe3"
      },
      "execution_count": null,
      "outputs": [
        {
          "output_type": "stream",
          "name": "stdout",
          "text": [
            "+-------+\n",
            "|   name|\n",
            "+-------+\n",
            "| Google|\n",
            "|Netflix|\n",
            "| Amazon|\n",
            "|  Tesla|\n",
            "|Tencent|\n",
            "| Toyota|\n",
            "|Samsung|\n",
            "|  Kakao|\n",
            "+-------+\n",
            "\n"
          ]
        }
      ]
    },
    {
      "cell_type": "markdown",
      "source": [
        "7. 여러 개의 컬럼 가져오기"
      ],
      "metadata": {
        "id": "Lv8j9f7l3TQQ"
      }
    },
    {
      "cell_type": "code",
      "source": [
        "spark.sql(\"select name, price from stocks\").show()"
      ],
      "metadata": {
        "colab": {
          "base_uri": "https://localhost:8080/"
        },
        "id": "Nci2e4rt3U7I",
        "outputId": "4ec27d01-572f-4915-d940-6c51770f97e1"
      },
      "execution_count": null,
      "outputs": [
        {
          "output_type": "stream",
          "name": "stdout",
          "text": [
            "+-------+------+\n",
            "|   name| price|\n",
            "+-------+------+\n",
            "| Google|  2984|\n",
            "|Netflix|   645|\n",
            "| Amazon|  3518|\n",
            "|  Tesla|  1222|\n",
            "|Tencent|   483|\n",
            "| Toyota|  2006|\n",
            "|Samsung| 70600|\n",
            "|  Kakao|125000|\n",
            "+-------+------+\n",
            "\n"
          ]
        }
      ]
    },
    {
      "cell_type": "markdown",
      "source": [
        "8. 조건문"
      ],
      "metadata": {
        "id": "kyYNNAVS3bIi"
      }
    },
    {
      "cell_type": "code",
      "source": [
        "# country가 Korea인 name, price 컬럼 가져오기\n",
        "\n",
        "spark.sql(\"select name, price from stocks where country = 'Korea'\").show()"
      ],
      "metadata": {
        "colab": {
          "base_uri": "https://localhost:8080/"
        },
        "id": "GjdsF8B53ZOY",
        "outputId": "de9ae84a-0ae8-415b-852d-2716db6e6e4a"
      },
      "execution_count": null,
      "outputs": [
        {
          "output_type": "stream",
          "name": "stdout",
          "text": [
            "+-------+------+\n",
            "|   name| price|\n",
            "+-------+------+\n",
            "|Samsung| 70600|\n",
            "|  Kakao|125000|\n",
            "+-------+------+\n",
            "\n"
          ]
        }
      ]
    },
    {
      "cell_type": "code",
      "source": [
        "# price>2000인 name, price 컬럼 가져오기\n",
        "\n",
        "spark.sql(\"select name, price from stocks where price > 2000\").show()"
      ],
      "metadata": {
        "colab": {
          "base_uri": "https://localhost:8080/"
        },
        "id": "YjmEHLUs3n8y",
        "outputId": "4c455667-abb3-431d-cb99-dcd6cbe00aab"
      },
      "execution_count": null,
      "outputs": [
        {
          "output_type": "stream",
          "name": "stdout",
          "text": [
            "+-------+------+\n",
            "|   name| price|\n",
            "+-------+------+\n",
            "| Google|  2984|\n",
            "| Amazon|  3518|\n",
            "| Toyota|  2006|\n",
            "|Samsung| 70600|\n",
            "|  Kakao|125000|\n",
            "+-------+------+\n",
            "\n"
          ]
        }
      ]
    },
    {
      "cell_type": "code",
      "source": [
        "# price>2000이면서 country가 USA인 name, price 컬럼 가져오기\n",
        "\n",
        "spark.sql(\"select name,price from stocks where price>2000 and country = 'USA'\").show()"
      ],
      "metadata": {
        "colab": {
          "base_uri": "https://localhost:8080/"
        },
        "id": "JGxE0ctY3vhT",
        "outputId": "ec7418c8-a384-4d2e-8fea-8a1f156e73c8"
      },
      "execution_count": null,
      "outputs": [
        {
          "output_type": "stream",
          "name": "stdout",
          "text": [
            "+------+-----+\n",
            "|  name|price|\n",
            "+------+-----+\n",
            "|Google| 2984|\n",
            "|Amazon| 3518|\n",
            "+------+-----+\n",
            "\n"
          ]
        }
      ]
    },
    {
      "cell_type": "markdown",
      "source": [
        "9. like : String에서 유용하게 쓰임"
      ],
      "metadata": {
        "id": "DuirB-6_4LfH"
      }
    },
    {
      "cell_type": "code",
      "source": [
        "# U로 시작하는 나라의 name,price 컬럼 가져오기\n",
        "\n",
        "spark.sql(\"select name, price from stocks where country like 'U%'\").show()"
      ],
      "metadata": {
        "colab": {
          "base_uri": "https://localhost:8080/"
        },
        "id": "iImsksfQ4PYg",
        "outputId": "ff9bc8c4-ee5b-4e4c-da4c-8a25ac4cd922"
      },
      "execution_count": null,
      "outputs": [
        {
          "output_type": "stream",
          "name": "stdout",
          "text": [
            "+-------+-----+\n",
            "|   name|price|\n",
            "+-------+-----+\n",
            "| Google| 2984|\n",
            "|Netflix|  645|\n",
            "| Amazon| 3518|\n",
            "|  Tesla| 1222|\n",
            "+-------+-----+\n",
            "\n"
          ]
        }
      ]
    },
    {
      "cell_type": "code",
      "source": [
        "# U로 시작하는 나라, 회사 이름에서 e가 없는 곳의 name, price 컬럼 가져오기\n",
        "\n",
        "spark.sql(\"select name, price from stocks where country like 'U%' and name not like '%e%'\").show()"
      ],
      "metadata": {
        "colab": {
          "base_uri": "https://localhost:8080/"
        },
        "id": "qQp-xiJe43uX",
        "outputId": "8a0340f2-2f16-4edb-9d33-27ff0b9528fc"
      },
      "execution_count": null,
      "outputs": [
        {
          "output_type": "stream",
          "name": "stdout",
          "text": [
            "+------+-----+\n",
            "|  name|price|\n",
            "+------+-----+\n",
            "|Amazon| 3518|\n",
            "+------+-----+\n",
            "\n"
          ]
        }
      ]
    },
    {
      "cell_type": "markdown",
      "source": [
        "10. between"
      ],
      "metadata": {
        "id": "BF4fLJ0d5MG9"
      }
    },
    {
      "cell_type": "code",
      "source": [
        "# 1000<price<10000 인 name, price 컬럼 가져오기\n",
        "\n",
        "spark.sql(\"select name, price from stocks where price between 1000 and 10000\").show()"
      ],
      "metadata": {
        "colab": {
          "base_uri": "https://localhost:8080/"
        },
        "id": "W9go6Za55QLB",
        "outputId": "92c56eaa-1f1a-4356-81e0-c44709ae2fba"
      },
      "execution_count": null,
      "outputs": [
        {
          "output_type": "stream",
          "name": "stdout",
          "text": [
            "+------+-----+\n",
            "|  name|price|\n",
            "+------+-----+\n",
            "|Google| 2984|\n",
            "|Amazon| 3518|\n",
            "| Tesla| 1222|\n",
            "|Toyota| 2006|\n",
            "+------+-----+\n",
            "\n"
          ]
        }
      ]
    },
    {
      "cell_type": "markdown",
      "source": [
        "11. 중첩 사용"
      ],
      "metadata": {
        "id": "hXVFYZLM5Y-W"
      }
    },
    {
      "cell_type": "code",
      "source": [
        "# Tesla보다 비싸며 currency가 USD인 name,price,currency 컬럼 가져오기\n",
        "\n",
        "spark.sql(\"select name, price, currency from stocks \\\n",
        "where currency = 'USD' and price > (select price from stocks where name = 'Tesla')\").show()"
      ],
      "metadata": {
        "colab": {
          "base_uri": "https://localhost:8080/"
        },
        "id": "pCRqKgQI4Y6M",
        "outputId": "67988aaa-f157-49d0-c7eb-db7d1cd1779b"
      },
      "execution_count": null,
      "outputs": [
        {
          "output_type": "stream",
          "name": "stdout",
          "text": [
            "+------+-----+--------+\n",
            "|  name|price|currency|\n",
            "+------+-----+--------+\n",
            "|Google| 2984|     USD|\n",
            "|Amazon| 3518|     USD|\n",
            "+------+-----+--------+\n",
            "\n"
          ]
        }
      ]
    },
    {
      "cell_type": "markdown",
      "source": [
        "12. order by"
      ],
      "metadata": {
        "id": "A766mUG7AiY2"
      }
    },
    {
      "cell_type": "code",
      "source": [
        "#오름차순\n",
        "\n",
        "spark.sql(\"select name, price from stocks order by price asc\").show()"
      ],
      "metadata": {
        "colab": {
          "base_uri": "https://localhost:8080/"
        },
        "id": "T_7HzWuB4KJ7",
        "outputId": "bd69c694-2736-4f48-8f93-ed21d8527355"
      },
      "execution_count": null,
      "outputs": [
        {
          "output_type": "stream",
          "name": "stdout",
          "text": [
            "+-------+------+\n",
            "|   name| price|\n",
            "+-------+------+\n",
            "|Tencent|   483|\n",
            "|Netflix|   645|\n",
            "|  Tesla|  1222|\n",
            "| Toyota|  2006|\n",
            "| Google|  2984|\n",
            "| Amazon|  3518|\n",
            "|Samsung| 70600|\n",
            "|  Kakao|125000|\n",
            "+-------+------+\n",
            "\n"
          ]
        }
      ]
    },
    {
      "cell_type": "code",
      "source": [
        "#내림차순\n",
        "\n",
        "spark.sql(\"select name, price from stocks order by price desc\").show()"
      ],
      "metadata": {
        "colab": {
          "base_uri": "https://localhost:8080/"
        },
        "id": "ZrZ4Fnaw3hXv",
        "outputId": "299d7fc9-e4ed-46a5-df71-216f9032483b"
      },
      "execution_count": null,
      "outputs": [
        {
          "output_type": "stream",
          "name": "stdout",
          "text": [
            "+-------+------+\n",
            "|   name| price|\n",
            "+-------+------+\n",
            "|  Kakao|125000|\n",
            "|Samsung| 70600|\n",
            "| Amazon|  3518|\n",
            "| Google|  2984|\n",
            "| Toyota|  2006|\n",
            "|  Tesla|  1222|\n",
            "|Netflix|   645|\n",
            "|Tencent|   483|\n",
            "+-------+------+\n",
            "\n"
          ]
        }
      ]
    },
    {
      "cell_type": "code",
      "source": [
        "#회사 길이의 순서대로\n",
        "\n",
        "spark.sql(\"select name, price from stocks order by length(name)\").show()"
      ],
      "metadata": {
        "id": "e3vMSsobS5OI",
        "colab": {
          "base_uri": "https://localhost:8080/"
        },
        "outputId": "7c0527ec-1267-4fe1-bffa-67067c7d5781"
      },
      "execution_count": null,
      "outputs": [
        {
          "output_type": "stream",
          "name": "stdout",
          "text": [
            "+-------+------+\n",
            "|   name| price|\n",
            "+-------+------+\n",
            "|  Tesla|  1222|\n",
            "|  Kakao|125000|\n",
            "| Amazon|  3518|\n",
            "| Toyota|  2006|\n",
            "| Google|  2984|\n",
            "|Netflix|   645|\n",
            "|Samsung| 70600|\n",
            "|Tencent|   483|\n",
            "+-------+------+\n",
            "\n"
          ]
        }
      ]
    },
    {
      "cell_type": "markdown",
      "source": [
        "13. grouping aggregate"
      ],
      "metadata": {
        "id": "BMczZD3gA412"
      }
    },
    {
      "cell_type": "code",
      "source": [
        "#합\n",
        "\n",
        "spark.sql(\"select sum(price) from stocks where country = 'Korea'\").show()"
      ],
      "metadata": {
        "colab": {
          "base_uri": "https://localhost:8080/"
        },
        "id": "ArmjagZbA68F",
        "outputId": "6fd924db-16e8-484c-a0dc-a955ae57ad0b"
      },
      "execution_count": null,
      "outputs": [
        {
          "output_type": "stream",
          "name": "stdout",
          "text": [
            "+----------+\n",
            "|sum(price)|\n",
            "+----------+\n",
            "|    195600|\n",
            "+----------+\n",
            "\n"
          ]
        }
      ]
    },
    {
      "cell_type": "code",
      "source": [
        "#평균\n",
        "\n",
        "spark.sql(\"select mean(price) from stocks where country = 'Korea'\").show()"
      ],
      "metadata": {
        "colab": {
          "base_uri": "https://localhost:8080/"
        },
        "id": "OeTk0EC8A8hU",
        "outputId": "dc2bcd55-9355-425f-867d-742a36e17919"
      },
      "execution_count": null,
      "outputs": [
        {
          "output_type": "stream",
          "name": "stdout",
          "text": [
            "+-----------+\n",
            "|mean(price)|\n",
            "+-----------+\n",
            "|    97800.0|\n",
            "+-----------+\n",
            "\n"
          ]
        }
      ]
    },
    {
      "cell_type": "code",
      "source": [
        "#'Korea' 값이 몇개인지\n",
        "\n",
        "spark.sql(\"select count(price) from stocks where country = 'Korea'\").show()"
      ],
      "metadata": {
        "colab": {
          "base_uri": "https://localhost:8080/"
        },
        "id": "qyU2g60iBCbP",
        "outputId": "e098e4fb-bf7f-4294-e010-97e1bca186d2"
      },
      "execution_count": null,
      "outputs": [
        {
          "output_type": "stream",
          "name": "stdout",
          "text": [
            "+------------+\n",
            "|count(price)|\n",
            "+------------+\n",
            "|           2|\n",
            "+------------+\n",
            "\n"
          ]
        }
      ]
    },
    {
      "cell_type": "markdown",
      "source": [
        "14. in"
      ],
      "metadata": {
        "id": "Qd8ZrHaBDFn2"
      }
    },
    {
      "cell_type": "code",
      "source": [
        "#USA, Korea 가 몇개인지\n",
        "\n",
        "spark.sql(\"select count(price) from stocks where country in ('Korea', 'USA')\").show()"
      ],
      "metadata": {
        "colab": {
          "base_uri": "https://localhost:8080/"
        },
        "id": "wXYUurhXDGuO",
        "outputId": "2da87561-6a01-438c-8c72-c01b1656323f"
      },
      "execution_count": null,
      "outputs": [
        {
          "output_type": "stream",
          "name": "stdout",
          "text": [
            "+------------+\n",
            "|count(price)|\n",
            "+------------+\n",
            "|           6|\n",
            "+------------+\n",
            "\n"
          ]
        }
      ]
    },
    {
      "cell_type": "markdown",
      "source": [
        "15. join : 여러개의 테이블 다루기 (실무에선 여러개의 테이블의 데이터를 씀 -> 유용함)"
      ],
      "metadata": {
        "id": "adWPWNZjDLMu"
      }
    },
    {
      "cell_type": "code",
      "source": [
        "# 새로운 데이터 가져오기\n",
        "earnings = [\n",
        "('Google', 27.99, 'USD'),\n",
        "('Netflix', 2.56, 'USD'),\n",
        "('Amazon', 6.12, 'USD'),\n",
        "('Tesla', 1.86, 'USD'),\n",
        "('Tencent', 11.01, 'HKD'),\n",
        "('Toyota', 224.82, 'JPY'),\n",
        "('Samsung', 1780., 'KRW'),\n",
        "('Kakao', 705., 'KRW')\n",
        "]\n",
        "\n",
        "#직접 스키마의 타입 정하기\n",
        "from pyspark.sql.types import StringType, FloatType, StructType, StructField\n",
        "\n",
        "earningsSchema = StructType([\n",
        "\tStructField(\"name\", StringType(), True),\n",
        "\tStructField(\"eps\", FloatType(), True),\n",
        "\tStructField(\"currency\", StringType(), True)\n",
        "])\n",
        "\n",
        "\n",
        "earningsDF = spark.createDataFrame(data = earnings, schema = earningsSchema)"
      ],
      "metadata": {
        "id": "3CT2i_kXDKek"
      },
      "execution_count": null,
      "outputs": []
    },
    {
      "cell_type": "code",
      "source": [
        "#데이터프레임 스키마 타입 확인하기\n",
        "\n",
        "earningsDF.dtypes"
      ],
      "metadata": {
        "colab": {
          "base_uri": "https://localhost:8080/"
        },
        "id": "VCJjVwddDlAw",
        "outputId": "c12c0563-f743-418e-8698-fcb17e233dc6"
      },
      "execution_count": null,
      "outputs": [
        {
          "output_type": "execute_result",
          "data": {
            "text/plain": [
              "[('name', 'string'), ('eps', 'float'), ('currency', 'string')]"
            ]
          },
          "metadata": {},
          "execution_count": 25
        }
      ]
    },
    {
      "cell_type": "code",
      "source": [
        "earningsDF.createOrReplaceTempView(\"earnings\")"
      ],
      "metadata": {
        "id": "_SIhppW6Doid"
      },
      "execution_count": null,
      "outputs": []
    },
    {
      "cell_type": "code",
      "source": [
        "#데이터프레임 데이터 보기\n",
        "\n",
        "earningsDF.select(\"*\").show()"
      ],
      "metadata": {
        "colab": {
          "base_uri": "https://localhost:8080/"
        },
        "id": "AXlFvx7qDpwI",
        "outputId": "2c0fd62e-09c4-475d-f8af-18cd57657f36"
      },
      "execution_count": null,
      "outputs": [
        {
          "output_type": "stream",
          "name": "stdout",
          "text": [
            "+-------+------+--------+\n",
            "|   name|   eps|currency|\n",
            "+-------+------+--------+\n",
            "| Google| 27.99|     USD|\n",
            "|Netflix|  2.56|     USD|\n",
            "| Amazon|  6.12|     USD|\n",
            "|  Tesla|  1.86|     USD|\n",
            "|Tencent| 11.01|     HKD|\n",
            "| Toyota|224.82|     JPY|\n",
            "|Samsung|1780.0|     KRW|\n",
            "|  Kakao| 705.0|     KRW|\n",
            "+-------+------+--------+\n",
            "\n"
          ]
        }
      ]
    },
    {
      "cell_type": "markdown",
      "source": [
        "Inner Join"
      ],
      "metadata": {
        "id": "MM_1Ui76Dx1L"
      }
    },
    {
      "cell_type": "code",
      "source": [
        "# join의 기준 : stocks.name = earnings.name\n",
        "\n",
        "spark.sql(\"select * from stocks join earnings on stocks.name = earnings.name\").show()"
      ],
      "metadata": {
        "colab": {
          "base_uri": "https://localhost:8080/"
        },
        "id": "9TuAbLbGDzBk",
        "outputId": "f46ffc02-829a-4ba5-e676-0a286b08238d"
      },
      "execution_count": null,
      "outputs": [
        {
          "output_type": "stream",
          "name": "stdout",
          "text": [
            "+-------+------+---------+------+--------+-------+------+--------+\n",
            "|   name|ticker|  country| price|currency|   name|   eps|currency|\n",
            "+-------+------+---------+------+--------+-------+------+--------+\n",
            "| Amazon|  AMZN|      USA|  3518|     USD| Amazon|  6.12|     USD|\n",
            "| Google| GOOGL|      USA|  2984|     USD| Google| 27.99|     USD|\n",
            "|  Kakao|035720|    Korea|125000|     KRW|  Kakao| 705.0|     KRW|\n",
            "|Netflix|  NFLX|      USA|   645|     USD|Netflix|  2.56|     USD|\n",
            "|Samsung|005930|    Korea| 70600|     KRW|Samsung|1780.0|     KRW|\n",
            "|Tencent|  0700|Hong Kong|   483|     HKD|Tencent| 11.01|     HKD|\n",
            "|  Tesla|  TSLA|      USA|  1222|     USD|  Tesla|  1.86|     USD|\n",
            "| Toyota|  7203|    Japan|  2006|     JPY| Toyota|224.82|     JPY|\n",
            "+-------+------+---------+------+--------+-------+------+--------+\n",
            "\n"
          ]
        }
      ]
    },
    {
      "cell_type": "code",
      "source": [
        "#PER(Price-earnings ratio) : Price / EPS\n",
        "\n",
        "spark.sql(\"select stocks.name, (stocks.price/earnings.eps) from stocks join earnings on stocks.name = earnings.name\").show()"
      ],
      "metadata": {
        "colab": {
          "base_uri": "https://localhost:8080/"
        },
        "id": "cYq5JR-lD2Tu",
        "outputId": "fc17a662-0203-4f42-b129-4c85afc5f1de"
      },
      "execution_count": null,
      "outputs": [
        {
          "output_type": "stream",
          "name": "stdout",
          "text": [
            "+-------+------------------+\n",
            "|   name|     (price / eps)|\n",
            "+-------+------------------+\n",
            "| Amazon| 574.8366120563447|\n",
            "| Google| 106.6095042658442|\n",
            "|  Kakao| 177.3049645390071|\n",
            "|Netflix| 251.9531306315913|\n",
            "|Samsung|39.662921348314605|\n",
            "|Tencent| 43.86920889728746|\n",
            "|  Tesla|  656.989242258975|\n",
            "| Toyota| 8.922693419839167|\n",
            "+-------+------------------+\n",
            "\n"
          ]
        }
      ]
    },
    {
      "cell_type": "code",
      "source": [
        "# 사용 후 종료!\n",
        "\n",
        "spark.stop()"
      ],
      "metadata": {
        "id": "lRi9ifxrGN2Z"
      },
      "execution_count": null,
      "outputs": []
    },
    {
      "cell_type": "markdown",
      "source": [
        "##**실습**\n",
        "\n",
        "###Data : TLC Trip Record Data\n",
        "- 10+년 이상의 택시와 모빌리티 서비스 기록\n",
        "- 매년 20GB씩 쌓임\n",
        "- https://www1.nyc.gov/site/tlc/about/tlc-trip-record-data.page\n",
        "\n",
        "####데이터 정보\n",
        "- hvfhs_license_num : 회사 면허 번호\n",
        "- dispatching_base_num : 지역 라이센스 번호\n",
        "- pickup_datetime : 승차 시간\n",
        "- dropoff_datetime : 하차 시간\n",
        "- PULocationID : 승차 지역 ID\n",
        "- DOLocationID : 하차 지역 ID\n",
        "- SR_Flag : 합승 여부 Flag"
      ],
      "metadata": {
        "id": "0ZbaP6N8jRLw"
      }
    },
    {
      "cell_type": "code",
      "source": [
        "from pyspark.sql import SparkSession\n",
        "\n",
        "spark = SparkSession.builder.appName(\"taxi-analysis\").getOrCreate()"
      ],
      "metadata": {
        "id": "LmGdHc-2ix5K"
      },
      "execution_count": null,
      "outputs": []
    },
    {
      "cell_type": "code",
      "source": [
        "# 데이터\n",
        "\n",
        "trip_files = \"/content/drive/MyDrive/Colab Notebooks/2022/BOAZ/학기 세션/fhvhv_tripdata_2020-03.csv\"\n",
        "zone_file = \"/content/drive/MyDrive/Colab Notebooks/2022/BOAZ/학기 세션/taxi+_zone_lookup.csv\"\n",
        "\n",
        "# df생성\n",
        "trips_df = spark.read.csv(trip_files, inferSchema = True, header = True)\n",
        "zone_df = spark.read.csv(zone_file, inferSchema = True, header = True)"
      ],
      "metadata": {
        "id": "SpOrSIwgHAi3"
      },
      "execution_count": null,
      "outputs": []
    },
    {
      "cell_type": "code",
      "source": [
        "# 스키마 확인\n",
        "\n",
        "trips_df.printSchema()\n",
        "zone_df.printSchema()"
      ],
      "metadata": {
        "id": "B0XVh-KkkpfV",
        "colab": {
          "base_uri": "https://localhost:8080/"
        },
        "outputId": "ed1013ab-9d65-419f-e22b-0991d0ac49c8"
      },
      "execution_count": null,
      "outputs": [
        {
          "output_type": "stream",
          "name": "stdout",
          "text": [
            "root\n",
            " |-- _c0: integer (nullable = true)\n",
            " |-- hvfhs_license_num: string (nullable = true)\n",
            " |-- dispatching_base_num: string (nullable = true)\n",
            " |-- originating_base_num: string (nullable = true)\n",
            " |-- request_datetime: timestamp (nullable = true)\n",
            " |-- on_scene_datetime: timestamp (nullable = true)\n",
            " |-- pickup_datetime: timestamp (nullable = true)\n",
            " |-- dropoff_datetime: timestamp (nullable = true)\n",
            " |-- PULocationID: integer (nullable = true)\n",
            " |-- DOLocationID: integer (nullable = true)\n",
            " |-- trip_miles: double (nullable = true)\n",
            " |-- trip_time: integer (nullable = true)\n",
            " |-- base_passenger_fare: double (nullable = true)\n",
            " |-- tolls: double (nullable = true)\n",
            " |-- bcf: double (nullable = true)\n",
            " |-- sales_tax: double (nullable = true)\n",
            " |-- congestion_surcharge: double (nullable = true)\n",
            " |-- airport_fee: double (nullable = true)\n",
            " |-- tips: double (nullable = true)\n",
            " |-- driver_pay: double (nullable = true)\n",
            " |-- shared_request_flag: string (nullable = true)\n",
            " |-- shared_match_flag: string (nullable = true)\n",
            " |-- access_a_ride_flag: string (nullable = true)\n",
            " |-- wav_request_flag: string (nullable = true)\n",
            " |-- wav_match_flag: string (nullable = true)\n",
            "\n",
            "root\n",
            " |-- LocationID: integer (nullable = true)\n",
            " |-- Borough: string (nullable = true)\n",
            " |-- Zone: string (nullable = true)\n",
            " |-- service_zone: string (nullable = true)\n",
            "\n"
          ]
        }
      ]
    },
    {
      "cell_type": "code",
      "source": [
        "trips_df.createOrReplaceTempView(\"trips\")\n",
        "zone_df.createOrReplaceTempView(\"zone\")"
      ],
      "metadata": {
        "id": "f2fWsLCrIwrT"
      },
      "execution_count": null,
      "outputs": []
    },
    {
      "cell_type": "code",
      "source": [],
      "metadata": {
        "id": "PD7nDzFuIyXQ"
      },
      "execution_count": null,
      "outputs": []
    },
    {
      "cell_type": "code",
      "source": [
        "# 사용 후 종료!\n",
        "\n",
        "spark.stop()"
      ],
      "metadata": {
        "id": "0NT6QuRpqq3e"
      },
      "execution_count": null,
      "outputs": []
    },
    {
      "cell_type": "markdown",
      "source": [
        "Reference\n",
        "\n",
        "\n",
        "https://spark.apache.org/docs/latest/api/python/#"
      ],
      "metadata": {
        "id": "iYwcJAVpggKs"
      }
    }
  ]
}