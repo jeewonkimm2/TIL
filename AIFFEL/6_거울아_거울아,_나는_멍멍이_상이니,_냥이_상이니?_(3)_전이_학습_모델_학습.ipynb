{
  "nbformat": 4,
  "nbformat_minor": 0,
  "metadata": {
    "colab": {
      "provenance": [],
      "mount_file_id": "1lD_oE2eTYwluO-p1z0dmyxJGXxvO6l--",
      "authorship_tag": "ABX9TyM8R5QadUFOjbsvIHsGniyx"
    },
    "kernelspec": {
      "name": "python3",
      "display_name": "Python 3"
    },
    "language_info": {
      "name": "python"
    },
    "accelerator": "GPU",
    "gpuClass": "standard"
  },
  "cells": [
    {
      "cell_type": "markdown",
      "source": [
        "##학습목표\n",
        "- Backbone 모델을 원하는 레이어(layer)만큼 새로 학습시켜서 사용할 수 있다.\n",
        "- Backbone 모델을 Transfer Learning 시킴으로써 원하는 이미지를 분류시킬 수 있다.\n",
        "- 잘 학습된 모델을 저장하고, load할 수 있다."
      ],
      "metadata": {
        "id": "3KT9HtnNM15h"
      }
    },
    {
      "cell_type": "code",
      "execution_count": 1,
      "metadata": {
        "colab": {
          "base_uri": "https://localhost:8080/"
        },
        "id": "tv-qQICOMzNL",
        "outputId": "dfd29027-4a43-47ff-96fb-412d6fbf9105"
      },
      "outputs": [
        {
          "output_type": "stream",
          "name": "stdout",
          "text": [
            "Downloading data from https://storage.googleapis.com/tensorflow/keras-applications/vgg16/vgg16_weights_tf_dim_ordering_tf_kernels_notop.h5\n",
            "58892288/58889256 [==============================] - 0s 0us/step\n",
            "58900480/58889256 [==============================] - 0s 0us/step\n",
            "슝~\n"
          ]
        }
      ],
      "source": [
        "# 라이브러리 import\n",
        "import tensorflow as tf\n",
        "import tensorflow_datasets as tfds\n",
        "from tensorflow.keras.models import Sequential\n",
        "from tensorflow.keras.layers import Dense, Conv2D, Flatten, MaxPooling2D\n",
        "\n",
        "# 데이터 가져오기\n",
        "(raw_train, raw_validation, raw_test), metadata = tfds.load(\n",
        "    name = 'cats_vs_dogs',\n",
        "    split = ['train[:80%]', 'train[80%:90%]', 'train[90%:]'],\n",
        "    data_dir = \"/content/drive/MyDrive/Colab Notebooks/2022/BOAZ/아이펠/4_data/\",\n",
        "    download = False,\n",
        "    with_info = True,\n",
        "    as_supervised=True,\n",
        ")\n",
        "\n",
        "\n",
        "# 리사이징할 이미지 크기\n",
        "IMG_SIZE = 160\n",
        "\n",
        "# 이미지를 같은 포맷으로 통일, 픽셀값의 scale 수정\n",
        "def format_example(image, label):\n",
        "  image = tf.cast(image, tf.float32)\n",
        "  image = (image/127.5) - 1\n",
        "  image = tf.image.resize(image, (IMG_SIZE,IMG_SIZE))\n",
        "  return image, label\n",
        "\n",
        "# 원하는 모양의 데이터셋으로 변환\n",
        "train = raw_train.map(format_example)\n",
        "validation = raw_validation.map(format_example)\n",
        "test = raw_test.map(format_example)\n",
        "\n",
        "# 한 스텝에 학습시킬 데이터의 개수\n",
        "BATCH_SIZE = 32\n",
        "# 학습 데이터를 적절히 섞어줄 사이즈\n",
        "SHUFFLE_BUFFER_SIZE = 1000\n",
        "\n",
        "# BATCH_SIZE에 따라 데이터를 랜덤으로 뽑아 제공\n",
        "train_batches = train.shuffle(SHUFFLE_BUFFER_SIZE).batch(BATCH_SIZE)\n",
        "validation_batches = validation.batch(BATCH_SIZE)\n",
        "test_batches = test.batch(BATCH_SIZE)\n",
        "\n",
        "# 하나의 batch를 꺼내 확인\n",
        "for image_batch, label_batch in train_batches.take(1):\n",
        "  pass\n",
        "\n",
        "IMG_SHAPE = (IMG_SIZE, IMG_SIZE, 3)\n",
        "\n",
        "# 사전학습된 VGG16 모델을 base_model 의 변수로 불러오기\n",
        "base_model = tf.keras.applications.VGG16(input_shape = IMG_SHAPE,\n",
        "                                         include_top = False,\n",
        "                                         weights = 'imagenet')\n",
        "\n",
        "# Global Average Pooling 계층 만들기\n",
        "global_average_layer = tf.keras.layers.GlobalAveragePooling2D()\n",
        "\n",
        "# 모델에 배치 넣기\n",
        "feature_batch = base_model(image_batch)\n",
        "\n",
        "# Global Average Pooling계층에 feature_batch 넣기\n",
        "feature_batch_average = global_average_layer(feature_batch)\n",
        "\n",
        "# Dense 레이어\n",
        "dense_layer = tf.keras.layers.Dense(512, activation = 'relu')\n",
        "prediction_layer = tf.keras.layers.Dense(2, activation = 'softmax')\n",
        "\n",
        "# feature_batch_averag가 dense_layer를 거친 결과가 다시 prediction_layer를 거치게 되면\n",
        "prediction_batch = prediction_layer(dense_layer(feature_batch_average))\n",
        "\n",
        "# base_model은 학습시키지 않음\n",
        "base_model.trainable = False\n",
        "\n",
        "# 최종 모델\n",
        "model = tf.keras.Sequential([\n",
        "    base_model,\n",
        "    global_average_layer,\n",
        "    dense_layer,\n",
        "    prediction_layer\n",
        "])\n",
        "\n",
        "print(\"슝~\")"
      ]
    },
    {
      "cell_type": "markdown",
      "source": [
        "모델 학습\n",
        "\n",
        "optimizer, loss, metrics 준비해서 compile 하면 됨"
      ],
      "metadata": {
        "id": "Sy0MYWJ1SdxA"
      }
    },
    {
      "cell_type": "code",
      "source": [
        "base_learning_rate = 0.0001\n",
        "\n",
        "model.compile(optimizer = tf.keras.optimizers.RMSprop(lr=base_learning_rate),\n",
        "              loss = tf.keras.losses.sparse_categorical_crossentropy,\n",
        "              metrics= ['accuracy'])\n",
        "\n",
        "print(\"슝~\")"
      ],
      "metadata": {
        "colab": {
          "base_uri": "https://localhost:8080/"
        },
        "id": "DGgtLH8PSh4W",
        "outputId": "5766ff16-241b-4256-eb78-33a7b21ea1aa"
      },
      "execution_count": 2,
      "outputs": [
        {
          "output_type": "stream",
          "name": "stdout",
          "text": [
            "슝~\n"
          ]
        },
        {
          "output_type": "stream",
          "name": "stderr",
          "text": [
            "/usr/local/lib/python3.7/dist-packages/keras/optimizer_v2/rmsprop.py:130: UserWarning: The `lr` argument is deprecated, use `learning_rate` instead.\n",
            "  super(RMSprop, self).__init__(name, **kwargs)\n"
          ]
        }
      ]
    },
    {
      "cell_type": "code",
      "source": [
        "# 초기 손실과 정확도 값 확인\n",
        "\n",
        "validation_steps = 20\n",
        "loss0, accuracy0 = model.evaluate(validation_batches, steps = validation_steps)\n",
        "\n",
        "print(\"initial loss: {:.2f}\".format(loss0))\n",
        "print(\"initial accuracy: {:.2f}\".format(accuracy0))"
      ],
      "metadata": {
        "colab": {
          "base_uri": "https://localhost:8080/"
        },
        "id": "Mvq5opQgSum-",
        "outputId": "d4601dcc-4d74-4664-fe25-67d1883e32ad"
      },
      "execution_count": 3,
      "outputs": [
        {
          "output_type": "stream",
          "name": "stdout",
          "text": [
            "20/20 [==============================] - 3s 86ms/step - loss: 0.7585 - accuracy: 0.4844\n",
            "initial loss: 0.76\n",
            "initial accuracy: 0.48\n"
          ]
        }
      ]
    },
    {
      "cell_type": "code",
      "source": [
        "# 모델 학습 == 최종 성능\n",
        "\n",
        "EPOCHS = 5\n",
        "\n",
        "history = model.fit(train_batches,\n",
        "                    epochs = EPOCHS,\n",
        "                    validation_data = validation_batches)"
      ],
      "metadata": {
        "colab": {
          "base_uri": "https://localhost:8080/"
        },
        "id": "VNFO-xg0S5CM",
        "outputId": "2a136da7-1275-4457-fd14-57ab2d7f4648"
      },
      "execution_count": 4,
      "outputs": [
        {
          "output_type": "stream",
          "name": "stdout",
          "text": [
            "Epoch 1/5\n",
            "582/582 [==============================] - 85s 141ms/step - loss: 0.2542 - accuracy: 0.9082 - val_loss: 0.1751 - val_accuracy: 0.9295\n",
            "Epoch 2/5\n",
            "582/582 [==============================] - 87s 145ms/step - loss: 0.1605 - accuracy: 0.9348 - val_loss: 0.1551 - val_accuracy: 0.9351\n",
            "Epoch 3/5\n",
            "582/582 [==============================] - 79s 132ms/step - loss: 0.1458 - accuracy: 0.9401 - val_loss: 0.1478 - val_accuracy: 0.9377\n",
            "Epoch 4/5\n",
            "582/582 [==============================] - 78s 131ms/step - loss: 0.1384 - accuracy: 0.9437 - val_loss: 0.1426 - val_accuracy: 0.9420\n",
            "Epoch 5/5\n",
            "582/582 [==============================] - 77s 130ms/step - loss: 0.1335 - accuracy: 0.9452 - val_loss: 0.1522 - val_accuracy: 0.9394\n"
          ]
        }
      ]
    },
    {
      "cell_type": "code",
      "source": [
        "# 그래프로 학습 과정 살피기\n",
        "import matplotlib.pyplot as plt\n",
        "\n",
        "acc = history.history['accuracy']\n",
        "val_acc = history.history['val_accuracy']\n",
        "loss = history.history['loss']\n",
        "val_loss = history.history['val_loss']\n",
        "\n",
        "plt.figure(figsize=(12,8))\n",
        "plt.subplot(1,2,1)\n",
        "plt.plot(acc,label = 'Training Accuracy')\n",
        "plt.plot(val_acc, label = 'Validation Accuracy')\n",
        "plt.legend(loc='lower right')\n",
        "plt.ylabel('Accuracy')\n",
        "plt.ylim([min(plt.ylim()),1])\n",
        "plt.title('Training and Validation Accuracy')\n",
        "\n",
        "plt.subplot(1, 2, 2)\n",
        "plt.plot(loss, label='Training Loss')\n",
        "plt.plot(val_loss, label='Validation Loss')\n",
        "plt.legend(loc='upper right')\n",
        "plt.ylabel('Cross Entropy')\n",
        "plt.ylim([0,1.0])\n",
        "plt.title('Training and Validation Loss')\n",
        "plt.xlabel('epoch')\n",
        "plt.show()"
      ],
      "metadata": {
        "colab": {
          "base_uri": "https://localhost:8080/",
          "height": 513
        },
        "id": "At2K3UgaULK1",
        "outputId": "ea4bfe49-f6aa-4a4b-c15e-acfeaff76957"
      },
      "execution_count": 10,
      "outputs": [
        {
          "output_type": "display_data",
          "data": {
            "text/plain": [
              "<Figure size 864x576 with 2 Axes>"
            ],
            "image/png": "[encoded data removed]"
          },
          "metadata": {
            "needs_background": "light"
          }
        }
      ]
    }
  ]
}