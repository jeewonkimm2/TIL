{
 "cells": [
  {
   "cell_type": "markdown",
   "id": "c2c29e77",
   "metadata": {},
   "source": [
    "# Linear regression"
   ]
  },
  {
   "cell_type": "markdown",
   "id": "e51b9182",
   "metadata": {},
   "source": [
    "#### linear regression on extended_boston dataset"
   ]
  },
  {
   "cell_type": "code",
   "execution_count": 1,
   "id": "0e78bf19",
   "metadata": {
    "scrolled": true
   },
   "outputs": [
    {
     "name": "stdout",
     "output_type": "stream",
     "text": [
      "(506, 104) (506,)\n"
     ]
    },
    {
     "name": "stderr",
     "output_type": "stream",
     "text": [
      "/Users/jeewonkim/opt/anaconda3/lib/python3.8/site-packages/sklearn/utils/deprecation.py:87: FutureWarning: Function load_boston is deprecated; `load_boston` is deprecated in 1.0 and will be removed in 1.2.\n",
      "\n",
      "    The Boston housing prices dataset has an ethical problem. You can refer to\n",
      "    the documentation of this function for further details.\n",
      "\n",
      "    The scikit-learn maintainers therefore strongly discourage the use of this\n",
      "    dataset unless the purpose of the code is to study and educate about\n",
      "    ethical issues in data science and machine learning.\n",
      "\n",
      "    In this special case, you can fetch the dataset from the original\n",
      "    source::\n",
      "\n",
      "        import pandas as pd\n",
      "        import numpy as np\n",
      "\n",
      "\n",
      "        data_url = \"http://lib.stat.cmu.edu/datasets/boston\"\n",
      "        raw_df = pd.read_csv(data_url, sep=\"\\s+\", skiprows=22, header=None)\n",
      "        data = np.hstack([raw_df.values[::2, :], raw_df.values[1::2, :2]])\n",
      "        target = raw_df.values[1::2, 2]\n",
      "\n",
      "    Alternative datasets include the California housing dataset (i.e.\n",
      "    :func:`~sklearn.datasets.fetch_california_housing`) and the Ames housing\n",
      "    dataset. You can load the datasets as follows::\n",
      "\n",
      "        from sklearn.datasets import fetch_california_housing\n",
      "        housing = fetch_california_housing()\n",
      "\n",
      "    for the California housing dataset and::\n",
      "\n",
      "        from sklearn.datasets import fetch_openml\n",
      "        housing = fetch_openml(name=\"house_prices\", as_frame=True)\n",
      "\n",
      "    for the Ames housing dataset.\n",
      "    \n",
      "  warnings.warn(msg, category=FutureWarning)\n"
     ]
    }
   ],
   "source": [
    "import mglearn\n",
    "X, y = mglearn.datasets.load_extended_boston()\n",
    "print(X.shape, y.shape)"
   ]
  },
  {
   "cell_type": "markdown",
   "id": "a45511e5",
   "metadata": {},
   "source": [
    "- The dataset consists of 506 data points described by 104 features\n",
    "- The 104 features are the 13 original features together with the 91 possible combinations of two features within those 13 (all products between original features).\n",
    "- The regression task associated with this dataset is to predict the median value of homes in several Boston neighborhoods in the 1970s, using information such as crime rate, proximity to the Charles River, highway accessibility, and so on.\n"
   ]
  },
  {
   "cell_type": "code",
   "execution_count": 2,
   "id": "d7540d25",
   "metadata": {},
   "outputs": [
    {
     "data": {
      "text/plain": [
       "array([24. , 21.6, 34.7, 33.4, 36.2, 28.7, 22.9, 27.1, 16.5, 18.9, 15. ,\n",
       "       18.9, 21.7, 20.4, 18.2, 19.9, 23.1, 17.5, 20.2, 18.2, 13.6, 19.6,\n",
       "       15.2, 14.5, 15.6, 13.9, 16.6, 14.8, 18.4, 21. , 12.7, 14.5, 13.2,\n",
       "       13.1, 13.5, 18.9, 20. , 21. , 24.7, 30.8, 34.9, 26.6, 25.3, 24.7,\n",
       "       21.2, 19.3, 20. , 16.6, 14.4, 19.4, 19.7, 20.5, 25. , 23.4, 18.9,\n",
       "       35.4, 24.7, 31.6, 23.3, 19.6, 18.7, 16. , 22.2, 25. , 33. , 23.5,\n",
       "       19.4, 22. , 17.4, 20.9, 24.2, 21.7, 22.8, 23.4, 24.1, 21.4, 20. ,\n",
       "       20.8, 21.2, 20.3, 28. , 23.9, 24.8, 22.9, 23.9, 26.6, 22.5, 22.2,\n",
       "       23.6, 28.7, 22.6, 22. , 22.9, 25. , 20.6, 28.4, 21.4, 38.7, 43.8,\n",
       "       33.2, 27.5, 26.5, 18.6, 19.3, 20.1, 19.5, 19.5, 20.4, 19.8, 19.4,\n",
       "       21.7, 22.8, 18.8, 18.7, 18.5, 18.3, 21.2, 19.2, 20.4, 19.3, 22. ,\n",
       "       20.3, 20.5, 17.3, 18.8, 21.4, 15.7, 16.2, 18. , 14.3, 19.2, 19.6,\n",
       "       23. , 18.4, 15.6, 18.1, 17.4, 17.1, 13.3, 17.8, 14. , 14.4, 13.4,\n",
       "       15.6, 11.8, 13.8, 15.6, 14.6, 17.8, 15.4, 21.5, 19.6, 15.3, 19.4,\n",
       "       17. , 15.6, 13.1, 41.3, 24.3, 23.3, 27. , 50. , 50. , 50. , 22.7,\n",
       "       25. , 50. , 23.8, 23.8, 22.3, 17.4, 19.1, 23.1, 23.6, 22.6, 29.4,\n",
       "       23.2, 24.6, 29.9, 37.2, 39.8, 36.2, 37.9, 32.5, 26.4, 29.6, 50. ,\n",
       "       32. , 29.8, 34.9, 37. , 30.5, 36.4, 31.1, 29.1, 50. , 33.3, 30.3,\n",
       "       34.6, 34.9, 32.9, 24.1, 42.3, 48.5, 50. , 22.6, 24.4, 22.5, 24.4,\n",
       "       20. , 21.7, 19.3, 22.4, 28.1, 23.7, 25. , 23.3, 28.7, 21.5, 23. ,\n",
       "       26.7, 21.7, 27.5, 30.1, 44.8, 50. , 37.6, 31.6, 46.7, 31.5, 24.3,\n",
       "       31.7, 41.7, 48.3, 29. , 24. , 25.1, 31.5, 23.7, 23.3, 22. , 20.1,\n",
       "       22.2, 23.7, 17.6, 18.5, 24.3, 20.5, 24.5, 26.2, 24.4, 24.8, 29.6,\n",
       "       42.8, 21.9, 20.9, 44. , 50. , 36. , 30.1, 33.8, 43.1, 48.8, 31. ,\n",
       "       36.5, 22.8, 30.7, 50. , 43.5, 20.7, 21.1, 25.2, 24.4, 35.2, 32.4,\n",
       "       32. , 33.2, 33.1, 29.1, 35.1, 45.4, 35.4, 46. , 50. , 32.2, 22. ,\n",
       "       20.1, 23.2, 22.3, 24.8, 28.5, 37.3, 27.9, 23.9, 21.7, 28.6, 27.1,\n",
       "       20.3, 22.5, 29. , 24.8, 22. , 26.4, 33.1, 36.1, 28.4, 33.4, 28.2,\n",
       "       22.8, 20.3, 16.1, 22.1, 19.4, 21.6, 23.8, 16.2, 17.8, 19.8, 23.1,\n",
       "       21. , 23.8, 23.1, 20.4, 18.5, 25. , 24.6, 23. , 22.2, 19.3, 22.6,\n",
       "       19.8, 17.1, 19.4, 22.2, 20.7, 21.1, 19.5, 18.5, 20.6, 19. , 18.7,\n",
       "       32.7, 16.5, 23.9, 31.2, 17.5, 17.2, 23.1, 24.5, 26.6, 22.9, 24.1,\n",
       "       18.6, 30.1, 18.2, 20.6, 17.8, 21.7, 22.7, 22.6, 25. , 19.9, 20.8,\n",
       "       16.8, 21.9, 27.5, 21.9, 23.1, 50. , 50. , 50. , 50. , 50. , 13.8,\n",
       "       13.8, 15. , 13.9, 13.3, 13.1, 10.2, 10.4, 10.9, 11.3, 12.3,  8.8,\n",
       "        7.2, 10.5,  7.4, 10.2, 11.5, 15.1, 23.2,  9.7, 13.8, 12.7, 13.1,\n",
       "       12.5,  8.5,  5. ,  6.3,  5.6,  7.2, 12.1,  8.3,  8.5,  5. , 11.9,\n",
       "       27.9, 17.2, 27.5, 15. , 17.2, 17.9, 16.3,  7. ,  7.2,  7.5, 10.4,\n",
       "        8.8,  8.4, 16.7, 14.2, 20.8, 13.4, 11.7,  8.3, 10.2, 10.9, 11. ,\n",
       "        9.5, 14.5, 14.1, 16.1, 14.3, 11.7, 13.4,  9.6,  8.7,  8.4, 12.8,\n",
       "       10.5, 17.1, 18.4, 15.4, 10.8, 11.8, 14.9, 12.6, 14.1, 13. , 13.4,\n",
       "       15.2, 16.1, 17.8, 14.9, 14.1, 12.7, 13.5, 14.9, 20. , 16.4, 17.7,\n",
       "       19.5, 20.2, 21.4, 19.9, 19. , 19.1, 19.1, 20.1, 19.9, 19.6, 23.2,\n",
       "       29.8, 13.8, 13.3, 16.7, 12. , 14.6, 21.4, 23. , 23.7, 25. , 21.8,\n",
       "       20.6, 21.2, 19.1, 20.6, 15.2,  7. ,  8.1, 13.6, 20.1, 21.8, 24.5,\n",
       "       23.1, 19.7, 18.3, 21.2, 17.5, 16.8, 22.4, 20.6, 23.9, 22. , 11.9])"
      ]
     },
     "execution_count": 2,
     "metadata": {},
     "output_type": "execute_result"
    }
   ],
   "source": [
    "y # target variable : continuous variable. --> regression not classification"
   ]
  },
  {
   "cell_type": "code",
   "execution_count": 3,
   "id": "21667729",
   "metadata": {},
   "outputs": [],
   "source": [
    "from sklearn.model_selection import train_test_split\n",
    "X_train, X_test, y_train, y_test = train_test_split(X, y, random_state=0)"
   ]
  },
  {
   "cell_type": "markdown",
   "id": "1469d643",
   "metadata": {},
   "source": [
    "https://scikit-learn.org/stable/modules/generated/sklearn.linear_model.LinearRegression.html\n",
    "- Generally, there are no hyperparameters to be set\n",
    "- Most arguments are for technical setting."
   ]
  },
  {
   "cell_type": "code",
   "execution_count": 4,
   "id": "6de278d4",
   "metadata": {},
   "outputs": [
    {
     "data": {
      "text/plain": [
       "LinearRegression()"
      ]
     },
     "execution_count": 4,
     "metadata": {},
     "output_type": "execute_result"
    }
   ],
   "source": [
    "from sklearn.linear_model import LinearRegression\n",
    "lr = LinearRegression()\n",
    "lr.fit(X_train, y_train) # same as LinearRegression().fit(X_train, y_train)\n",
    "\n",
    "# 한 줄로 줄일 수 있다\n",
    "# lr = LinearRegression().fit(X_train, y_train)"
   ]
  },
  {
   "cell_type": "code",
   "execution_count": 5,
   "id": "4ff699ed",
   "metadata": {
    "scrolled": true
   },
   "outputs": [
    {
     "name": "stdout",
     "output_type": "stream",
     "text": [
      "performance for TRAIN--------\n",
      "train MSE :  4.090362612543782\n",
      "performance for TEST--------\n",
      "test MSE :  32.06913512158287\n"
     ]
    }
   ],
   "source": [
    "from sklearn.metrics import mean_squared_error\n",
    "\n",
    "y_train_hat = lr.predict(X_train)\n",
    "y_test_hat = lr.predict(X_test)\n",
    "\n",
    "print('performance for TRAIN--------')\n",
    "print('train MSE : ', mean_squared_error(y_train, y_train_hat))\n",
    "\n",
    "print('performance for TEST--------')\n",
    "print('test MSE : ', mean_squared_error(y_test, y_test_hat))"
   ]
  },
  {
   "cell_type": "markdown",
   "id": "7c260e7e",
   "metadata": {},
   "source": [
    "Is this result good enough? **overfitting** or underfitting?"
   ]
  },
  {
   "cell_type": "markdown",
   "id": "353599a0",
   "metadata": {},
   "source": [
    "### Ridge regression"
   ]
  },
  {
   "cell_type": "markdown",
   "id": "c751242e",
   "metadata": {},
   "source": [
    "https://scikit-learn.org/stable/modules/generated/sklearn.linear_model.Ridge.html  \n",
    "main argument?\n"
   ]
  },
  {
   "cell_type": "code",
   "execution_count": 6,
   "id": "6c47052c",
   "metadata": {},
   "outputs": [
    {
     "data": {
      "text/plain": [
       "Ridge(alpha=1)"
      ]
     },
     "execution_count": 6,
     "metadata": {},
     "output_type": "execute_result"
    }
   ],
   "source": [
    "from sklearn.linear_model import Ridge\n",
    "ridge = Ridge(alpha=1)\n",
    "ridge.fit(X_train, y_train)"
   ]
  },
  {
   "cell_type": "code",
   "execution_count": 7,
   "id": "25190aa3",
   "metadata": {},
   "outputs": [
    {
     "name": "stdout",
     "output_type": "stream",
     "text": [
      "performance for TRAIN--------\n",
      "train MSE :  9.742485553723814\n",
      "performance for TEST--------\n",
      "test MSE :  20.198582539263434\n"
     ]
    }
   ],
   "source": [
    "y_train_hat = ridge.predict(X_train)\n",
    "y_test_hat = ridge.predict(X_test)\n",
    "\n",
    "print('performance for TRAIN--------')\n",
    "print('train MSE : ', mean_squared_error(y_train, y_train_hat))\n",
    "\n",
    "print('performance for TEST--------')\n",
    "print('test MSE : ', mean_squared_error(y_test, y_test_hat))"
   ]
  },
  {
   "cell_type": "markdown",
   "id": "95b99a14",
   "metadata": {},
   "source": [
    "Compare it with the LinearRegression results. Which one is better? **Ridge**"
   ]
  },
  {
   "cell_type": "markdown",
   "id": "172430e2",
   "metadata": {},
   "source": [
    "#### varying the hyperparameter"
   ]
  },
  {
   "cell_type": "code",
   "execution_count": 11,
   "id": "4fedb00c",
   "metadata": {},
   "outputs": [],
   "source": [
    "training_mse = []\n",
    "test_mse = []\n",
    "\n",
    "alpha_settings = [0, 0.1, 1, 10]\n",
    "for alpha in alpha_settings:\n",
    "    '''TODO'''\n",
    "#     Creating object\n",
    "    ridge = Ridge(alpha = alpha)\n",
    "#     training\n",
    "    ridge.fit(X_train, y_train)\n",
    "#     prediction\n",
    "    y_train_hat = ridge.predict(X_train)\n",
    "    y_test_hat = ridge.predict(X_test)\n",
    "#     appending\n",
    "    training_mse.append(mean_squared_error(y_train,y_train_hat))\n",
    "    test_mse.append(mean_squared_error(y_test,y_test_hat))"
   ]
  },
  {
   "cell_type": "code",
   "execution_count": 16,
   "id": "c8bae347",
   "metadata": {},
   "outputs": [
    {
     "data": {
      "text/html": [
       "<div>\n",
       "<style scoped>\n",
       "    .dataframe tbody tr th:only-of-type {\n",
       "        vertical-align: middle;\n",
       "    }\n",
       "\n",
       "    .dataframe tbody tr th {\n",
       "        vertical-align: top;\n",
       "    }\n",
       "\n",
       "    .dataframe thead th {\n",
       "        text-align: right;\n",
       "    }\n",
       "</style>\n",
       "<table border=\"1\" class=\"dataframe\">\n",
       "  <thead>\n",
       "    <tr style=\"text-align: right;\">\n",
       "      <th></th>\n",
       "      <th>alpha</th>\n",
       "      <th>training MSE</th>\n",
       "      <th>test MSE</th>\n",
       "    </tr>\n",
       "  </thead>\n",
       "  <tbody>\n",
       "    <tr>\n",
       "      <th>0</th>\n",
       "      <td>0.0</td>\n",
       "      <td>4.106419</td>\n",
       "      <td>32.109380</td>\n",
       "    </tr>\n",
       "    <tr>\n",
       "      <th>1</th>\n",
       "      <td>0.1</td>\n",
       "      <td>6.122797</td>\n",
       "      <td>18.610481</td>\n",
       "    </tr>\n",
       "    <tr>\n",
       "      <th>2</th>\n",
       "      <td>1.0</td>\n",
       "      <td>9.742486</td>\n",
       "      <td>20.198583</td>\n",
       "    </tr>\n",
       "    <tr>\n",
       "      <th>3</th>\n",
       "      <td>10.0</td>\n",
       "      <td>18.061570</td>\n",
       "      <td>29.743250</td>\n",
       "    </tr>\n",
       "  </tbody>\n",
       "</table>\n",
       "</div>"
      ],
      "text/plain": [
       "   alpha  training MSE   test MSE\n",
       "0    0.0      4.106419  32.109380\n",
       "1    0.1      6.122797  18.610481\n",
       "2    1.0      9.742486  20.198583\n",
       "3   10.0     18.061570  29.743250"
      ]
     },
     "execution_count": 16,
     "metadata": {},
     "output_type": "execute_result"
    }
   ],
   "source": [
    "import pandas as pd\n",
    "\n",
    "pd.DataFrame({\"alpha\":alpha_settings, \"training MSE\": training_mse, \"test MSE\": test_mse})"
   ]
  },
  {
   "cell_type": "markdown",
   "id": "1cb1a210",
   "metadata": {},
   "source": [
    "alpha = 0.1 일때 best"
   ]
  },
  {
   "cell_type": "markdown",
   "id": "98f9ba9c",
   "metadata": {},
   "source": [
    "#### effect of the hyperparameter alpha on RidgeRegression"
   ]
  },
  {
   "cell_type": "code",
   "execution_count": 22,
   "id": "e14ed2e0",
   "metadata": {},
   "outputs": [
    {
     "data": {
      "text/plain": [
       "<matplotlib.legend.Legend at 0x7f894c6eda90>"
      ]
     },
     "execution_count": 22,
     "metadata": {},
     "output_type": "execute_result"
    },
    {
     "data": {
      "image/png": "[encoded data removed]",
      "text/plain": [
       "<Figure size 432x288 with 1 Axes>"
      ]
     },
     "metadata": {
      "needs_background": "light"
     },
     "output_type": "display_data"
    }
   ],
   "source": [
    "import matplotlib.pyplot as plt\n",
    "\n",
    "ridge = Ridge(alpha=1).fit(X_train, y_train)\n",
    "ridge10 = Ridge(alpha=10).fit(X_train, y_train)\n",
    "ridge01 = Ridge(alpha=0.1).fit(X_train, y_train)\n",
    "\n",
    "plt.plot(ridge.coef_, 's', label=\"Ridge alpha=1\")\n",
    "plt.plot(ridge10.coef_, '^', label=\"Ridge alpha=10\")\n",
    "plt.plot(ridge01.coef_, 'v', label=\"Ridge alpha=0.1\")\n",
    "\n",
    "plt.plot(lr.coef_, 'o', label=\"LinearRegression\")\n",
    "plt.xlabel(\"Coefficient index\")\n",
    "plt.ylabel(\"Coefficient magnitude\")\n",
    "xlims = plt.xlim()\n",
    "plt.hlines(0, xlims[0], xlims[1])\n",
    "plt.xlim(xlims)\n",
    "plt.ylim(-25, 25)\n",
    "plt.legend()"
   ]
  },
  {
   "cell_type": "markdown",
   "id": "294d907b",
   "metadata": {},
   "source": [
    "- When α=10, the coefficients are mostly between around –3 and 3\n",
    "- When α=0 (Linear Regression), the coefficients have larger magnitude"
   ]
  },
  {
   "cell_type": "markdown",
   "id": "51b09bdd",
   "metadata": {},
   "source": [
    "### Lasso"
   ]
  },
  {
   "cell_type": "markdown",
   "id": "2ef01be1",
   "metadata": {},
   "source": [
    "- varying the hyperparameter\n",
    "- check the number of variables used for each iteration (variables whoose coefficient is not zero)"
   ]
  },
  {
   "cell_type": "code",
   "execution_count": 37,
   "id": "49589d67",
   "metadata": {},
   "outputs": [
    {
     "name": "stderr",
     "output_type": "stream",
     "text": [
      "/Users/jeewonkim/opt/anaconda3/lib/python3.8/site-packages/sklearn/linear_model/_coordinate_descent.py:647: ConvergenceWarning: Objective did not converge. You might want to increase the number of iterations, check the scale of the features or consider increasing regularisation. Duality gap: 9.440e+02, tolerance: 3.233e+00\n",
      "  model = cd_fast.enet_coordinate_descent(\n",
      "/Users/jeewonkim/opt/anaconda3/lib/python3.8/site-packages/sklearn/linear_model/_coordinate_descent.py:647: ConvergenceWarning: Objective did not converge. You might want to increase the number of iterations, check the scale of the features or consider increasing regularisation. Duality gap: 7.779e+02, tolerance: 3.233e+00\n",
      "  model = cd_fast.enet_coordinate_descent(\n",
      "/Users/jeewonkim/opt/anaconda3/lib/python3.8/site-packages/sklearn/linear_model/_coordinate_descent.py:647: ConvergenceWarning: Objective did not converge. You might want to increase the number of iterations, check the scale of the features or consider increasing regularisation. Duality gap: 4.690e+01, tolerance: 3.233e+00\n",
      "  model = cd_fast.enet_coordinate_descent(\n"
     ]
    }
   ],
   "source": [
    "from sklearn.linear_model import Lasso\n",
    "\n",
    "training_mse = []\n",
    "test_mse = []\n",
    "num_vars_used = []\n",
    "\n",
    "alpha_settings = [0.0001, 0.001, 0.01, 0.1, 1]\n",
    "for alpha in alpha_settings:\n",
    "#    '''TODO'''\n",
    "#     Creating object\n",
    "    lasso = Lasso(alpha = alpha)\n",
    "#     Training\n",
    "    lasso.fit(X_train, y_train)\n",
    "    \n",
    "    num_vars_used.append(sum(lasso.coef_ !=0))\n",
    "    \n",
    "#     Prediction\n",
    "    y_train_hat = lasso.predict(X_train)\n",
    "    y_test_hat = lasso.predict(X_test)\n",
    "#     Appending\n",
    "    training_mse.append(mean_squared_error(y_train, y_train_hat))\n",
    "    test_mse.append(mean_squared_error(y_test, y_test_hat))"
   ]
  },
  {
   "cell_type": "code",
   "execution_count": null,
   "id": "03feaed1",
   "metadata": {},
   "outputs": [],
   "source": [
    "#pd.DataFrame({\"alpha\":alpha_settings, \"training MSE\": training_mse, \"test MSE\": test_mse, \"variables used\": num_vars_used})"
   ]
  },
  {
   "cell_type": "code",
   "execution_count": 38,
   "id": "bd3846d0",
   "metadata": {},
   "outputs": [
    {
     "data": {
      "text/html": [
       "<div>\n",
       "<style scoped>\n",
       "    .dataframe tbody tr th:only-of-type {\n",
       "        vertical-align: middle;\n",
       "    }\n",
       "\n",
       "    .dataframe tbody tr th {\n",
       "        vertical-align: top;\n",
       "    }\n",
       "\n",
       "    .dataframe thead th {\n",
       "        text-align: right;\n",
       "    }\n",
       "</style>\n",
       "<table border=\"1\" class=\"dataframe\">\n",
       "  <thead>\n",
       "    <tr style=\"text-align: right;\">\n",
       "      <th></th>\n",
       "      <th>alpha</th>\n",
       "      <th>training MSE</th>\n",
       "      <th>test MSE</th>\n",
       "      <th>variables used</th>\n",
       "    </tr>\n",
       "  </thead>\n",
       "  <tbody>\n",
       "    <tr>\n",
       "      <th>0</th>\n",
       "      <td>0.0001</td>\n",
       "      <td>4.939931</td>\n",
       "      <td>24.701359</td>\n",
       "      <td>100</td>\n",
       "    </tr>\n",
       "    <tr>\n",
       "      <th>1</th>\n",
       "      <td>0.0010</td>\n",
       "      <td>5.505846</td>\n",
       "      <td>20.032808</td>\n",
       "      <td>76</td>\n",
       "    </tr>\n",
       "    <tr>\n",
       "      <th>2</th>\n",
       "      <td>0.0100</td>\n",
       "      <td>8.862482</td>\n",
       "      <td>18.970547</td>\n",
       "      <td>32</td>\n",
       "    </tr>\n",
       "    <tr>\n",
       "      <th>3</th>\n",
       "      <td>0.1000</td>\n",
       "      <td>19.535968</td>\n",
       "      <td>30.212214</td>\n",
       "      <td>8</td>\n",
       "    </tr>\n",
       "    <tr>\n",
       "      <th>4</th>\n",
       "      <td>1.0000</td>\n",
       "      <td>60.292646</td>\n",
       "      <td>64.593281</td>\n",
       "      <td>4</td>\n",
       "    </tr>\n",
       "  </tbody>\n",
       "</table>\n",
       "</div>"
      ],
      "text/plain": [
       "    alpha  training MSE   test MSE  variables used\n",
       "0  0.0001      4.939931  24.701359             100\n",
       "1  0.0010      5.505846  20.032808              76\n",
       "2  0.0100      8.862482  18.970547              32\n",
       "3  0.1000     19.535968  30.212214               8\n",
       "4  1.0000     60.292646  64.593281               4"
      ]
     },
     "execution_count": 38,
     "metadata": {},
     "output_type": "execute_result"
    }
   ],
   "source": [
    "pd.DataFrame({\"alpha\":alpha_settings, \"training MSE\": training_mse, \"test MSE\": test_mse, \"variables used\": num_vars_used})"
   ]
  },
  {
   "cell_type": "markdown",
   "id": "9c7ce653",
   "metadata": {},
   "source": [
    "- alpha가 클수록 variables used가 작아짐\n",
    "\n",
    "- alpha = 0.01이 가장 best"
   ]
  },
  {
   "cell_type": "code",
   "execution_count": 39,
   "id": "ecf01f01",
   "metadata": {},
   "outputs": [
    {
     "name": "stderr",
     "output_type": "stream",
     "text": [
      "/Users/jeewonkim/opt/anaconda3/lib/python3.8/site-packages/sklearn/linear_model/_coordinate_descent.py:647: ConvergenceWarning: Objective did not converge. You might want to increase the number of iterations, check the scale of the features or consider increasing regularisation. Duality gap: 4.690e+01, tolerance: 3.233e+00\n",
      "  model = cd_fast.enet_coordinate_descent(\n",
      "/Users/jeewonkim/opt/anaconda3/lib/python3.8/site-packages/sklearn/linear_model/_coordinate_descent.py:647: ConvergenceWarning: Objective did not converge. You might want to increase the number of iterations, check the scale of the features or consider increasing regularisation. Duality gap: 9.440e+02, tolerance: 3.233e+00\n",
      "  model = cd_fast.enet_coordinate_descent(\n"
     ]
    },
    {
     "data": {
      "text/plain": [
       "Text(0, 0.5, 'Coefficient magnitude')"
      ]
     },
     "execution_count": 39,
     "metadata": {},
     "output_type": "execute_result"
    },
    {
     "data": {
      "image/png": "[encoded data removed]",
      "text/plain": [
       "<Figure size 432x288 with 1 Axes>"
      ]
     },
     "metadata": {
      "needs_background": "light"
     },
     "output_type": "display_data"
    }
   ],
   "source": [
    "lasso = Lasso().fit(X_train, y_train)\n",
    "lasso001 = Lasso(alpha=0.01, max_iter=1000).fit(X_train, y_train)\n",
    "lasso00001 = Lasso(alpha=0.0001, max_iter=1000).fit(X_train, y_train)\n",
    "\n",
    "plt.plot(lasso.coef_, 's', label=\"Lasso alpha=1\")\n",
    "plt.plot(lasso001.coef_, '^', label=\"Lasso alpha=0.01\")\n",
    "plt.plot(lasso00001.coef_, 'v', label=\"Lasso alpha=0.0001\")\n",
    "\n",
    "plt.plot(ridge01.coef_, 'o', label=\"Ridge alpha=0.1\")\n",
    "plt.legend(ncol=2, loc=(0, 1.05))\n",
    "plt.ylim(-25, 25)\n",
    "plt.xlabel(\"Coefficient index\")\n",
    "plt.ylabel(\"Coefficient magnitude\")"
   ]
  },
  {
   "cell_type": "markdown",
   "id": "88f1c7b2",
   "metadata": {},
   "source": [
    "- Some coefficients are exactly zero(ex-alpha=1일때), meaning that some features are entirely ignored by the model"
   ]
  },
  {
   "cell_type": "markdown",
   "id": "fe06470a",
   "metadata": {},
   "source": [
    "##### Logistic Regression"
   ]
  },
  {
   "cell_type": "markdown",
   "id": "d8df0219",
   "metadata": {},
   "source": [
    "- **Regularization** can be used for logistic regression.\n",
    "- https://scikit-learn.org/stable/modules/generated/sklearn.linear_model.LogisticRegression.html\n",
    "- main arguments\n",
    "    - penalty : default L2 (similar to ridge)\n",
    "    - penalty 파라미터를 l1으로 바꾸면 Lisso와 비슷함\n",
    "    - C (inverse of alpha)"
   ]
  },
  {
   "cell_type": "code",
   "execution_count": 40,
   "id": "d93899c5",
   "metadata": {},
   "outputs": [],
   "source": [
    "from sklearn.datasets import load_breast_cancer\n",
    "cancer = load_breast_cancer()"
   ]
  },
  {
   "cell_type": "code",
   "execution_count": 41,
   "id": "5c8114a7",
   "metadata": {},
   "outputs": [],
   "source": [
    "X_train, X_test, y_train, y_test = train_test_split(\n",
    "    cancer.data, cancer.target, stratify=cancer.target, random_state=42)"
   ]
  },
  {
   "cell_type": "code",
   "execution_count": 44,
   "id": "6d878a78",
   "metadata": {},
   "outputs": [
    {
     "name": "stderr",
     "output_type": "stream",
     "text": [
      "/Users/jeewonkim/opt/anaconda3/lib/python3.8/site-packages/sklearn/linear_model/_logistic.py:814: ConvergenceWarning: lbfgs failed to converge (status=1):\n",
      "STOP: TOTAL NO. of ITERATIONS REACHED LIMIT.\n",
      "\n",
      "Increase the number of iterations (max_iter) or scale the data as shown in:\n",
      "    https://scikit-learn.org/stable/modules/preprocessing.html\n",
      "Please also refer to the documentation for alternative solver options:\n",
      "    https://scikit-learn.org/stable/modules/linear_model.html#logistic-regression\n",
      "  n_iter_i = _check_optimize_result(\n",
      "/Users/jeewonkim/opt/anaconda3/lib/python3.8/site-packages/sklearn/linear_model/_logistic.py:814: ConvergenceWarning: lbfgs failed to converge (status=1):\n",
      "STOP: TOTAL NO. of ITERATIONS REACHED LIMIT.\n",
      "\n",
      "Increase the number of iterations (max_iter) or scale the data as shown in:\n",
      "    https://scikit-learn.org/stable/modules/preprocessing.html\n",
      "Please also refer to the documentation for alternative solver options:\n",
      "    https://scikit-learn.org/stable/modules/linear_model.html#logistic-regression\n",
      "  n_iter_i = _check_optimize_result(\n",
      "/Users/jeewonkim/opt/anaconda3/lib/python3.8/site-packages/sklearn/linear_model/_logistic.py:814: ConvergenceWarning: lbfgs failed to converge (status=1):\n",
      "STOP: TOTAL NO. of ITERATIONS REACHED LIMIT.\n",
      "\n",
      "Increase the number of iterations (max_iter) or scale the data as shown in:\n",
      "    https://scikit-learn.org/stable/modules/preprocessing.html\n",
      "Please also refer to the documentation for alternative solver options:\n",
      "    https://scikit-learn.org/stable/modules/linear_model.html#logistic-regression\n",
      "  n_iter_i = _check_optimize_result(\n",
      "/Users/jeewonkim/opt/anaconda3/lib/python3.8/site-packages/sklearn/linear_model/_logistic.py:814: ConvergenceWarning: lbfgs failed to converge (status=1):\n",
      "STOP: TOTAL NO. of ITERATIONS REACHED LIMIT.\n",
      "\n",
      "Increase the number of iterations (max_iter) or scale the data as shown in:\n",
      "    https://scikit-learn.org/stable/modules/preprocessing.html\n",
      "Please also refer to the documentation for alternative solver options:\n",
      "    https://scikit-learn.org/stable/modules/linear_model.html#logistic-regression\n",
      "  n_iter_i = _check_optimize_result(\n",
      "/Users/jeewonkim/opt/anaconda3/lib/python3.8/site-packages/sklearn/linear_model/_logistic.py:814: ConvergenceWarning: lbfgs failed to converge (status=1):\n",
      "STOP: TOTAL NO. of ITERATIONS REACHED LIMIT.\n",
      "\n",
      "Increase the number of iterations (max_iter) or scale the data as shown in:\n",
      "    https://scikit-learn.org/stable/modules/preprocessing.html\n",
      "Please also refer to the documentation for alternative solver options:\n",
      "    https://scikit-learn.org/stable/modules/linear_model.html#logistic-regression\n",
      "  n_iter_i = _check_optimize_result(\n",
      "/Users/jeewonkim/opt/anaconda3/lib/python3.8/site-packages/sklearn/linear_model/_logistic.py:814: ConvergenceWarning: lbfgs failed to converge (status=1):\n",
      "STOP: TOTAL NO. of ITERATIONS REACHED LIMIT.\n",
      "\n",
      "Increase the number of iterations (max_iter) or scale the data as shown in:\n",
      "    https://scikit-learn.org/stable/modules/preprocessing.html\n",
      "Please also refer to the documentation for alternative solver options:\n",
      "    https://scikit-learn.org/stable/modules/linear_model.html#logistic-regression\n",
      "  n_iter_i = _check_optimize_result(\n",
      "/Users/jeewonkim/opt/anaconda3/lib/python3.8/site-packages/sklearn/linear_model/_logistic.py:814: ConvergenceWarning: lbfgs failed to converge (status=1):\n",
      "STOP: TOTAL NO. of ITERATIONS REACHED LIMIT.\n",
      "\n",
      "Increase the number of iterations (max_iter) or scale the data as shown in:\n",
      "    https://scikit-learn.org/stable/modules/preprocessing.html\n",
      "Please also refer to the documentation for alternative solver options:\n",
      "    https://scikit-learn.org/stable/modules/linear_model.html#logistic-regression\n",
      "  n_iter_i = _check_optimize_result(\n"
     ]
    }
   ],
   "source": [
    "from sklearn.linear_model import LogisticRegression\n",
    "from sklearn.metrics import accuracy_score\n",
    "\n",
    "training_accuracy = []\n",
    "test_accuracy = []\n",
    "\n",
    "C_settings = [0.01, 0.1, 1, 10, 100, 1000, 10000]\n",
    "for C in C_settings:\n",
    "    '''TODO'''\n",
    "#     Creating Object\n",
    "    lr = LogisticRegression(C = C)\n",
    "#     Training\n",
    "    lr.fit(X_train, y_train)\n",
    "#     Prediction\n",
    "    y_train_hat = lr.predict(X_train)\n",
    "    y_test_hat = lr.predict(X_test)\n",
    "\n",
    "#     Appending\n",
    "    training_accuracy.append(accuracy_score(y_train, y_train_hat))\n",
    "    test_accuracy.append(accuracy_score(y_test,y_test_hat))"
   ]
  },
  {
   "cell_type": "code",
   "execution_count": 43,
   "id": "ff4bad38",
   "metadata": {},
   "outputs": [
    {
     "data": {
      "text/html": [
       "<div>\n",
       "<style scoped>\n",
       "    .dataframe tbody tr th:only-of-type {\n",
       "        vertical-align: middle;\n",
       "    }\n",
       "\n",
       "    .dataframe tbody tr th {\n",
       "        vertical-align: top;\n",
       "    }\n",
       "\n",
       "    .dataframe thead th {\n",
       "        text-align: right;\n",
       "    }\n",
       "</style>\n",
       "<table border=\"1\" class=\"dataframe\">\n",
       "  <thead>\n",
       "    <tr style=\"text-align: right;\">\n",
       "      <th></th>\n",
       "      <th>C</th>\n",
       "      <th>training accuracy</th>\n",
       "      <th>test accuracy</th>\n",
       "    </tr>\n",
       "  </thead>\n",
       "  <tbody>\n",
       "    <tr>\n",
       "      <th>0</th>\n",
       "      <td>0.01</td>\n",
       "      <td>0.934272</td>\n",
       "      <td>0.930070</td>\n",
       "    </tr>\n",
       "    <tr>\n",
       "      <th>1</th>\n",
       "      <td>0.10</td>\n",
       "      <td>0.943662</td>\n",
       "      <td>0.937063</td>\n",
       "    </tr>\n",
       "    <tr>\n",
       "      <th>2</th>\n",
       "      <td>1.00</td>\n",
       "      <td>0.946009</td>\n",
       "      <td>0.958042</td>\n",
       "    </tr>\n",
       "    <tr>\n",
       "      <th>3</th>\n",
       "      <td>10.00</td>\n",
       "      <td>0.943662</td>\n",
       "      <td>0.958042</td>\n",
       "    </tr>\n",
       "    <tr>\n",
       "      <th>4</th>\n",
       "      <td>100.00</td>\n",
       "      <td>0.946009</td>\n",
       "      <td>0.958042</td>\n",
       "    </tr>\n",
       "    <tr>\n",
       "      <th>5</th>\n",
       "      <td>1000.00</td>\n",
       "      <td>0.948357</td>\n",
       "      <td>0.958042</td>\n",
       "    </tr>\n",
       "    <tr>\n",
       "      <th>6</th>\n",
       "      <td>10000.00</td>\n",
       "      <td>0.941315</td>\n",
       "      <td>0.958042</td>\n",
       "    </tr>\n",
       "  </tbody>\n",
       "</table>\n",
       "</div>"
      ],
      "text/plain": [
       "          C  training accuracy  test accuracy\n",
       "0      0.01           0.934272       0.930070\n",
       "1      0.10           0.943662       0.937063\n",
       "2      1.00           0.946009       0.958042\n",
       "3     10.00           0.943662       0.958042\n",
       "4    100.00           0.946009       0.958042\n",
       "5   1000.00           0.948357       0.958042\n",
       "6  10000.00           0.941315       0.958042"
      ]
     },
     "execution_count": 43,
     "metadata": {},
     "output_type": "execute_result"
    }
   ],
   "source": [
    "pd.DataFrame({\"C\":C_settings, \"training accuracy\": training_accuracy, \"test accuracy\": test_accuracy})"
   ]
  },
  {
   "cell_type": "markdown",
   "id": "8769a70f",
   "metadata": {},
   "source": [
    "**Strengths**\n",
    "- Linear models are very fast to train, and also fast to predict.\n",
    "- They scale to very large datasets and work well with sparse data.\n",
    "- They make it relatively easy to understand how a prediction is made.\n",
    "\n",
    "**Weaknesses**\n",
    "- If your dataset has highly correlated features, it is often not entirely clear why coefficients are the way they are. (It is important to remove redundant features – <U>**feature selection**</U>)\n",
    "- They would perform worse if the relationship between features and target in your dataset is non-linear."
   ]
  },
  {
   "cell_type": "code",
   "execution_count": null,
   "id": "2f1fa57a",
   "metadata": {},
   "outputs": [],
   "source": []
  },
  {
   "cell_type": "markdown",
   "id": "f4464314",
   "metadata": {},
   "source": [
    "## Simulated example for bias-variance decompostion"
   ]
  },
  {
   "cell_type": "code",
   "execution_count": null,
   "id": "349029fe",
   "metadata": {},
   "outputs": [],
   "source": [
    "import mglearn\n",
    "import pandas as pd\n",
    "import numpy as np\n",
    "import matplotlib.pyplot as plt\n",
    "from sklearn.linear_model import LinearRegression"
   ]
  },
  {
   "cell_type": "code",
   "execution_count": null,
   "id": "589844e1",
   "metadata": {},
   "outputs": [],
   "source": [
    "x_test= np.linspace(0,2,1000) # evenly spaced samples between start and stop)"
   ]
  },
  {
   "cell_type": "code",
   "execution_count": null,
   "id": "3599b7f1",
   "metadata": {},
   "outputs": [],
   "source": [
    "# True function we don't really know\n",
    "def true_function(x):\n",
    "    return np.sin(np.pi * x)"
   ]
  },
  {
   "cell_type": "code",
   "execution_count": null,
   "id": "e4b0146a",
   "metadata": {},
   "outputs": [],
   "source": [
    "y_true = true_function(x_test) # we don't know either. "
   ]
  },
  {
   "cell_type": "code",
   "execution_count": null,
   "id": "11f3e6fc",
   "metadata": {},
   "outputs": [],
   "source": [
    "plt.plot(x_test,y_true)"
   ]
  },
  {
   "cell_type": "code",
   "execution_count": null,
   "id": "17f16fc2",
   "metadata": {},
   "outputs": [],
   "source": [
    "# sample just 2 data points for training data\n",
    "x_train = np.random.uniform(0,2,2)\n",
    "y_train = true_function(x_train)\n",
    "print(x_train)\n",
    "print(y_train)"
   ]
  },
  {
   "cell_type": "code",
   "execution_count": null,
   "id": "9933aafa",
   "metadata": {},
   "outputs": [],
   "source": [
    "# fit with constant function \n",
    "def constant_function(x_train, y_train, x_test): # it outputs average of y_train regardless of the value of x_test\n",
    "    average_of_train_data = np.mean(y_train)    \n",
    "    return np.repeat(average_of_train_data, len(x_test))\n",
    "\n",
    "y_test = constant_function(x_train, y_train, x_test)"
   ]
  },
  {
   "cell_type": "code",
   "execution_count": null,
   "id": "3c5ebf69",
   "metadata": {},
   "outputs": [],
   "source": [
    "plt.plot(x_test, y_true)\n",
    "plt.plot(x_test, y_test)\n",
    "plt.scatter(x_train, y_train, c='r')"
   ]
  },
  {
   "cell_type": "code",
   "execution_count": null,
   "id": "0e95c31d",
   "metadata": {},
   "outputs": [],
   "source": [
    "# fit with linear regression (line passing through the two training data points)\n",
    "reg = LinearRegression().fit(x_train.reshape(-1,1), y_train)\n",
    "y_test = reg.predict(x_test.reshape(-1,1))"
   ]
  },
  {
   "cell_type": "code",
   "execution_count": null,
   "id": "2c99ee85",
   "metadata": {},
   "outputs": [],
   "source": [
    "plt.plot(x_test, y_true)\n",
    "plt.plot(x_test, y_test)\n",
    "plt.scatter(x_train, y_train, c='r')"
   ]
  },
  {
   "cell_type": "code",
   "execution_count": null,
   "id": "449ea96d",
   "metadata": {},
   "outputs": [],
   "source": [
    "# using linear regression,\n",
    "# repeat the above procedure [sampling - training - test] for 1000 times. \n",
    "# Don't forget to save all the prediction results(y_test) for all iterations.\n",
    "\n",
    "y_test_list = []\n",
    "for i in range(1000):\n",
    "    '''\n",
    "    TODO\n",
    "    \n",
    "    \n",
    "    \n",
    "    \n",
    "    \n",
    "\n",
    "    '''\n",
    "    y_test_list.append(y_test)\n",
    "y_test_total = np.stack(y_test_list)"
   ]
  },
  {
   "cell_type": "code",
   "execution_count": null,
   "id": "e3ee2fb6",
   "metadata": {},
   "outputs": [],
   "source": [
    "# get the value of bias\n",
    "'''TODO'''\n",
    "\n"
   ]
  },
  {
   "cell_type": "code",
   "execution_count": null,
   "id": "7553c669",
   "metadata": {},
   "outputs": [],
   "source": [
    "# get the value of variance\n",
    "'''TODO'''\n",
    "\n"
   ]
  },
  {
   "cell_type": "code",
   "execution_count": null,
   "id": "594f9e24",
   "metadata": {},
   "outputs": [],
   "source": [
    "# get the value of test error\n",
    "'''TODO'''\n",
    "\n"
   ]
  },
  {
   "cell_type": "code",
   "execution_count": null,
   "id": "e0845fad",
   "metadata": {},
   "outputs": [],
   "source": [
    "# check if the sum of bias and variance is equal to the test error\n",
    "'''TODO'''\n",
    "\n"
   ]
  },
  {
   "cell_type": "code",
   "execution_count": null,
   "id": "7b503ff3",
   "metadata": {},
   "outputs": [],
   "source": [
    "# do the experiment again with the increased number of training instances. check the value of bias and variance again. \n",
    "'''TODO'''\n",
    "\n"
   ]
  }
 ],
 "metadata": {
  "kernelspec": {
   "display_name": "Python 3 (ipykernel)",
   "language": "python",
   "name": "python3"
  },
  "language_info": {
   "codemirror_mode": {
    "name": "ipython",
    "version": 3
   },
   "file_extension": ".py",
   "mimetype": "text/x-python",
   "name": "python",
   "nbconvert_exporter": "python",
   "pygments_lexer": "ipython3",
   "version": "3.8.13"
  }
 },
 "nbformat": 4,
 "nbformat_minor": 5
}
