{
 "cells": [
  {
   "cell_type": "code",
   "execution_count": 11,
   "id": "de99056c",
   "metadata": {},
   "outputs": [],
   "source": [
    "import numpy as np\n",
    "import pandas as pd\n",
    "import matplotlib.pyplot as plt"
   ]
  },
  {
   "cell_type": "markdown",
   "id": "c5cc689d",
   "metadata": {},
   "source": [
    "## RandomForest classifier"
   ]
  },
  {
   "cell_type": "code",
   "execution_count": 14,
   "id": "fadba364",
   "metadata": {},
   "outputs": [],
   "source": [
    "from sklearn.datasets import load_breast_cancer\n",
    "from sklearn.metrics import accuracy_score\n",
    "from sklearn.model_selection import train_test_split\n",
    "\n",
    "cancer = load_breast_cancer()\n",
    "X_train, X_test, y_train, y_test = train_test_split(\n",
    "    cancer.data, cancer.target, stratify=cancer.target, random_state=0)"
   ]
  },
  {
   "cell_type": "markdown",
   "id": "8eb95136",
   "metadata": {},
   "source": [
    "https://scikit-learn.org/stable/modules/generated/sklearn.ensemble.RandomForestClassifier.html "
   ]
  },
  {
   "cell_type": "code",
   "execution_count": 56,
   "id": "396c66de",
   "metadata": {
    "scrolled": true
   },
   "outputs": [
    {
     "data": {
      "text/plain": [
       "RandomForestClassifier(n_estimators=5, random_state=0)"
      ]
     },
     "execution_count": 56,
     "metadata": {},
     "output_type": "execute_result"
    }
   ],
   "source": [
    "from sklearn.ensemble import RandomForestClassifier\n",
    "\n",
    "# n_estimators : The number of trees\n",
    "# n_estimators가 많을수록 안정된 모델. 100~200 -> enough\n",
    "forest = RandomForestClassifier(n_estimators = 5, random_state = 0)\n",
    "forest.fit(X_train,y_train)"
   ]
  },
  {
   "cell_type": "code",
   "execution_count": 58,
   "id": "ef628ada",
   "metadata": {},
   "outputs": [],
   "source": [
    "y_train_hat = forest.predict(X_test)"
   ]
  },
  {
   "cell_type": "code",
   "execution_count": 59,
   "id": "5b4772ce",
   "metadata": {},
   "outputs": [
    {
     "data": {
      "text/plain": [
       "array([1., 0., 0., 1., 0., 1., 0., 0., 0., 1., 0., 0., 1., 1., 1., 1., 1.,\n",
       "       1., 1., 0., 1., 0., 0., 1., 1., 0., 1., 1., 1., 0., 0., 1., 1., 1.,\n",
       "       1., 1., 0., 0., 0., 1., 0., 0., 0., 0., 1., 1., 1., 0., 1., 1., 0.,\n",
       "       1., 1., 1., 1., 1., 1., 1., 0., 1., 1., 1., 1., 0., 0., 0., 0., 1.,\n",
       "       0., 0., 1., 1., 1., 1., 1., 0., 1., 1., 1., 0., 1., 1., 0., 0., 0.,\n",
       "       0., 1., 1., 1., 1., 1., 0., 0., 1., 1., 0., 1., 0., 0., 0., 0., 1.,\n",
       "       1., 1., 1., 1., 0., 0., 1., 1., 1., 0., 1., 1., 1., 0., 0., 1., 1.,\n",
       "       1., 1., 1., 0., 1., 0., 1., 1., 0., 1., 1., 1., 0., 1., 1., 1., 1.,\n",
       "       0., 1., 0., 1., 0., 1., 0.])"
      ]
     },
     "execution_count": 59,
     "metadata": {},
     "output_type": "execute_result"
    }
   ],
   "source": [
    "forest.estimators_[0].predict(X_test)"
   ]
  },
  {
   "cell_type": "code",
   "execution_count": 60,
   "id": "8c989a87",
   "metadata": {
    "scrolled": true
   },
   "outputs": [
    {
     "data": {
      "text/plain": [
       "[DecisionTreeClassifier(max_features='auto', random_state=209652396),\n",
       " DecisionTreeClassifier(max_features='auto', random_state=398764591),\n",
       " DecisionTreeClassifier(max_features='auto', random_state=924231285),\n",
       " DecisionTreeClassifier(max_features='auto', random_state=1478610112),\n",
       " DecisionTreeClassifier(max_features='auto', random_state=441365315)]"
      ]
     },
     "execution_count": 60,
     "metadata": {},
     "output_type": "execute_result"
    }
   ],
   "source": [
    "forest.estimators_"
   ]
  },
  {
   "cell_type": "code",
   "execution_count": 61,
   "id": "e7669bcf",
   "metadata": {},
   "outputs": [
    {
     "data": {
      "text/plain": [
       "array([1.70331879e-02, 2.90774085e-02, 4.73340018e-02, 4.75465100e-03,\n",
       "       1.91909725e-03, 2.11078205e-05, 1.91131044e-01, 1.52276765e-01,\n",
       "       0.00000000e+00, 4.95938490e-03, 2.80632490e-03, 1.06793039e-02,\n",
       "       2.88125252e-03, 1.03078322e-01, 9.02256142e-03, 3.77738940e-03,\n",
       "       8.03167421e-03, 2.57435600e-03, 1.01780260e-02, 3.85579773e-03,\n",
       "       2.40653064e-02, 9.28120486e-03, 1.65005548e-01, 0.00000000e+00,\n",
       "       5.19323647e-03, 4.29767190e-04, 1.23300192e-02, 1.62722820e-01,\n",
       "       9.96945894e-03, 5.61098338e-03])"
      ]
     },
     "execution_count": 61,
     "metadata": {},
     "output_type": "execute_result"
    }
   ],
   "source": [
    "forest.feature_importances_"
   ]
  },
  {
   "cell_type": "markdown",
   "id": "8b22075a",
   "metadata": {},
   "source": [
    "## Build random forest with Decision tree classifier"
   ]
  },
  {
   "cell_type": "markdown",
   "id": "7f9ae075",
   "metadata": {},
   "source": [
    "#### training phase"
   ]
  },
  {
   "cell_type": "code",
   "execution_count": 71,
   "id": "e3d738e3",
   "metadata": {},
   "outputs": [],
   "source": [
    "from sklearn.tree import DecisionTreeClassifier\n",
    "\n",
    "n_estimators=100\n",
    "\n",
    "# 100 randomized trees가 들어갈 예정\n",
    "random_trees=[]\n",
    "for i in range(n_estimators):\n",
    "    '''TODO - bootstrap sampling (You can use 'np.random.choice')\n",
    "    '''   \n",
    "    idx = np.random.choice(X_train.shape[0],X_train.shape[0], replace=True)\n",
    "\n",
    "#     boostrap sampling\n",
    "    X_train_base = X_train[idx, :]\n",
    "    y_train_base = y_train[idx]\n",
    "    \n",
    "#     train random tree\n",
    "    rt = DecisionTreeClassifier(max_features = 'sqrt')\n",
    "    rt.fit(X_train_base, y_train_base)\n",
    "    \n",
    "    '''TODO - train random tree (Tune the hyperparameters 'max_features' of DecisionTreeClassifier)\n",
    "    '''\n",
    "    # store the models in the list\n",
    "    random_trees.append(rt)"
   ]
  },
  {
   "cell_type": "markdown",
   "id": "7660288f",
   "metadata": {},
   "source": [
    "#### test phase"
   ]
  },
  {
   "cell_type": "code",
   "execution_count": 74,
   "id": "63a49fa9",
   "metadata": {},
   "outputs": [],
   "source": [
    "y_test_hats=[]\n",
    "for i in range(n_estimators):\n",
    "    '''TODO - get y_test_hat using each random tree and store them\n",
    "\n",
    "    '''\n",
    "    y_test_hats.append(random_trees[i].predict(X_test))\n",
    "    \n",
    "y_test_hats = np.stack(y_test_hats).T"
   ]
  },
  {
   "cell_type": "code",
   "execution_count": 75,
   "id": "cc019d4e",
   "metadata": {},
   "outputs": [
    {
     "data": {
      "text/plain": [
       "(143, 100)"
      ]
     },
     "execution_count": 75,
     "metadata": {},
     "output_type": "execute_result"
    }
   ],
   "source": [
    "y_test_hats.shape"
   ]
  },
  {
   "cell_type": "code",
   "execution_count": 76,
   "id": "c4529881",
   "metadata": {},
   "outputs": [],
   "source": [
    "# voting    \n",
    "from scipy import stats \n",
    "'''TODO - use 'stats.mode' function to get the result of majority voting\n",
    "'''\n",
    "\n",
    "# mode : 최빈값, axis = 1 : row 방향으로\n",
    "y_test_hat_voted = stats.mode(y_test_hats, axis=1)[0].squeeze()"
   ]
  },
  {
   "cell_type": "code",
   "execution_count": 79,
   "id": "3f6c0c9f",
   "metadata": {},
   "outputs": [
    {
     "data": {
      "text/plain": [
       "array([1, 0, 0, 1, 0, 1, 0, 0, 0, 1, 0, 0, 1, 0, 1, 1, 1, 0, 1, 0, 1, 0,\n",
       "       0, 1, 1, 0, 1, 1, 1, 0, 0, 1, 1, 1, 1, 1, 0, 0, 0, 1, 0, 0, 0, 0,\n",
       "       1, 1, 1, 0, 0, 1, 0, 1, 1, 1, 1, 1, 1, 1, 1, 1, 1, 1, 1, 0, 0, 0,\n",
       "       0, 1, 1, 0, 1, 1, 1, 1, 1, 0, 1, 1, 1, 0, 1, 1, 0, 0, 0, 1, 1, 1,\n",
       "       1, 1, 1, 0, 0, 1, 0, 0, 1, 1, 1, 0, 0, 1, 0, 1, 1, 1, 0, 0, 1, 1,\n",
       "       1, 0, 1, 1, 1, 0, 1, 1, 1, 1, 1, 1, 1, 1, 0, 1, 1, 0, 1, 1, 1, 0,\n",
       "       1, 1, 1, 1, 0, 1, 0, 1, 0, 1, 0])"
      ]
     },
     "execution_count": 79,
     "metadata": {},
     "output_type": "execute_result"
    }
   ],
   "source": [
    "y_test_hat_voted"
   ]
  },
  {
   "cell_type": "code",
   "execution_count": 80,
   "id": "9a28ee3c",
   "metadata": {},
   "outputs": [
    {
     "data": {
      "text/plain": [
       "0.951048951048951"
      ]
     },
     "execution_count": 80,
     "metadata": {},
     "output_type": "execute_result"
    }
   ],
   "source": [
    "accuracy_score(y_test, y_test_hat_voted)"
   ]
  },
  {
   "cell_type": "code",
   "execution_count": 82,
   "id": "748bddf2",
   "metadata": {
    "collapsed": true
   },
   "outputs": [
    {
     "name": "stdout",
     "output_type": "stream",
     "text": [
      "0.8811188811188811\n",
      "0.9090909090909091\n",
      "0.8881118881118881\n",
      "0.9090909090909091\n",
      "0.9370629370629371\n",
      "0.916083916083916\n",
      "0.9440559440559441\n",
      "0.9090909090909091\n",
      "0.916083916083916\n",
      "0.9230769230769231\n",
      "0.916083916083916\n",
      "0.8951048951048951\n",
      "0.9090909090909091\n",
      "0.9020979020979021\n",
      "0.8951048951048951\n",
      "0.916083916083916\n",
      "0.8951048951048951\n",
      "0.916083916083916\n",
      "0.916083916083916\n",
      "0.9370629370629371\n",
      "0.9090909090909091\n",
      "0.8951048951048951\n",
      "0.9300699300699301\n",
      "0.9440559440559441\n",
      "0.8741258741258742\n",
      "0.9090909090909091\n",
      "0.9090909090909091\n",
      "0.8951048951048951\n",
      "0.9090909090909091\n",
      "0.9230769230769231\n",
      "0.9230769230769231\n",
      "0.9230769230769231\n",
      "0.9230769230769231\n",
      "0.9020979020979021\n",
      "0.9370629370629371\n",
      "0.8881118881118881\n",
      "0.9230769230769231\n",
      "0.9230769230769231\n",
      "0.9090909090909091\n",
      "0.9440559440559441\n",
      "0.8951048951048951\n",
      "0.9090909090909091\n",
      "0.8881118881118881\n",
      "0.9020979020979021\n",
      "0.9230769230769231\n",
      "0.9090909090909091\n",
      "0.9230769230769231\n",
      "0.9090909090909091\n",
      "0.9020979020979021\n",
      "0.916083916083916\n",
      "0.951048951048951\n",
      "0.8881118881118881\n",
      "0.8531468531468531\n",
      "0.8951048951048951\n",
      "0.9440559440559441\n",
      "0.9090909090909091\n",
      "0.9230769230769231\n",
      "0.9090909090909091\n",
      "0.9440559440559441\n",
      "0.9090909090909091\n",
      "0.916083916083916\n",
      "0.9370629370629371\n",
      "0.916083916083916\n",
      "0.9300699300699301\n",
      "0.9090909090909091\n",
      "0.9230769230769231\n",
      "0.8951048951048951\n",
      "0.8951048951048951\n",
      "0.8951048951048951\n",
      "0.9090909090909091\n",
      "0.9370629370629371\n",
      "0.9090909090909091\n",
      "0.9440559440559441\n",
      "0.9090909090909091\n",
      "0.9370629370629371\n",
      "0.9090909090909091\n",
      "0.9090909090909091\n",
      "0.916083916083916\n",
      "0.9230769230769231\n",
      "0.8951048951048951\n",
      "0.916083916083916\n",
      "0.9300699300699301\n",
      "0.9020979020979021\n",
      "0.9300699300699301\n",
      "0.9090909090909091\n",
      "0.916083916083916\n",
      "0.9090909090909091\n",
      "0.9300699300699301\n",
      "0.9370629370629371\n",
      "0.9090909090909091\n",
      "0.9440559440559441\n",
      "0.9440559440559441\n",
      "0.9300699300699301\n",
      "0.9230769230769231\n",
      "0.9020979020979021\n",
      "0.9020979020979021\n",
      "0.9230769230769231\n",
      "0.9370629370629371\n",
      "0.9300699300699301\n",
      "0.9370629370629371\n"
     ]
    }
   ],
   "source": [
    "for i in range(n_estimators):\n",
    "    print(accuracy_score(y_test,y_test_hats[:,i]))\n",
    "    \n",
    "# 결론 : Higher accuracy"
   ]
  },
  {
   "cell_type": "markdown",
   "id": "5650882d",
   "metadata": {},
   "source": [
    "### **Hard voting** (Majority voting) vs **Soft voting** (Averaging probabilities)"
   ]
  },
  {
   "cell_type": "markdown",
   "id": "18f79238",
   "metadata": {},
   "source": [
    "### 2가지 타입 of voting\n",
    "\n",
    "**Hard voting** : Predict class label as the class that represents the majority (mode) of the class labels predicted by each individual classifier.    \n",
    "- 우리가 이미 사용한 것(위의 코드)\n",
    "\n",
    "\n",
    "**Soft voting** : Predict class label using the **averaging probabilities** provided by each individual classifier.\n",
    "- 확률 사용"
   ]
  },
  {
   "cell_type": "code",
   "execution_count": 86,
   "id": "fac3e66f",
   "metadata": {},
   "outputs": [],
   "source": [
    "y_test_probs=[]\n",
    "for i in range(n_estimators):\n",
    "    '''TODO - get y_test_prob using each random tree and store them (\".predict_proba\") \n",
    "    '''\n",
    "#     .predict_proba를 .predict대신 사용하였음\n",
    "    y_test_prob = random_trees[i].predict_proba(X_test)\n",
    "    y_test_probs.append(y_test_prob)\n",
    "    \n",
    "# y_test_probs : 2column의 결과였는데 stack 사용\n",
    "y_test_probs = np.stack(y_test_probs)"
   ]
  },
  {
   "cell_type": "code",
   "execution_count": 85,
   "id": "d5d2c430",
   "metadata": {
    "collapsed": true
   },
   "outputs": [
    {
     "data": {
      "text/plain": [
       "array([[[0., 1.],\n",
       "        [1., 0.],\n",
       "        [1., 0.],\n",
       "        ...,\n",
       "        [1., 0.],\n",
       "        [0., 1.],\n",
       "        [1., 0.]],\n",
       "\n",
       "       [[0., 1.],\n",
       "        [1., 0.],\n",
       "        [1., 0.],\n",
       "        ...,\n",
       "        [1., 0.],\n",
       "        [0., 1.],\n",
       "        [1., 0.]],\n",
       "\n",
       "       [[1., 0.],\n",
       "        [1., 0.],\n",
       "        [1., 0.],\n",
       "        ...,\n",
       "        [1., 0.],\n",
       "        [0., 1.],\n",
       "        [1., 0.]],\n",
       "\n",
       "       ...,\n",
       "\n",
       "       [[0., 1.],\n",
       "        [1., 0.],\n",
       "        [1., 0.],\n",
       "        ...,\n",
       "        [1., 0.],\n",
       "        [0., 1.],\n",
       "        [1., 0.]],\n",
       "\n",
       "       [[0., 1.],\n",
       "        [1., 0.],\n",
       "        [1., 0.],\n",
       "        ...,\n",
       "        [1., 0.],\n",
       "        [0., 1.],\n",
       "        [1., 0.]],\n",
       "\n",
       "       [[1., 0.],\n",
       "        [1., 0.],\n",
       "        [1., 0.],\n",
       "        ...,\n",
       "        [1., 0.],\n",
       "        [0., 1.],\n",
       "        [1., 0.]]])"
      ]
     },
     "execution_count": 85,
     "metadata": {},
     "output_type": "execute_result"
    }
   ],
   "source": [
    "y_test_probs"
   ]
  },
  {
   "cell_type": "code",
   "execution_count": 88,
   "id": "0c52ce23",
   "metadata": {},
   "outputs": [],
   "source": [
    "# soft voting    \n",
    "'''TODO - calculate average probabilities \n",
    "'''\n",
    "\n",
    "y_test_probs_mean = y_test_probs.mean(axis = 0)\n",
    "\n",
    "'''TODO - get 'y_test_hat' using the probabilities (you can use 'np.argmax')\n",
    "    \n",
    "    \n",
    "'''\n",
    "\n",
    "y_test_hat = y_test_probs_mean.argmax(axis = 1)"
   ]
  },
  {
   "cell_type": "code",
   "execution_count": 89,
   "id": "7e331edb",
   "metadata": {},
   "outputs": [
    {
     "data": {
      "text/plain": [
       "0.951048951048951"
      ]
     },
     "execution_count": 89,
     "metadata": {},
     "output_type": "execute_result"
    }
   ],
   "source": [
    "accuracy_score(y_test, y_test_hat)"
   ]
  },
  {
   "cell_type": "code",
   "execution_count": null,
   "id": "61a9ba2f",
   "metadata": {},
   "outputs": [],
   "source": []
  }
 ],
 "metadata": {
  "kernelspec": {
   "display_name": "Python 3 (ipykernel)",
   "language": "python",
   "name": "python3"
  },
  "language_info": {
   "codemirror_mode": {
    "name": "ipython",
    "version": 3
   },
   "file_extension": ".py",
   "mimetype": "text/x-python",
   "name": "python",
   "nbconvert_exporter": "python",
   "pygments_lexer": "ipython3",
   "version": "3.8.13"
  }
 },
 "nbformat": 4,
 "nbformat_minor": 5
}
