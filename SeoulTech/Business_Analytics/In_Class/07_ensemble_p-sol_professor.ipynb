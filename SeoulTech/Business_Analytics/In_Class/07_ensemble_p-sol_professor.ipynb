{
 "cells": [
  {
   "cell_type": "code",
   "execution_count": 5,
   "id": "de99056c",
   "metadata": {},
   "outputs": [],
   "source": [
    "import numpy as np\n",
    "import pandas as pd\n",
    "import matplotlib.pyplot as plt"
   ]
  },
  {
   "cell_type": "markdown",
   "id": "c5cc689d",
   "metadata": {},
   "source": [
    "## RandomForest classifier"
   ]
  },
  {
   "cell_type": "code",
   "execution_count": 6,
   "id": "fadba364",
   "metadata": {},
   "outputs": [],
   "source": [
    "from sklearn.datasets import load_breast_cancer\n",
    "from sklearn.metrics import accuracy_score\n",
    "from sklearn.model_selection import train_test_split\n",
    "\n",
    "cancer = load_breast_cancer()\n",
    "X_train, X_test, y_train, y_test = train_test_split(\n",
    "    cancer.data, cancer.target, stratify=cancer.target, random_state=0)"
   ]
  },
  {
   "cell_type": "markdown",
   "id": "8eb95136",
   "metadata": {},
   "source": [
    "https://scikit-learn.org/stable/modules/generated/sklearn.ensemble.RandomForestClassifier.html "
   ]
  },
  {
   "cell_type": "code",
   "execution_count": 2,
   "id": "f60c2f0f",
   "metadata": {},
   "outputs": [
    {
     "data": {
      "text/plain": [
       "RandomForestClassifier(random_state=2)"
      ]
     },
     "execution_count": 2,
     "metadata": {},
     "output_type": "execute_result"
    }
   ],
   "source": [
    "from sklearn.ensemble import RandomForestClassifier\n",
    "\n",
    "forest = RandomForestClassifier(n_estimators=100, random_state=2) \n",
    "# theoretically, more trees lead to stable model. Practically, 100~200 would be enough in most problems.\n",
    "forest.fit(X_train, y_train)"
   ]
  },
  {
   "cell_type": "code",
   "execution_count": 3,
   "id": "e78f6a9f",
   "metadata": {
    "scrolled": true
   },
   "outputs": [
    {
     "data": {
      "text/plain": [
       "[DecisionTreeClassifier(max_features='auto', random_state=1872583848),\n",
       " DecisionTreeClassifier(max_features='auto', random_state=794921487),\n",
       " DecisionTreeClassifier(max_features='auto', random_state=111352301),\n",
       " DecisionTreeClassifier(max_features='auto', random_state=1853453896),\n",
       " DecisionTreeClassifier(max_features='auto', random_state=213298710),\n",
       " DecisionTreeClassifier(max_features='auto', random_state=1922988331),\n",
       " DecisionTreeClassifier(max_features='auto', random_state=1869695442),\n",
       " DecisionTreeClassifier(max_features='auto', random_state=2081981515),\n",
       " DecisionTreeClassifier(max_features='auto', random_state=1805465960),\n",
       " DecisionTreeClassifier(max_features='auto', random_state=1376693511),\n",
       " DecisionTreeClassifier(max_features='auto', random_state=1418777250),\n",
       " DecisionTreeClassifier(max_features='auto', random_state=663257521),\n",
       " DecisionTreeClassifier(max_features='auto', random_state=878959199),\n",
       " DecisionTreeClassifier(max_features='auto', random_state=854108747),\n",
       " DecisionTreeClassifier(max_features='auto', random_state=512264917),\n",
       " DecisionTreeClassifier(max_features='auto', random_state=515183663),\n",
       " DecisionTreeClassifier(max_features='auto', random_state=1287007039),\n",
       " DecisionTreeClassifier(max_features='auto', random_state=2083814687),\n",
       " DecisionTreeClassifier(max_features='auto', random_state=1146014426),\n",
       " DecisionTreeClassifier(max_features='auto', random_state=570104212),\n",
       " DecisionTreeClassifier(max_features='auto', random_state=520265852),\n",
       " DecisionTreeClassifier(max_features='auto', random_state=1366773364),\n",
       " DecisionTreeClassifier(max_features='auto', random_state=125164325),\n",
       " DecisionTreeClassifier(max_features='auto', random_state=786090663),\n",
       " DecisionTreeClassifier(max_features='auto', random_state=578016451),\n",
       " DecisionTreeClassifier(max_features='auto', random_state=2141303910),\n",
       " DecisionTreeClassifier(max_features='auto', random_state=58317572),\n",
       " DecisionTreeClassifier(max_features='auto', random_state=372790186),\n",
       " DecisionTreeClassifier(max_features='auto', random_state=792163179),\n",
       " DecisionTreeClassifier(max_features='auto', random_state=943837235),\n",
       " DecisionTreeClassifier(max_features='auto', random_state=1225505127),\n",
       " DecisionTreeClassifier(max_features='auto', random_state=1110240806),\n",
       " DecisionTreeClassifier(max_features='auto', random_state=1520312298),\n",
       " DecisionTreeClassifier(max_features='auto', random_state=198458913),\n",
       " DecisionTreeClassifier(max_features='auto', random_state=2122731066),\n",
       " DecisionTreeClassifier(max_features='auto', random_state=1749373820),\n",
       " DecisionTreeClassifier(max_features='auto', random_state=1488470271),\n",
       " DecisionTreeClassifier(max_features='auto', random_state=760143171),\n",
       " DecisionTreeClassifier(max_features='auto', random_state=342074693),\n",
       " DecisionTreeClassifier(max_features='auto', random_state=2017055832),\n",
       " DecisionTreeClassifier(max_features='auto', random_state=22531780),\n",
       " DecisionTreeClassifier(max_features='auto', random_state=1275684142),\n",
       " DecisionTreeClassifier(max_features='auto', random_state=280403398),\n",
       " DecisionTreeClassifier(max_features='auto', random_state=1236387167),\n",
       " DecisionTreeClassifier(max_features='auto', random_state=1838771411),\n",
       " DecisionTreeClassifier(max_features='auto', random_state=499046521),\n",
       " DecisionTreeClassifier(max_features='auto', random_state=414597151),\n",
       " DecisionTreeClassifier(max_features='auto', random_state=780511682),\n",
       " DecisionTreeClassifier(max_features='auto', random_state=546147920),\n",
       " DecisionTreeClassifier(max_features='auto', random_state=2122958388),\n",
       " DecisionTreeClassifier(max_features='auto', random_state=415517934),\n",
       " DecisionTreeClassifier(max_features='auto', random_state=282459084),\n",
       " DecisionTreeClassifier(max_features='auto', random_state=970714162),\n",
       " DecisionTreeClassifier(max_features='auto', random_state=952774788),\n",
       " DecisionTreeClassifier(max_features='auto', random_state=459328218),\n",
       " DecisionTreeClassifier(max_features='auto', random_state=1148865855),\n",
       " DecisionTreeClassifier(max_features='auto', random_state=946207951),\n",
       " DecisionTreeClassifier(max_features='auto', random_state=332035633),\n",
       " DecisionTreeClassifier(max_features='auto', random_state=1502492455),\n",
       " DecisionTreeClassifier(max_features='auto', random_state=720795647),\n",
       " DecisionTreeClassifier(max_features='auto', random_state=2009131950),\n",
       " DecisionTreeClassifier(max_features='auto', random_state=1578277512),\n",
       " DecisionTreeClassifier(max_features='auto', random_state=866480562),\n",
       " DecisionTreeClassifier(max_features='auto', random_state=2012937709),\n",
       " DecisionTreeClassifier(max_features='auto', random_state=603042298),\n",
       " DecisionTreeClassifier(max_features='auto', random_state=662568207),\n",
       " DecisionTreeClassifier(max_features='auto', random_state=2074769129),\n",
       " DecisionTreeClassifier(max_features='auto', random_state=1258810861),\n",
       " DecisionTreeClassifier(max_features='auto', random_state=22491528),\n",
       " DecisionTreeClassifier(max_features='auto', random_state=700345079),\n",
       " DecisionTreeClassifier(max_features='auto', random_state=1661691281),\n",
       " DecisionTreeClassifier(max_features='auto', random_state=485458838),\n",
       " DecisionTreeClassifier(max_features='auto', random_state=1261163256),\n",
       " DecisionTreeClassifier(max_features='auto', random_state=2108193274),\n",
       " DecisionTreeClassifier(max_features='auto', random_state=343615349),\n",
       " DecisionTreeClassifier(max_features='auto', random_state=513183305),\n",
       " DecisionTreeClassifier(max_features='auto', random_state=697067193),\n",
       " DecisionTreeClassifier(max_features='auto', random_state=638080873),\n",
       " DecisionTreeClassifier(max_features='auto', random_state=862224750),\n",
       " DecisionTreeClassifier(max_features='auto', random_state=1513035516),\n",
       " DecisionTreeClassifier(max_features='auto', random_state=1995231706),\n",
       " DecisionTreeClassifier(max_features='auto', random_state=40913342),\n",
       " DecisionTreeClassifier(max_features='auto', random_state=35923),\n",
       " DecisionTreeClassifier(max_features='auto', random_state=933167200),\n",
       " DecisionTreeClassifier(max_features='auto', random_state=1672975915),\n",
       " DecisionTreeClassifier(max_features='auto', random_state=2118562592),\n",
       " DecisionTreeClassifier(max_features='auto', random_state=1467219482),\n",
       " DecisionTreeClassifier(max_features='auto', random_state=1354192370),\n",
       " DecisionTreeClassifier(max_features='auto', random_state=288381832),\n",
       " DecisionTreeClassifier(max_features='auto', random_state=1111250508),\n",
       " DecisionTreeClassifier(max_features='auto', random_state=1836295934),\n",
       " DecisionTreeClassifier(max_features='auto', random_state=1327897738),\n",
       " DecisionTreeClassifier(max_features='auto', random_state=1875815208),\n",
       " DecisionTreeClassifier(max_features='auto', random_state=1519024162),\n",
       " DecisionTreeClassifier(max_features='auto', random_state=1187812668),\n",
       " DecisionTreeClassifier(max_features='auto', random_state=2009368201),\n",
       " DecisionTreeClassifier(max_features='auto', random_state=152918774),\n",
       " DecisionTreeClassifier(max_features='auto', random_state=1177565157),\n",
       " DecisionTreeClassifier(max_features='auto', random_state=1948808006),\n",
       " DecisionTreeClassifier(max_features='auto', random_state=1280760918)]"
      ]
     },
     "execution_count": 3,
     "metadata": {},
     "output_type": "execute_result"
    }
   ],
   "source": [
    "forest.estimators_"
   ]
  },
  {
   "cell_type": "code",
   "execution_count": 212,
   "id": "d5992377",
   "metadata": {},
   "outputs": [
    {
     "data": {
      "text/plain": [
       "array([1., 0., 0., 1., 0., 1., 0., 0., 0., 1., 0., 0., 1., 0., 1., 1., 1.,\n",
       "       1., 0., 0., 1., 0., 0., 1., 1., 0., 1., 1., 1., 0., 0., 1., 1., 1.,\n",
       "       1., 1., 0., 0., 0., 1., 0., 0., 0., 0., 1., 1., 1., 0., 0., 1., 0.,\n",
       "       1., 1., 1., 1., 1., 1., 1., 1., 1., 1., 1., 1., 0., 0., 0., 0., 1.,\n",
       "       1., 0., 1., 1., 1., 1., 1., 0., 1., 1., 1., 0., 1., 1., 0., 0., 0.,\n",
       "       1., 1., 1., 1., 1., 1., 0., 0., 1., 0., 0., 1., 1., 0., 0., 0., 1.,\n",
       "       0., 1., 1., 1., 0., 0., 1., 1., 1., 0., 1., 1., 1., 1., 1., 1., 1.,\n",
       "       1., 1., 0., 1., 1., 0., 1., 1., 0., 1., 1., 1., 0., 1., 1., 1., 0.,\n",
       "       0., 1., 0., 1., 0., 1., 0.])"
      ]
     },
     "execution_count": 212,
     "metadata": {},
     "output_type": "execute_result"
    }
   ],
   "source": [
    "# prediction results of a random tree\n",
    "forest.estimators_[0].predict(X_test)"
   ]
  },
  {
   "cell_type": "code",
   "execution_count": 213,
   "id": "2bd3dbda",
   "metadata": {},
   "outputs": [
    {
     "data": {
      "text/plain": [
       "0.951048951048951"
      ]
     },
     "execution_count": 213,
     "metadata": {},
     "output_type": "execute_result"
    }
   ],
   "source": [
    "y_test_hat = forest.predict(X_test)\n",
    "accuracy_score(y_test, y_test_hat)"
   ]
  },
  {
   "cell_type": "code",
   "execution_count": 214,
   "id": "87271f7a",
   "metadata": {
    "scrolled": true
   },
   "outputs": [
    {
     "data": {
      "text/plain": [
       "array([0.04332379, 0.0138174 , 0.03895232, 0.06490172, 0.00475956,\n",
       "       0.01864941, 0.04015283, 0.07765823, 0.00338013, 0.00466148,\n",
       "       0.00764463, 0.00475695, 0.02224006, 0.03283145, 0.00187008,\n",
       "       0.00377671, 0.00827286, 0.00490933, 0.0027356 , 0.00398173,\n",
       "       0.16789906, 0.01956873, 0.07582788, 0.120973  , 0.01102068,\n",
       "       0.00906924, 0.02991808, 0.14298749, 0.0085679 , 0.01089166])"
      ]
     },
     "execution_count": 214,
     "metadata": {},
     "output_type": "execute_result"
    }
   ],
   "source": [
    "forest.feature_importances_"
   ]
  },
  {
   "cell_type": "code",
   "execution_count": 215,
   "id": "58229e29",
   "metadata": {},
   "outputs": [
    {
     "data": {
      "text/plain": [
       "(-1.0, 30.0)"
      ]
     },
     "execution_count": 215,
     "metadata": {},
     "output_type": "execute_result"
    },
    {
     "data": {
      "image/png": "[encoded data removed]",
      "text/plain": [
       "<Figure size 432x288 with 1 Axes>"
      ]
     },
     "metadata": {
      "needs_background": "light"
     },
     "output_type": "display_data"
    }
   ],
   "source": [
    "n_features = cancer.data.shape[1]\n",
    "plt.barh(np.arange(n_features), forest.feature_importances_, align='center')\n",
    "plt.yticks(np.arange(n_features), cancer.feature_names)\n",
    "plt.xlabel(\"Feature importance\")\n",
    "plt.ylabel(\"Feature\")\n",
    "plt.ylim(-1, n_features)"
   ]
  },
  {
   "cell_type": "code",
   "execution_count": null,
   "id": "17c2f44f",
   "metadata": {},
   "outputs": [],
   "source": []
  },
  {
   "cell_type": "markdown",
   "id": "8b22075a",
   "metadata": {},
   "source": [
    "## Build random forest with Decision tree classifier"
   ]
  },
  {
   "cell_type": "markdown",
   "id": "c104fd2b",
   "metadata": {},
   "source": [
    "#### training phase"
   ]
  },
  {
   "cell_type": "code",
   "execution_count": 9,
   "id": "8af5824e",
   "metadata": {},
   "outputs": [],
   "source": [
    "n_estimators=100\n",
    "\n",
    "random_trees=[]\n",
    "for i in range(n_estimators):\n",
    "    np.random.seed(i)\n",
    "    \n",
    "    # bootstrap sampling\n",
    "    idx = np.random.choice(X_train.shape[0], X_train.shape[0], replace=True)\n",
    "    \n",
    "    X_train_base = X_train[idx,:]\n",
    "    y_train_base = y_train[idx]\n",
    "    \n",
    "    # train random tree\n",
    "    rt = DecisionTreeClassifier(max_features='sqrt')\n",
    "    rt.fit(X_train_base, y_train_base)\n",
    "    \n",
    "    random_trees.append(rt)  "
   ]
  },
  {
   "cell_type": "markdown",
   "id": "e098b833",
   "metadata": {},
   "source": [
    "#### test phase"
   ]
  },
  {
   "cell_type": "code",
   "execution_count": 11,
   "id": "d2f0375d",
   "metadata": {},
   "outputs": [],
   "source": [
    "y_test_hats=[]\n",
    "for i in range(n_estimators):    \n",
    "    # get y_test_hat using each random tree and store them\n",
    "    y_test_hats.append(random_trees[i].predict(X_test))\n",
    "\n",
    "y_test_hats = np.stack(y_test_hats).T"
   ]
  },
  {
   "cell_type": "code",
   "execution_count": 12,
   "id": "01ca2da0",
   "metadata": {},
   "outputs": [
    {
     "data": {
      "text/plain": [
       "(143, 100)"
      ]
     },
     "execution_count": 12,
     "metadata": {},
     "output_type": "execute_result"
    }
   ],
   "source": [
    "y_test_hats.shape"
   ]
  },
  {
   "cell_type": "code",
   "execution_count": 13,
   "id": "34ff251d",
   "metadata": {},
   "outputs": [
    {
     "data": {
      "text/plain": [
       "array([[1, 1, 1, ..., 1, 1, 1],\n",
       "       [0, 0, 0, ..., 0, 0, 0],\n",
       "       [0, 0, 0, ..., 0, 0, 0],\n",
       "       ...,\n",
       "       [0, 0, 0, ..., 0, 0, 0],\n",
       "       [1, 1, 1, ..., 1, 1, 1],\n",
       "       [0, 0, 0, ..., 0, 0, 0]])"
      ]
     },
     "execution_count": 13,
     "metadata": {},
     "output_type": "execute_result"
    }
   ],
   "source": [
    "y_test_hats"
   ]
  },
  {
   "cell_type": "code",
   "execution_count": 221,
   "id": "eb4d2979",
   "metadata": {},
   "outputs": [],
   "source": [
    "# get the result of majority voting\n",
    "from scipy import stats\n",
    "y_test_hat_voted = stats.mode(y_test_hats, axis=1)[0].squeeze()"
   ]
  },
  {
   "cell_type": "code",
   "execution_count": 222,
   "id": "ffca330b",
   "metadata": {},
   "outputs": [
    {
     "data": {
      "text/plain": [
       "array([1, 0, 0, 1, 0, 1, 0, 0, 0, 1, 0, 0, 1, 0, 1, 1, 1, 0, 1, 0, 1, 0,\n",
       "       0, 1, 1, 0, 1, 1, 1, 0, 0, 1, 1, 1, 1, 1, 0, 0, 0, 1, 0, 0, 0, 0,\n",
       "       1, 1, 1, 0, 0, 1, 0, 1, 1, 1, 1, 1, 1, 1, 1, 1, 1, 1, 1, 0, 0, 0,\n",
       "       0, 1, 1, 0, 1, 1, 1, 1, 1, 0, 1, 1, 1, 0, 1, 1, 0, 0, 0, 1, 1, 1,\n",
       "       1, 1, 1, 0, 0, 1, 0, 0, 1, 1, 1, 0, 0, 1, 0, 1, 1, 1, 0, 0, 1, 1,\n",
       "       1, 0, 1, 1, 1, 0, 1, 1, 1, 1, 1, 1, 1, 1, 0, 1, 1, 0, 1, 1, 1, 0,\n",
       "       1, 1, 1, 1, 0, 1, 0, 1, 0, 1, 0])"
      ]
     },
     "execution_count": 222,
     "metadata": {},
     "output_type": "execute_result"
    }
   ],
   "source": [
    "y_test_hat_voted"
   ]
  },
  {
   "cell_type": "code",
   "execution_count": 223,
   "id": "23af5f2a",
   "metadata": {},
   "outputs": [
    {
     "data": {
      "text/plain": [
       "0.951048951048951"
      ]
     },
     "execution_count": 223,
     "metadata": {},
     "output_type": "execute_result"
    }
   ],
   "source": [
    "accuracy_score(y_test, y_test_hat_voted)"
   ]
  },
  {
   "cell_type": "code",
   "execution_count": 224,
   "id": "d2b43855",
   "metadata": {
    "scrolled": true
   },
   "outputs": [
    {
     "name": "stdout",
     "output_type": "stream",
     "text": [
      "0.9300699300699301\n",
      "0.9370629370629371\n",
      "0.8951048951048951\n",
      "0.9230769230769231\n",
      "0.8951048951048951\n",
      "0.916083916083916\n",
      "0.8951048951048951\n",
      "0.9020979020979021\n",
      "0.9090909090909091\n",
      "0.8881118881118881\n",
      "0.9300699300699301\n",
      "0.9090909090909091\n",
      "0.916083916083916\n",
      "0.9090909090909091\n",
      "0.9370629370629371\n",
      "0.8881118881118881\n",
      "0.8671328671328671\n",
      "0.9020979020979021\n",
      "0.9090909090909091\n",
      "0.916083916083916\n",
      "0.9090909090909091\n",
      "0.916083916083916\n",
      "0.9440559440559441\n",
      "0.9020979020979021\n",
      "0.916083916083916\n",
      "0.8601398601398601\n",
      "0.9020979020979021\n",
      "0.916083916083916\n",
      "0.9020979020979021\n",
      "0.916083916083916\n",
      "0.916083916083916\n",
      "0.916083916083916\n",
      "0.9020979020979021\n",
      "0.9090909090909091\n",
      "0.9370629370629371\n",
      "0.9300699300699301\n",
      "0.9440559440559441\n",
      "0.8881118881118881\n",
      "0.8811188811188811\n",
      "0.8671328671328671\n",
      "0.9230769230769231\n",
      "0.916083916083916\n",
      "0.8811188811188811\n",
      "0.9370629370629371\n",
      "0.9020979020979021\n",
      "0.9090909090909091\n",
      "0.8951048951048951\n",
      "0.916083916083916\n",
      "0.916083916083916\n",
      "0.8811188811188811\n",
      "0.8951048951048951\n",
      "0.9300699300699301\n",
      "0.9230769230769231\n",
      "0.8881118881118881\n",
      "0.916083916083916\n",
      "0.8881118881118881\n",
      "0.8951048951048951\n",
      "0.8881118881118881\n",
      "0.8811188811188811\n",
      "0.916083916083916\n",
      "0.9020979020979021\n",
      "0.9230769230769231\n",
      "0.9020979020979021\n",
      "0.8811188811188811\n",
      "0.8811188811188811\n",
      "0.916083916083916\n",
      "0.9090909090909091\n",
      "0.9090909090909091\n",
      "0.8881118881118881\n",
      "0.9090909090909091\n",
      "0.9090909090909091\n",
      "0.9230769230769231\n",
      "0.9090909090909091\n",
      "0.916083916083916\n",
      "0.8741258741258742\n",
      "0.9370629370629371\n",
      "0.916083916083916\n",
      "0.8741258741258742\n",
      "0.8951048951048951\n",
      "0.916083916083916\n",
      "0.9020979020979021\n",
      "0.8881118881118881\n",
      "0.916083916083916\n",
      "0.8881118881118881\n",
      "0.916083916083916\n",
      "0.9020979020979021\n",
      "0.9300699300699301\n",
      "0.9300699300699301\n",
      "0.8811188811188811\n",
      "0.958041958041958\n",
      "0.8671328671328671\n",
      "0.9300699300699301\n",
      "0.9300699300699301\n",
      "0.9300699300699301\n",
      "0.8881118881118881\n",
      "0.9230769230769231\n",
      "0.951048951048951\n",
      "0.8881118881118881\n",
      "0.951048951048951\n",
      "0.916083916083916\n"
     ]
    }
   ],
   "source": [
    "# accuracy score of each random tree\n",
    "for i in range(n_estimators):\n",
    "    print(accuracy_score(y_test, y_test_hats[:,i]))\n",
    "# each base model has relatively low accuracy, but with the ensemble method we can get the higher accuracy in the end."
   ]
  },
  {
   "cell_type": "markdown",
   "id": "5650882d",
   "metadata": {},
   "source": [
    "### **Hard voting** (Majority voting) vs **Soft voting** (Averaging probabilities)"
   ]
  },
  {
   "cell_type": "markdown",
   "id": "18f79238",
   "metadata": {},
   "source": [
    "**Hard voting** : Predict class label as the class that represents the majority (mode) of the class labels predicted by each individual classifier.    \n",
    "**Soft voting** : Predict class label using the averaging probabilities provided by each individual classifier."
   ]
  },
  {
   "cell_type": "code",
   "execution_count": 14,
   "id": "3333a1c4",
   "metadata": {},
   "outputs": [],
   "source": [
    "y_test_probs=[]\n",
    "for i in range(n_estimators):\n",
    "    # get y_test_prob using each random tree and store them (\".predict_proba\")\n",
    "    y_test_prob=random_trees[i].predict_proba(X_test)\n",
    "    y_test_probs.append(y_test_prob)\n",
    "    \n",
    "y_test_probs = np.stack(y_test_probs)"
   ]
  },
  {
   "cell_type": "code",
   "execution_count": 16,
   "id": "3b62de2a",
   "metadata": {},
   "outputs": [
    {
     "data": {
      "text/plain": [
       "(100, 143, 2)"
      ]
     },
     "execution_count": 16,
     "metadata": {},
     "output_type": "execute_result"
    }
   ],
   "source": [
    "y_test_probs.shape"
   ]
  },
  {
   "cell_type": "code",
   "execution_count": 17,
   "id": "e406b98a",
   "metadata": {},
   "outputs": [],
   "source": [
    "# calculate average probabilities \n",
    "y_test_probs_mean = y_test_probs.mean(axis=0)"
   ]
  },
  {
   "cell_type": "code",
   "execution_count": 18,
   "id": "b362279a",
   "metadata": {},
   "outputs": [
    {
     "data": {
      "text/plain": [
       "array([[0.03, 0.97],\n",
       "       [1.  , 0.  ],\n",
       "       [1.  , 0.  ],\n",
       "       [0.  , 1.  ],\n",
       "       [0.91, 0.09],\n",
       "       [0.03, 0.97],\n",
       "       [0.99, 0.01],\n",
       "       [1.  , 0.  ],\n",
       "       [1.  , 0.  ],\n",
       "       [0.  , 1.  ],\n",
       "       [1.  , 0.  ],\n",
       "       [1.  , 0.  ],\n",
       "       [0.  , 1.  ],\n",
       "       [0.65, 0.35],\n",
       "       [0.  , 1.  ],\n",
       "       [0.  , 1.  ],\n",
       "       [0.  , 1.  ],\n",
       "       [0.89, 0.11],\n",
       "       [0.46, 0.54],\n",
       "       [0.98, 0.02],\n",
       "       [0.04, 0.96],\n",
       "       [1.  , 0.  ],\n",
       "       [0.91, 0.09],\n",
       "       [0.  , 1.  ],\n",
       "       [0.  , 1.  ],\n",
       "       [1.  , 0.  ],\n",
       "       [0.04, 0.96],\n",
       "       [0.43, 0.57],\n",
       "       [0.  , 1.  ],\n",
       "       [1.  , 0.  ],\n",
       "       [0.64, 0.36],\n",
       "       [0.  , 1.  ],\n",
       "       [0.23, 0.77],\n",
       "       [0.  , 1.  ],\n",
       "       [0.  , 1.  ],\n",
       "       [0.  , 1.  ],\n",
       "       [0.85, 0.15],\n",
       "       [1.  , 0.  ],\n",
       "       [1.  , 0.  ],\n",
       "       [0.04, 0.96],\n",
       "       [1.  , 0.  ],\n",
       "       [0.99, 0.01],\n",
       "       [1.  , 0.  ],\n",
       "       [0.88, 0.12],\n",
       "       [0.  , 1.  ],\n",
       "       [0.01, 0.99],\n",
       "       [0.  , 1.  ],\n",
       "       [0.7 , 0.3 ],\n",
       "       [0.51, 0.49],\n",
       "       [0.  , 1.  ],\n",
       "       [0.95, 0.05],\n",
       "       [0.  , 1.  ],\n",
       "       [0.  , 1.  ],\n",
       "       [0.  , 1.  ],\n",
       "       [0.  , 1.  ],\n",
       "       [0.05, 0.95],\n",
       "       [0.  , 1.  ],\n",
       "       [0.02, 0.98],\n",
       "       [0.41, 0.59],\n",
       "       [0.  , 1.  ],\n",
       "       [0.12, 0.88],\n",
       "       [0.  , 1.  ],\n",
       "       [0.  , 1.  ],\n",
       "       [1.  , 0.  ],\n",
       "       [0.9 , 0.1 ],\n",
       "       [1.  , 0.  ],\n",
       "       [1.  , 0.  ],\n",
       "       [0.  , 1.  ],\n",
       "       [0.18, 0.82],\n",
       "       [1.  , 0.  ],\n",
       "       [0.  , 1.  ],\n",
       "       [0.  , 1.  ],\n",
       "       [0.01, 0.99],\n",
       "       [0.  , 1.  ],\n",
       "       [0.  , 1.  ],\n",
       "       [0.87, 0.13],\n",
       "       [0.05, 0.95],\n",
       "       [0.01, 0.99],\n",
       "       [0.04, 0.96],\n",
       "       [0.88, 0.12],\n",
       "       [0.  , 1.  ],\n",
       "       [0.  , 1.  ],\n",
       "       [1.  , 0.  ],\n",
       "       [0.9 , 0.1 ],\n",
       "       [1.  , 0.  ],\n",
       "       [0.23, 0.77],\n",
       "       [0.2 , 0.8 ],\n",
       "       [0.  , 1.  ],\n",
       "       [0.01, 0.99],\n",
       "       [0.01, 0.99],\n",
       "       [0.  , 1.  ],\n",
       "       [0.66, 0.34],\n",
       "       [1.  , 0.  ],\n",
       "       [0.15, 0.85],\n",
       "       [0.51, 0.49],\n",
       "       [0.95, 0.05],\n",
       "       [0.  , 1.  ],\n",
       "       [0.37, 0.63],\n",
       "       [0.47, 0.53],\n",
       "       [1.  , 0.  ],\n",
       "       [1.  , 0.  ],\n",
       "       [0.27, 0.73],\n",
       "       [0.63, 0.37],\n",
       "       [0.03, 0.97],\n",
       "       [0.26, 0.74],\n",
       "       [0.  , 1.  ],\n",
       "       [1.  , 0.  ],\n",
       "       [1.  , 0.  ],\n",
       "       [0.  , 1.  ],\n",
       "       [0.  , 1.  ],\n",
       "       [0.12, 0.88],\n",
       "       [1.  , 0.  ],\n",
       "       [0.02, 0.98],\n",
       "       [0.  , 1.  ],\n",
       "       [0.01, 0.99],\n",
       "       [0.53, 0.47],\n",
       "       [0.04, 0.96],\n",
       "       [0.01, 0.99],\n",
       "       [0.1 , 0.9 ],\n",
       "       [0.  , 1.  ],\n",
       "       [0.09, 0.91],\n",
       "       [0.41, 0.59],\n",
       "       [0.07, 0.93],\n",
       "       [0.  , 1.  ],\n",
       "       [0.99, 0.01],\n",
       "       [0.3 , 0.7 ],\n",
       "       [0.1 , 0.9 ],\n",
       "       [0.96, 0.04],\n",
       "       [0.  , 1.  ],\n",
       "       [0.  , 1.  ],\n",
       "       [0.  , 1.  ],\n",
       "       [1.  , 0.  ],\n",
       "       [0.01, 0.99],\n",
       "       [0.  , 1.  ],\n",
       "       [0.02, 0.98],\n",
       "       [0.32, 0.68],\n",
       "       [1.  , 0.  ],\n",
       "       [0.  , 1.  ],\n",
       "       [1.  , 0.  ],\n",
       "       [0.01, 0.99],\n",
       "       [0.96, 0.04],\n",
       "       [0.  , 1.  ],\n",
       "       [1.  , 0.  ]])"
      ]
     },
     "execution_count": 18,
     "metadata": {},
     "output_type": "execute_result"
    }
   ],
   "source": [
    "y_test_probs_mean"
   ]
  },
  {
   "cell_type": "code",
   "execution_count": 188,
   "id": "5d1842ae",
   "metadata": {},
   "outputs": [],
   "source": [
    "# get 'y_test_hat' using the probabilities\n",
    "y_test_hat = y_test_probs_mean.argmax(axis=1)"
   ]
  },
  {
   "cell_type": "code",
   "execution_count": 189,
   "id": "d92cd1b5",
   "metadata": {},
   "outputs": [
    {
     "data": {
      "text/plain": [
       "0.951048951048951"
      ]
     },
     "execution_count": 189,
     "metadata": {},
     "output_type": "execute_result"
    }
   ],
   "source": [
    "accuracy_score(y_test, y_test_hat)"
   ]
  },
  {
   "cell_type": "code",
   "execution_count": null,
   "id": "61a9ba2f",
   "metadata": {},
   "outputs": [],
   "source": []
  }
 ],
 "metadata": {
  "kernelspec": {
   "display_name": "Python 3 (ipykernel)",
   "language": "python",
   "name": "python3"
  },
  "language_info": {
   "codemirror_mode": {
    "name": "ipython",
    "version": 3
   },
   "file_extension": ".py",
   "mimetype": "text/x-python",
   "name": "python",
   "nbconvert_exporter": "python",
   "pygments_lexer": "ipython3",
   "version": "3.9.12"
  }
 },
 "nbformat": 4,
 "nbformat_minor": 5
}
