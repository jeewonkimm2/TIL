{
 "cells": [
  {
   "cell_type": "markdown",
   "id": "989b48ca",
   "metadata": {},
   "source": [
    "# Grid search with Cross-validation (not using GridSearchCV)"
   ]
  },
  {
   "cell_type": "code",
   "execution_count": 1,
   "id": "f16caf00",
   "metadata": {},
   "outputs": [],
   "source": [
    "import numpy as np\n",
    "from sklearn.model_selection import train_test_split\n",
    "from sklearn.model_selection import KFold\n",
    "from sklearn import datasets\n",
    "from sklearn.preprocessing import StandardScaler\n",
    "from sklearn.linear_model import Lasso\n",
    "from sklearn.metrics import r2_score"
   ]
  },
  {
   "cell_type": "markdown",
   "id": "cbb032ee",
   "metadata": {},
   "source": [
    "https://scikit-learn.org/stable/datasets/toy_dataset.html#diabetes-dataset "
   ]
  },
  {
   "cell_type": "code",
   "execution_count": 2,
   "id": "780cfcdc",
   "metadata": {},
   "outputs": [],
   "source": [
    "# regression 이다\n",
    "diabetes = datasets.load_diabetes()"
   ]
  },
  {
   "cell_type": "markdown",
   "id": "f3b0b5e5",
   "metadata": {},
   "source": [
    "- We will use Lasso regression model.\n",
    "- We will use R2 as an evaluation metric (regression 문제이기 때문에 r^2 가능)\n",
    "- Conduct grid search on the hyperparameter alpha with 5-fold cross-validation. \n",
    "- Finally, check the final generalization performance on the test set with the chosen hyperparameter."
   ]
  },
  {
   "cell_type": "code",
   "execution_count": 15,
   "id": "4ba18ab6",
   "metadata": {},
   "outputs": [],
   "source": [
    "X_trainval, X_test, y_trainval, y_test = train_test_split(\n",
    "    diabetes.data, diabetes.target, test_size=0.2, random_state=0)\n",
    "\n",
    "kfold = KFold(n_splits=5, shuffle=True, random_state=0)"
   ]
  },
  {
   "cell_type": "code",
   "execution_count": 27,
   "id": "c8c7f58a",
   "metadata": {
    "scrolled": true
   },
   "outputs": [
    {
     "name": "stdout",
     "output_type": "stream",
     "text": [
      "Best score on validation set: 0.5074650\n",
      "Best hyperparameters: {'alpha': 0.6210169418915616}\n"
     ]
    }
   ],
   "source": [
    "scaler = StandardScaler()\n",
    "best_score = 0\n",
    "\n",
    "for alpha in np.logspace(-4, 1, 30): # candidates for alpha\n",
    "\n",
    "    scores_val = []\n",
    "    for train_idx, val_idx in kfold.split(X_trainval, y_trainval):\n",
    "        \n",
    "        '''TODO - get X_train, y_train, X_valid, y_valid \n",
    "        '''   \n",
    "        X_train = X_trainval[train_idx]\n",
    "        y_train = y_trainval[train_idx]\n",
    "        X_valid = X_trainval[val_idx]\n",
    "        y_valid = y_trainval[val_idx]\n",
    "        '''TODO - scale X_train, X_valid  \n",
    "        '''\n",
    "        scaler.fit(X_train)\n",
    "        X_train_scaled = scaler.transform(X_train)\n",
    "        X_valid_scaled = scaler.transform(X_valid)\n",
    "        \n",
    "        # training is performed with the Lasso set to the current alpha.\n",
    "        lasso = Lasso(alpha = alpha, random_state=0, max_iter=10000)\n",
    "        lasso.fit(X_train_scaled, y_train)\n",
    "        '''TODO - get y_valid_hat with the trained model\n",
    "        '''        \n",
    "        y_valid_hat = lasso.predict(X_valid_scaled)\n",
    "        \n",
    "        # store r2 score in scores_val\n",
    "#         scores_val에는 5개의 result가 들어있다(5개의 fold)\n",
    "        scores_val.append(r2_score(y_valid, y_valid_hat))\n",
    "\n",
    "    mean_score = np.mean(scores_val) # get the cross-validation score\n",
    "        \n",
    "    if mean_score > best_score:\n",
    "        '''TODO - best_score is updated and the hyperparameter at that time is saved.\n",
    "        '''  \n",
    "        best_score = mean_score\n",
    "        best_parameters = {'alpha' : alpha}\n",
    "print(\"Best score on validation set: {:.7f}\".format(best_score))\n",
    "print(\"Best hyperparameters: {}\".format(best_parameters))"
   ]
  },
  {
   "cell_type": "code",
   "execution_count": 30,
   "id": "98445c0a",
   "metadata": {},
   "outputs": [
    {
     "name": "stdout",
     "output_type": "stream",
     "text": [
      "Test set score with best hyperparameters: 0.3317134\n"
     ]
    }
   ],
   "source": [
    "'''TODO - scale X_trainval, X_test   \n",
    "'''\n",
    "scaler.fit(X_trainval)\n",
    "X_trainval_scaled = scaler.transform(X_trainval)\n",
    "X_test_scaled = scaler.transform(X_test)\n",
    "\n",
    "# tran Lasso again with the best hyperparameter\n",
    "lasso = Lasso(**best_parameters, random_state=0, max_iter=10000)\n",
    "lasso.fit(X_trainval_scaled, y_trainval)\n",
    "\n",
    "# get the final performance on test set. \n",
    "y_test_hat = lasso.predict(X_test_scaled)\n",
    "test_score = r2_score(y_test, y_test_hat)\n",
    "print(\"Test set score with best hyperparameters: {:.7f}\".format(test_score))"
   ]
  },
  {
   "cell_type": "markdown",
   "id": "23e95306",
   "metadata": {},
   "source": [
    "# Evaluation Metric"
   ]
  },
  {
   "cell_type": "markdown",
   "id": "3160ed3d",
   "metadata": {},
   "source": [
    "- Get the probability of belonging to each class\n",
    "- Draw confusion matrix and calcuate the recall and precision.\n",
    "- Change the threshold and check the change of the value of metric. "
   ]
  },
  {
   "cell_type": "code",
   "execution_count": 31,
   "id": "3addf1e6",
   "metadata": {},
   "outputs": [],
   "source": [
    "from sklearn.datasets import load_breast_cancer\n",
    "# Classification 문제 (1 or 0)\n",
    "cancer = load_breast_cancer()\n",
    "# binary classification : malignant or benign"
   ]
  },
  {
   "cell_type": "code",
   "execution_count": 32,
   "id": "c9c11063",
   "metadata": {},
   "outputs": [],
   "source": [
    "# Training과 Validation으로 나누기\n",
    "from sklearn.model_selection import train_test_split\n",
    "X_train, X_val, y_train, y_val = train_test_split(\n",
    "    cancer.data, cancer.target, stratify=cancer.target, random_state=42)"
   ]
  },
  {
   "cell_type": "code",
   "execution_count": 33,
   "id": "0a99843c",
   "metadata": {},
   "outputs": [
    {
     "data": {
      "text/plain": [
       "KNeighborsClassifier(n_neighbors=30)"
      ]
     },
     "execution_count": 33,
     "metadata": {},
     "output_type": "execute_result"
    }
   ],
   "source": [
    "# train KNN model\n",
    "from sklearn.neighbors import KNeighborsClassifier\n",
    "from sklearn.preprocessing import StandardScaler\n",
    "\n",
    "# we have to do scaling \n",
    "scaler = StandardScaler()\n",
    "scaler.fit(X_train)\n",
    "X_train_scaled = scaler.transform(X_train)\n",
    "X_val_scaled = scaler.transform(X_val)\n",
    "\n",
    "clf = KNeighborsClassifier(n_neighbors=30) # set k to 30\n",
    "clf.fit(X_train_scaled, y_train)"
   ]
  },
  {
   "cell_type": "markdown",
   "id": "a3c5d3be",
   "metadata": {},
   "source": [
    "we can get 'predicted class' with **.predict**"
   ]
  },
  {
   "cell_type": "code",
   "execution_count": 34,
   "id": "54c7463a",
   "metadata": {},
   "outputs": [
    {
     "data": {
      "text/plain": [
       "array([1, 0, 1, 1, 1, 0, 0, 0, 0, 1, 1, 1, 0, 0, 1, 1, 0, 0, 1, 1, 0, 0,\n",
       "       1, 1, 1, 1, 1, 1, 1, 0, 1, 1, 1, 1, 1, 1, 1, 1, 0, 1, 0, 1, 0, 1,\n",
       "       1, 1, 1, 1, 1, 1, 1, 1, 1, 0, 1, 1, 1, 0, 0, 0, 1, 0, 0, 0, 1, 1,\n",
       "       0, 1, 1, 1, 1, 1, 1, 1, 1, 0, 0, 0, 0, 1, 1, 1, 1, 1, 0, 1, 0, 1,\n",
       "       1, 1, 1, 0, 1, 1, 1, 0, 0, 1, 0, 1, 0, 0, 0, 1, 1, 0, 1, 1, 0, 1,\n",
       "       0, 0, 1, 1, 1, 0, 1, 1, 1, 0, 1, 1, 0, 1, 0, 1, 1, 0, 1, 1, 1, 1,\n",
       "       1, 0, 0, 1, 1, 1, 1, 1, 1, 1, 1])"
      ]
     },
     "execution_count": 34,
     "metadata": {},
     "output_type": "execute_result"
    }
   ],
   "source": [
    "y_val_hat = clf.predict(X_val_scaled)\n",
    "y_val_hat"
   ]
  },
  {
   "cell_type": "markdown",
   "id": "d9ae1026",
   "metadata": {},
   "source": [
    "To calculate the probability of belonging to each class, <U>**.predict_proba**</U> can be used."
   ]
  },
  {
   "cell_type": "code",
   "execution_count": 35,
   "id": "2d36d4a6",
   "metadata": {},
   "outputs": [
    {
     "data": {
      "text/plain": [
       "array([[0.03333333, 0.96666667],\n",
       "       [1.        , 0.        ],\n",
       "       [0.3       , 0.7       ],\n",
       "       [0.16666667, 0.83333333],\n",
       "       [0.36666667, 0.63333333],\n",
       "       [1.        , 0.        ],\n",
       "       [0.93333333, 0.06666667],\n",
       "       [0.96666667, 0.03333333],\n",
       "       [1.        , 0.        ],\n",
       "       [0.        , 1.        ],\n",
       "       [0.2       , 0.8       ],\n",
       "       [0.03333333, 0.96666667],\n",
       "       [1.        , 0.        ],\n",
       "       [1.        , 0.        ],\n",
       "       [0.03333333, 0.96666667],\n",
       "       [0.        , 1.        ],\n",
       "       [0.96666667, 0.03333333],\n",
       "       [0.93333333, 0.06666667],\n",
       "       [0.33333333, 0.66666667],\n",
       "       [0.        , 1.        ],\n",
       "       [1.        , 0.        ],\n",
       "       [0.93333333, 0.06666667],\n",
       "       [0.03333333, 0.96666667],\n",
       "       [0.        , 1.        ],\n",
       "       [0.        , 1.        ],\n",
       "       [0.        , 1.        ],\n",
       "       [0.        , 1.        ],\n",
       "       [0.03333333, 0.96666667],\n",
       "       [0.06666667, 0.93333333],\n",
       "       [1.        , 0.        ],\n",
       "       [0.03333333, 0.96666667],\n",
       "       [0.3       , 0.7       ],\n",
       "       [0.1       , 0.9       ],\n",
       "       [0.        , 1.        ],\n",
       "       [0.        , 1.        ],\n",
       "       [0.        , 1.        ],\n",
       "       [0.03333333, 0.96666667],\n",
       "       [0.06666667, 0.93333333],\n",
       "       [1.        , 0.        ],\n",
       "       [0.        , 1.        ],\n",
       "       [1.        , 0.        ],\n",
       "       [0.        , 1.        ],\n",
       "       [1.        , 0.        ],\n",
       "       [0.03333333, 0.96666667],\n",
       "       [0.03333333, 0.96666667],\n",
       "       [0.36666667, 0.63333333],\n",
       "       [0.33333333, 0.66666667],\n",
       "       [0.        , 1.        ],\n",
       "       [0.43333333, 0.56666667],\n",
       "       [0.06666667, 0.93333333],\n",
       "       [0.03333333, 0.96666667],\n",
       "       [0.03333333, 0.96666667],\n",
       "       [0.        , 1.        ],\n",
       "       [1.        , 0.        ],\n",
       "       [0.16666667, 0.83333333],\n",
       "       [0.06666667, 0.93333333],\n",
       "       [0.03333333, 0.96666667],\n",
       "       [1.        , 0.        ],\n",
       "       [1.        , 0.        ],\n",
       "       [1.        , 0.        ],\n",
       "       [0.        , 1.        ],\n",
       "       [0.93333333, 0.06666667],\n",
       "       [0.5       , 0.5       ],\n",
       "       [1.        , 0.        ],\n",
       "       [0.        , 1.        ],\n",
       "       [0.03333333, 0.96666667],\n",
       "       [1.        , 0.        ],\n",
       "       [0.16666667, 0.83333333],\n",
       "       [0.        , 1.        ],\n",
       "       [0.1       , 0.9       ],\n",
       "       [0.        , 1.        ],\n",
       "       [0.33333333, 0.66666667],\n",
       "       [0.03333333, 0.96666667],\n",
       "       [0.        , 1.        ],\n",
       "       [0.        , 1.        ],\n",
       "       [0.93333333, 0.06666667],\n",
       "       [0.9       , 0.1       ],\n",
       "       [1.        , 0.        ],\n",
       "       [1.        , 0.        ],\n",
       "       [0.        , 1.        ],\n",
       "       [0.03333333, 0.96666667],\n",
       "       [0.        , 1.        ],\n",
       "       [0.2       , 0.8       ],\n",
       "       [0.1       , 0.9       ],\n",
       "       [0.96666667, 0.03333333],\n",
       "       [0.        , 1.        ],\n",
       "       [0.66666667, 0.33333333],\n",
       "       [0.03333333, 0.96666667],\n",
       "       [0.46666667, 0.53333333],\n",
       "       [0.        , 1.        ],\n",
       "       [0.03333333, 0.96666667],\n",
       "       [1.        , 0.        ],\n",
       "       [0.23333333, 0.76666667],\n",
       "       [0.        , 1.        ],\n",
       "       [0.26666667, 0.73333333],\n",
       "       [1.        , 0.        ],\n",
       "       [1.        , 0.        ],\n",
       "       [0.        , 1.        ],\n",
       "       [0.86666667, 0.13333333],\n",
       "       [0.        , 1.        ],\n",
       "       [0.96666667, 0.03333333],\n",
       "       [1.        , 0.        ],\n",
       "       [1.        , 0.        ],\n",
       "       [0.16666667, 0.83333333],\n",
       "       [0.23333333, 0.76666667],\n",
       "       [0.86666667, 0.13333333],\n",
       "       [0.03333333, 0.96666667],\n",
       "       [0.        , 1.        ],\n",
       "       [1.        , 0.        ],\n",
       "       [0.        , 1.        ],\n",
       "       [0.83333333, 0.16666667],\n",
       "       [0.53333333, 0.46666667],\n",
       "       [0.        , 1.        ],\n",
       "       [0.36666667, 0.63333333],\n",
       "       [0.16666667, 0.83333333],\n",
       "       [1.        , 0.        ],\n",
       "       [0.23333333, 0.76666667],\n",
       "       [0.        , 1.        ],\n",
       "       [0.36666667, 0.63333333],\n",
       "       [0.93333333, 0.06666667],\n",
       "       [0.        , 1.        ],\n",
       "       [0.03333333, 0.96666667],\n",
       "       [1.        , 0.        ],\n",
       "       [0.        , 1.        ],\n",
       "       [0.83333333, 0.16666667],\n",
       "       [0.06666667, 0.93333333],\n",
       "       [0.03333333, 0.96666667],\n",
       "       [1.        , 0.        ],\n",
       "       [0.03333333, 0.96666667],\n",
       "       [0.        , 1.        ],\n",
       "       [0.03333333, 0.96666667],\n",
       "       [0.        , 1.        ],\n",
       "       [0.        , 1.        ],\n",
       "       [0.8       , 0.2       ],\n",
       "       [1.        , 0.        ],\n",
       "       [0.23333333, 0.76666667],\n",
       "       [0.        , 1.        ],\n",
       "       [0.        , 1.        ],\n",
       "       [0.26666667, 0.73333333],\n",
       "       [0.        , 1.        ],\n",
       "       [0.        , 1.        ],\n",
       "       [0.03333333, 0.96666667],\n",
       "       [0.03333333, 0.96666667]])"
      ]
     },
     "execution_count": 35,
     "metadata": {},
     "output_type": "execute_result"
    }
   ],
   "source": [
    "y_val_prob = clf.predict_proba(X_val_scaled)\n",
    "y_val_prob # probability of beloing to negative and positive for each instance"
   ]
  },
  {
   "cell_type": "code",
   "execution_count": 11,
   "id": "f70f044f",
   "metadata": {
    "scrolled": true
   },
   "outputs": [],
   "source": [
    "# to get the probability of postive, we just need second column\n",
    "prob_postivie = y_val_prob[:,1]"
   ]
  },
  {
   "cell_type": "code",
   "execution_count": 12,
   "id": "b0a8010a",
   "metadata": {},
   "outputs": [
    {
     "data": {
      "text/plain": [
       "array([ True, False,  True,  True,  True, False, False, False, False,\n",
       "        True,  True,  True, False, False,  True,  True, False, False,\n",
       "        True,  True, False, False,  True,  True,  True,  True,  True,\n",
       "        True,  True, False,  True,  True,  True,  True,  True,  True,\n",
       "        True,  True, False,  True, False,  True, False,  True,  True,\n",
       "        True,  True,  True,  True,  True,  True,  True,  True, False,\n",
       "        True,  True,  True, False, False, False,  True, False, False,\n",
       "       False,  True,  True, False,  True,  True,  True,  True,  True,\n",
       "        True,  True,  True, False, False, False, False,  True,  True,\n",
       "        True,  True,  True, False,  True, False,  True,  True,  True,\n",
       "        True, False,  True,  True,  True, False, False,  True, False,\n",
       "        True, False, False, False,  True,  True, False,  True,  True,\n",
       "       False,  True, False, False,  True,  True,  True, False,  True,\n",
       "        True,  True, False,  True,  True, False,  True, False,  True,\n",
       "        True, False,  True,  True,  True,  True,  True, False, False,\n",
       "        True,  True,  True,  True,  True,  True,  True,  True])"
      ]
     },
     "execution_count": 12,
     "metadata": {},
     "output_type": "execute_result"
    }
   ],
   "source": [
    "# actually, setting threshold to 0.5 makes same result with \".predict\"\n",
    "prob_postivie > 0.5"
   ]
  },
  {
   "cell_type": "markdown",
   "id": "9bd6a267",
   "metadata": {},
   "source": [
    "Now, lets change the threshold and check the changes in the value of evaluation metric\n",
    "\n",
    "### Threshold 조정(0.5 -> 0.3)"
   ]
  },
  {
   "cell_type": "code",
   "execution_count": 36,
   "id": "d8e5dd4b",
   "metadata": {},
   "outputs": [],
   "source": [
    "y_val_hat = prob_postivie > 0.3"
   ]
  },
  {
   "cell_type": "code",
   "execution_count": 37,
   "id": "15714d82",
   "metadata": {},
   "outputs": [
    {
     "data": {
      "text/plain": [
       "array([ True, False,  True,  True,  True, False, False, False, False,\n",
       "        True,  True,  True, False, False,  True,  True, False, False,\n",
       "        True,  True, False, False,  True,  True,  True,  True,  True,\n",
       "        True,  True, False,  True,  True,  True,  True,  True,  True,\n",
       "        True,  True, False,  True, False,  True, False,  True,  True,\n",
       "        True,  True,  True,  True,  True,  True,  True,  True, False,\n",
       "        True,  True,  True, False, False, False,  True, False,  True,\n",
       "       False,  True,  True, False,  True,  True,  True,  True,  True,\n",
       "        True,  True,  True, False, False, False, False,  True,  True,\n",
       "        True,  True,  True, False,  True,  True,  True,  True,  True,\n",
       "        True, False,  True,  True,  True, False, False,  True, False,\n",
       "        True, False, False, False,  True,  True, False,  True,  True,\n",
       "       False,  True, False,  True,  True,  True,  True, False,  True,\n",
       "        True,  True, False,  True,  True, False,  True, False,  True,\n",
       "        True, False,  True,  True,  True,  True,  True, False, False,\n",
       "        True,  True,  True,  True,  True,  True,  True,  True])"
      ]
     },
     "execution_count": 37,
     "metadata": {},
     "output_type": "execute_result"
    }
   ],
   "source": [
    "y_val_hat"
   ]
  },
  {
   "cell_type": "code",
   "execution_count": 40,
   "id": "1e5a7437",
   "metadata": {},
   "outputs": [
    {
     "name": "stdout",
     "output_type": "stream",
     "text": [
      "Confusion matrix:\n",
      "[[44  9]\n",
      " [ 0 90]]\n"
     ]
    }
   ],
   "source": [
    "from sklearn.metrics import confusion_matrix\n",
    "# get confusion matrix using the confusion_matrix function\n",
    "'''TODO'''\n",
    "\n",
    "confusion = confusion_matrix(y_val, y_val_hat)\n",
    "print(\"Confusion matrix:\\n{}\".format(confusion))"
   ]
  },
  {
   "cell_type": "markdown",
   "id": "5f725f29",
   "metadata": {},
   "source": [
    "Let's say 1(True) is positive.  \n",
    "calculate recall and precision from the above confusion matrix"
   ]
  },
  {
   "cell_type": "code",
   "execution_count": 52,
   "id": "b7eb2c03",
   "metadata": {},
   "outputs": [
    {
     "name": "stdout",
     "output_type": "stream",
     "text": [
      "recall : \n",
      "precision : \n"
     ]
    }
   ],
   "source": [
    "'''TODO'''\n",
    "\n",
    "recall = confusion[1,1]/confusion[1,:].sum()\n",
    "precision = confusion[1,1]/confusion[:,1].sum()\n",
    "\n",
    "print('recall : '.format(recall))\n",
    "print('precision : '.format(precision))"
   ]
  },
  {
   "cell_type": "markdown",
   "id": "fdf0bd13",
   "metadata": {},
   "source": [
    "**By changing the threshold yourself, check how the precision and recall values change.**"
   ]
  },
  {
   "cell_type": "markdown",
   "id": "0d5d39d9",
   "metadata": {},
   "source": [
    "## Recall, Precision, Threshold 관계\n",
    "recall down\n",
    "\n",
    "precision up"
   ]
  }
 ],
 "metadata": {
  "kernelspec": {
   "display_name": "Python 3 (ipykernel)",
   "language": "python",
   "name": "python3"
  },
  "language_info": {
   "codemirror_mode": {
    "name": "ipython",
    "version": 3
   },
   "file_extension": ".py",
   "mimetype": "text/x-python",
   "name": "python",
   "nbconvert_exporter": "python",
   "pygments_lexer": "ipython3",
   "version": "3.8.13"
  }
 },
 "nbformat": 4,
 "nbformat_minor": 5
}
