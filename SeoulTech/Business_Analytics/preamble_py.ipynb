{
  "nbformat": 4,
  "nbformat_minor": 0,
  "metadata": {
    "colab": {
      "provenance": [],
      "authorship_tag": "ABX9TyMmUkhQr0DDYQ11CKaWLUP+"
    },
    "kernelspec": {
      "name": "python3",
      "display_name": "Python 3"
    },
    "language_info": {
      "name": "python"
    }
  },
  "cells": [
    {
      "cell_type": "code",
      "source": [
        "from IPython.display import set_matplotlib_formats, display\n",
        "import pandas as pd\n",
        "import numpy as np\n",
        "import matplotlib.pyplot as plt\n",
        "import mglearn\n",
        "from cycler import cycler\n",
        "\n",
        "set_matplotlib_formats('pdf', 'png')\n",
        "plt.rcParams['savefig.dpi'] = 300\n",
        "plt.rcParams['image.cmap'] = \"viridis\"\n",
        "plt.rcParams['image.interpolation'] = \"none\"\n",
        "plt.rcParams['savefig.bbox'] = \"tight\"\n",
        "plt.rcParams['lines.linewidth'] = 2\n",
        "plt.rcParams['legend.numpoints'] = 1\n",
        "plt.rc('axes', prop_cycle=(\n",
        "    cycler('color', mglearn.plot_helpers.cm_cycle.colors) +\n",
        "    cycler('linestyle', ['-', '-', \"--\", (0, (3, 3)), (0, (1.5, 1.5))])))\n",
        "\n",
        "np.set_printoptions(precision=3, suppress=True)\n",
        "\n",
        "pd.set_option(\"display.max_columns\", 8)\n",
        "pd.set_option('display.precision', 2)\n",
        "\n",
        "__all__ = ['np', 'mglearn', 'display', 'plt', 'pd']"
      ],
      "metadata": {
        "id": "pyEEME43Qz4f"
      },
      "execution_count": null,
      "outputs": []
    }
  ]
}
