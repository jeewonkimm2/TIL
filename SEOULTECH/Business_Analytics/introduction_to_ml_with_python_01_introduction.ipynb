{
  "cells": [
    {
      "cell_type": "code",
      "execution_count": 1,
      "id": "e80b1c4a",
      "metadata": {
        "collapsed": true,
        "colab": {
          "base_uri": "https://localhost:8080/"
        },
        "id": "e80b1c4a",
        "outputId": "ff4edb03-3240-49e3-c412-3b0d5010d137"
      },
      "outputs": [
        {
          "output_type": "stream",
          "name": "stdout",
          "text": [
            "Looking in indexes: https://pypi.org/simple, https://us-python.pkg.dev/colab-wheels/public/simple/\n",
            "Collecting mglearn\n",
            "  Downloading mglearn-0.1.9.tar.gz (540 kB)\n",
            "\u001b[K     |████████████████████████████████| 540 kB 25.6 MB/s \n",
            "\u001b[?25hRequirement already satisfied: numpy in /usr/local/lib/python3.7/dist-packages (from mglearn) (1.21.6)\n",
            "Requirement already satisfied: matplotlib in /usr/local/lib/python3.7/dist-packages (from mglearn) (3.2.2)\n",
            "Requirement already satisfied: scikit-learn in /usr/local/lib/python3.7/dist-packages (from mglearn) (1.0.2)\n",
            "Requirement already satisfied: pandas in /usr/local/lib/python3.7/dist-packages (from mglearn) (1.3.5)\n",
            "Requirement already satisfied: pillow in /usr/local/lib/python3.7/dist-packages (from mglearn) (7.1.2)\n",
            "Requirement already satisfied: cycler in /usr/local/lib/python3.7/dist-packages (from mglearn) (0.11.0)\n",
            "Requirement already satisfied: imageio in /usr/local/lib/python3.7/dist-packages (from mglearn) (2.9.0)\n",
            "Requirement already satisfied: joblib in /usr/local/lib/python3.7/dist-packages (from mglearn) (1.1.0)\n",
            "Requirement already satisfied: python-dateutil>=2.1 in /usr/local/lib/python3.7/dist-packages (from matplotlib->mglearn) (2.8.2)\n",
            "Requirement already satisfied: kiwisolver>=1.0.1 in /usr/local/lib/python3.7/dist-packages (from matplotlib->mglearn) (1.4.4)\n",
            "Requirement already satisfied: pyparsing!=2.0.4,!=2.1.2,!=2.1.6,>=2.0.1 in /usr/local/lib/python3.7/dist-packages (from matplotlib->mglearn) (3.0.9)\n",
            "Requirement already satisfied: typing-extensions in /usr/local/lib/python3.7/dist-packages (from kiwisolver>=1.0.1->matplotlib->mglearn) (4.1.1)\n",
            "Requirement already satisfied: six>=1.5 in /usr/local/lib/python3.7/dist-packages (from python-dateutil>=2.1->matplotlib->mglearn) (1.15.0)\n",
            "Requirement already satisfied: pytz>=2017.3 in /usr/local/lib/python3.7/dist-packages (from pandas->mglearn) (2022.2.1)\n",
            "Requirement already satisfied: threadpoolctl>=2.0.0 in /usr/local/lib/python3.7/dist-packages (from scikit-learn->mglearn) (3.1.0)\n",
            "Requirement already satisfied: scipy>=1.1.0 in /usr/local/lib/python3.7/dist-packages (from scikit-learn->mglearn) (1.7.3)\n",
            "Building wheels for collected packages: mglearn\n",
            "  Building wheel for mglearn (setup.py) ... \u001b[?25l\u001b[?25hdone\n",
            "  Created wheel for mglearn: filename=mglearn-0.1.9-py2.py3-none-any.whl size=582639 sha256=d1747d5381edc5bf87d6ff84d3fa1275692655526403c49bc73e07487596fb7a\n",
            "  Stored in directory: /root/.cache/pip/wheels/f1/17/e1/1720d6dcd70187b6b6c3750cb3508798f2b1d57c9d3214b08b\n",
            "Successfully built mglearn\n",
            "Installing collected packages: mglearn\n",
            "Successfully installed mglearn-0.1.9\n"
          ]
        }
      ],
      "source": [
        "pip install mglearn"
      ]
    },
    {
      "cell_type": "markdown",
      "id": "481c0ae2",
      "metadata": {
        "id": "481c0ae2"
      },
      "source": [
        "### from preamble import * 오류 해결\n",
        "https://velog.io/@ssook1222/%EC%98%A4%EB%8A%98%EC%9D%98-%EC%97%90%EB%9F%AC-no-module-named-preamble-Error"
      ]
    },
    {
      "cell_type": "code",
      "execution_count": 2,
      "id": "77df3fbc",
      "metadata": {
        "colab": {
          "base_uri": "https://localhost:8080/",
          "height": 329
        },
        "id": "77df3fbc",
        "outputId": "385c0fe8-b777-4fe6-9406-fa53681e0e07"
      },
      "outputs": [
        {
          "output_type": "error",
          "ename": "ModuleNotFoundError",
          "evalue": "ignored",
          "traceback": [
            "\u001b[0;31m---------------------------------------------------------------------------\u001b[0m",
            "\u001b[0;31mModuleNotFoundError\u001b[0m                       Traceback (most recent call last)",
            "\u001b[0;32m<ipython-input-2-6209498111fc>\u001b[0m in \u001b[0;36m<module>\u001b[0;34m\u001b[0m\n\u001b[0;32m----> 1\u001b[0;31m \u001b[0;32mfrom\u001b[0m \u001b[0mpreamble\u001b[0m \u001b[0;32mimport\u001b[0m \u001b[0;34m*\u001b[0m\u001b[0;34m\u001b[0m\u001b[0;34m\u001b[0m\u001b[0m\n\u001b[0m\u001b[1;32m      2\u001b[0m \u001b[0mget_ipython\u001b[0m\u001b[0;34m(\u001b[0m\u001b[0;34m)\u001b[0m\u001b[0;34m.\u001b[0m\u001b[0mrun_line_magic\u001b[0m\u001b[0;34m(\u001b[0m\u001b[0;34m'matplotlib'\u001b[0m\u001b[0;34m,\u001b[0m \u001b[0;34m'inline'\u001b[0m\u001b[0;34m)\u001b[0m\u001b[0;34m\u001b[0m\u001b[0;34m\u001b[0m\u001b[0m\n",
            "\u001b[0;31mModuleNotFoundError\u001b[0m: No module named 'preamble'",
            "",
            "\u001b[0;31m---------------------------------------------------------------------------\u001b[0;32m\nNOTE: If your import is failing due to a missing package, you can\nmanually install dependencies using either !pip or !apt.\n\nTo view examples of installing some common dependencies, click the\n\"Open Examples\" button below.\n\u001b[0;31m---------------------------------------------------------------------------\u001b[0m\n"
          ],
          "errorDetails": {
            "actions": [
              {
                "action": "open_url",
                "actionText": "Open Examples",
                "url": "/notebooks/snippets/importing_libraries.ipynb"
              }
            ]
          }
        }
      ],
      "source": [
        "# from preamble import *\n",
        "%matplotlib inline"
      ]
    },
    {
      "cell_type": "code",
      "source": [
        "import mglearn"
      ],
      "metadata": {
        "id": "HHSDQk753A6V"
      },
      "id": "HHSDQk753A6V",
      "execution_count": 23,
      "outputs": []
    },
    {
      "cell_type": "code",
      "execution_count": 4,
      "id": "b0aa397e",
      "metadata": {
        "colab": {
          "base_uri": "https://localhost:8080/"
        },
        "id": "b0aa397e",
        "outputId": "1adbde3f-5bb1-4168-f29b-83e9000c09a5"
      },
      "outputs": [
        {
          "output_type": "stream",
          "name": "stdout",
          "text": [
            "x:\n",
            "[[1 2 3]\n",
            " [4 5 6]]\n"
          ]
        }
      ],
      "source": [
        "import numpy as np\n",
        "\n",
        "x = np.array([[1,2,3],[4,5,6]])\n",
        "print(\"x:\\n{}\".format(x))"
      ]
    },
    {
      "cell_type": "code",
      "execution_count": 5,
      "id": "81cd59bd",
      "metadata": {
        "colab": {
          "base_uri": "https://localhost:8080/"
        },
        "id": "81cd59bd",
        "outputId": "4e92f9d8-7b35-42d8-da5a-26c2b1bff5c1"
      },
      "outputs": [
        {
          "output_type": "stream",
          "name": "stdout",
          "text": [
            "Numpy array:\n",
            " [[1. 0. 0. 0.]\n",
            " [0. 1. 0. 0.]\n",
            " [0. 0. 1. 0.]\n",
            " [0. 0. 0. 1.]]\n"
          ]
        }
      ],
      "source": [
        "from scipy import sparse\n",
        "\n",
        "# diagonal matrix 대각행렬 만들기\n",
        "eye = np.eye(4)\n",
        "print(\"Numpy array:\\n\",eye)"
      ]
    },
    {
      "cell_type": "markdown",
      "id": "5e0b31bb",
      "metadata": {
        "id": "5e0b31bb"
      },
      "source": [
        "### Sparse Matrix & CSR(Compressed Sparse Row)\n",
        "\n",
        "**Sparse matrix** : 행렬의 대부분 요소가 0인 행렬\n",
        "\n",
        "*그와 반대로*\n",
        "\n",
        "**density 혹은 dense** : 요소가 0이 아닌 행렬\n",
        "\n",
        "Sparse matrix은 대부분의 요소가 0이기 때문에 효율적인 관리가 필요함\n",
        "\n",
        "효율적으로 관리하는 방법 중의 하나가 CSR(Compressed Sparse Row) 혹은 COO matrix\n",
        "\n",
        "\n",
        "참고\n",
        "\n",
        "https://gaussian37.github.io/math-la-sparse_matrix/\n",
        "\n",
        "https://bkshin.tistory.com/entry/NLP-7-%ED%9D%AC%EC%86%8C-%ED%96%89%EB%A0%AC-Sparse-Matrix-COO-%ED%98%95%EC%8B%9D-CSR-%ED%98%95%EC%8B%9D"
      ]
    },
    {
      "cell_type": "code",
      "execution_count": 6,
      "id": "883224aa",
      "metadata": {
        "scrolled": true,
        "colab": {
          "base_uri": "https://localhost:8080/"
        },
        "id": "883224aa",
        "outputId": "f88b629a-1c68-4870-83f7-23b31793a88e"
      },
      "outputs": [
        {
          "output_type": "stream",
          "name": "stdout",
          "text": [
            "  (0, 0)\t1.0\n",
            "  (1, 1)\t1.0\n",
            "  (2, 2)\t1.0\n",
            "  (3, 3)\t1.0\n"
          ]
        }
      ],
      "source": [
        "sparse_matrix = sparse.csr_matrix(eye)\n",
        "print(sparse_matrix)"
      ]
    },
    {
      "cell_type": "code",
      "execution_count": 7,
      "id": "0643455d",
      "metadata": {
        "colab": {
          "base_uri": "https://localhost:8080/"
        },
        "id": "0643455d",
        "outputId": "317e0813-f94c-4ae4-a07d-10ef6e779207"
      },
      "outputs": [
        {
          "output_type": "stream",
          "name": "stdout",
          "text": [
            "COO representation : \n",
            "   (0, 0)\t1.0\n",
            "  (1, 1)\t1.0\n",
            "  (2, 2)\t1.0\n",
            "  (3, 3)\t1.0\n"
          ]
        }
      ],
      "source": [
        "# coo 행렬 : sparse\n",
        "\n",
        "data = np.ones(4)\n",
        "row_indices = np.arange(4)\n",
        "col_indices = np.arange(4)\n",
        "eye_coo = sparse.coo_matrix((data, (row_indices, col_indices)))\n",
        "print(\"COO representation : \\n\", eye_coo)"
      ]
    },
    {
      "cell_type": "markdown",
      "id": "44318d12",
      "metadata": {
        "id": "44318d12"
      },
      "source": [
        "### matplotlib"
      ]
    },
    {
      "cell_type": "markdown",
      "id": "5563cd41",
      "metadata": {
        "id": "5563cd41"
      },
      "source": [
        "**%matplotlib inline**란?\n",
        "\n",
        "주피터 노트북을 실행한 브라우저에서 바로 그림을 볼 수 있게끔 만드는 것.\n",
        "\n",
        "즉, 브라우저 내부(inline)에 바로 그려지도록 해주는 코드이다."
      ]
    },
    {
      "cell_type": "code",
      "execution_count": 8,
      "id": "6feef0df",
      "metadata": {
        "scrolled": false,
        "colab": {
          "base_uri": "https://localhost:8080/",
          "height": 283
        },
        "id": "6feef0df",
        "outputId": "50976028-1ba5-46d2-9b5d-0f02de757e1b"
      },
      "outputs": [
        {
          "output_type": "execute_result",
          "data": {
            "text/plain": [
              "[<matplotlib.lines.Line2D at 0x7f2ae9ba8f10>]"
            ]
          },
          "metadata": {},
          "execution_count": 8
        },
        {
          "output_type": "display_data",
          "data": {
            "text/plain": [
              "<Figure size 432x288 with 1 Axes>"
            ],
            "image/png": "[encoded data removed]"
          },
          "metadata": {
            "needs_background": "light"
          }
        }
      ],
      "source": [
        "%matplotlib inline\n",
        "import matplotlib.pyplot as plt\n",
        "\n",
        "x = np.linspace(-10,10,100)\n",
        "y = np.sin(x)\n",
        "plt.plot(x,y,marker='x')"
      ]
    },
    {
      "cell_type": "markdown",
      "id": "4500bae2",
      "metadata": {
        "id": "4500bae2"
      },
      "source": [
        "### pandas"
      ]
    },
    {
      "cell_type": "code",
      "execution_count": 9,
      "id": "ed989d2c",
      "metadata": {
        "scrolled": true,
        "colab": {
          "base_uri": "https://localhost:8080/",
          "height": 175
        },
        "id": "ed989d2c",
        "outputId": "121af7fa-ee9e-4122-b04b-0c9ae6235a29"
      },
      "outputs": [
        {
          "output_type": "display_data",
          "data": {
            "text/plain": [
              "    Name  Location  Age\n",
              "0   John  New York   24\n",
              "1   Anna     Paris   13\n",
              "2  Peter    Berlin   53\n",
              "3  Linda    London   33"
            ],
            "text/html": [
              "\n",
              "  <div id=\"df-facd355f-adc1-4016-a8de-5388e34daffc\">\n",
              "    <div class=\"colab-df-container\">\n",
              "      <div>\n",
              "<style scoped>\n",
              "    .dataframe tbody tr th:only-of-type {\n",
              "        vertical-align: middle;\n",
              "    }\n",
              "\n",
              "    .dataframe tbody tr th {\n",
              "        vertical-align: top;\n",
              "    }\n",
              "\n",
              "    .dataframe thead th {\n",
              "        text-align: right;\n",
              "    }\n",
              "</style>\n",
              "<table border=\"1\" class=\"dataframe\">\n",
              "  <thead>\n",
              "    <tr style=\"text-align: right;\">\n",
              "      <th></th>\n",
              "      <th>Name</th>\n",
              "      <th>Location</th>\n",
              "      <th>Age</th>\n",
              "    </tr>\n",
              "  </thead>\n",
              "  <tbody>\n",
              "    <tr>\n",
              "      <th>0</th>\n",
              "      <td>John</td>\n",
              "      <td>New York</td>\n",
              "      <td>24</td>\n",
              "    </tr>\n",
              "    <tr>\n",
              "      <th>1</th>\n",
              "      <td>Anna</td>\n",
              "      <td>Paris</td>\n",
              "      <td>13</td>\n",
              "    </tr>\n",
              "    <tr>\n",
              "      <th>2</th>\n",
              "      <td>Peter</td>\n",
              "      <td>Berlin</td>\n",
              "      <td>53</td>\n",
              "    </tr>\n",
              "    <tr>\n",
              "      <th>3</th>\n",
              "      <td>Linda</td>\n",
              "      <td>London</td>\n",
              "      <td>33</td>\n",
              "    </tr>\n",
              "  </tbody>\n",
              "</table>\n",
              "</div>\n",
              "      <button class=\"colab-df-convert\" onclick=\"convertToInteractive('df-facd355f-adc1-4016-a8de-5388e34daffc')\"\n",
              "              title=\"Convert this dataframe to an interactive table.\"\n",
              "              style=\"display:none;\">\n",
              "        \n",
              "  <svg xmlns=\"http://www.w3.org/2000/svg\" height=\"24px\"viewBox=\"0 0 24 24\"\n",
              "       width=\"24px\">\n",
              "    <path d=\"M0 0h24v24H0V0z\" fill=\"none\"/>\n",
              "    <path d=\"M18.56 5.44l.94 2.06.94-2.06 2.06-.94-2.06-.94-.94-2.06-.94 2.06-2.06.94zm-11 1L8.5 8.5l.94-2.06 2.06-.94-2.06-.94L8.5 2.5l-.94 2.06-2.06.94zm10 10l.94 2.06.94-2.06 2.06-.94-2.06-.94-.94-2.06-.94 2.06-2.06.94z\"/><path d=\"M17.41 7.96l-1.37-1.37c-.4-.4-.92-.59-1.43-.59-.52 0-1.04.2-1.43.59L10.3 9.45l-7.72 7.72c-.78.78-.78 2.05 0 2.83L4 21.41c.39.39.9.59 1.41.59.51 0 1.02-.2 1.41-.59l7.78-7.78 2.81-2.81c.8-.78.8-2.07 0-2.86zM5.41 20L4 18.59l7.72-7.72 1.47 1.35L5.41 20z\"/>\n",
              "  </svg>\n",
              "      </button>\n",
              "      \n",
              "  <style>\n",
              "    .colab-df-container {\n",
              "      display:flex;\n",
              "      flex-wrap:wrap;\n",
              "      gap: 12px;\n",
              "    }\n",
              "\n",
              "    .colab-df-convert {\n",
              "      background-color: #E8F0FE;\n",
              "      border: none;\n",
              "      border-radius: 50%;\n",
              "      cursor: pointer;\n",
              "      display: none;\n",
              "      fill: #1967D2;\n",
              "      height: 32px;\n",
              "      padding: 0 0 0 0;\n",
              "      width: 32px;\n",
              "    }\n",
              "\n",
              "    .colab-df-convert:hover {\n",
              "      background-color: #E2EBFA;\n",
              "      box-shadow: 0px 1px 2px rgba(60, 64, 67, 0.3), 0px 1px 3px 1px rgba(60, 64, 67, 0.15);\n",
              "      fill: #174EA6;\n",
              "    }\n",
              "\n",
              "    [theme=dark] .colab-df-convert {\n",
              "      background-color: #3B4455;\n",
              "      fill: #D2E3FC;\n",
              "    }\n",
              "\n",
              "    [theme=dark] .colab-df-convert:hover {\n",
              "      background-color: #434B5C;\n",
              "      box-shadow: 0px 1px 3px 1px rgba(0, 0, 0, 0.15);\n",
              "      filter: drop-shadow(0px 1px 2px rgba(0, 0, 0, 0.3));\n",
              "      fill: #FFFFFF;\n",
              "    }\n",
              "  </style>\n",
              "\n",
              "      <script>\n",
              "        const buttonEl =\n",
              "          document.querySelector('#df-facd355f-adc1-4016-a8de-5388e34daffc button.colab-df-convert');\n",
              "        buttonEl.style.display =\n",
              "          google.colab.kernel.accessAllowed ? 'block' : 'none';\n",
              "\n",
              "        async function convertToInteractive(key) {\n",
              "          const element = document.querySelector('#df-facd355f-adc1-4016-a8de-5388e34daffc');\n",
              "          const dataTable =\n",
              "            await google.colab.kernel.invokeFunction('convertToInteractive',\n",
              "                                                     [key], {});\n",
              "          if (!dataTable) return;\n",
              "\n",
              "          const docLinkHtml = 'Like what you see? Visit the ' +\n",
              "            '<a target=\"_blank\" href=https://colab.research.google.com/notebooks/data_table.ipynb>data table notebook</a>'\n",
              "            + ' to learn more about interactive tables.';\n",
              "          element.innerHTML = '';\n",
              "          dataTable['output_type'] = 'display_data';\n",
              "          await google.colab.output.renderOutput(dataTable, element);\n",
              "          const docLink = document.createElement('div');\n",
              "          docLink.innerHTML = docLinkHtml;\n",
              "          element.appendChild(docLink);\n",
              "        }\n",
              "      </script>\n",
              "    </div>\n",
              "  </div>\n",
              "  "
            ]
          },
          "metadata": {}
        }
      ],
      "source": [
        "import pandas as pd\n",
        "\n",
        "data = {'Name':['John','Anna','Peter','Linda'],\n",
        "       'Location':['New York','Paris','Berlin','London'],\n",
        "       'Age':[24,13,53,33]}\n",
        "\n",
        "data_pandas = pd.DataFrame(data)\n",
        "\n",
        "display(data_pandas)"
      ]
    },
    {
      "cell_type": "code",
      "execution_count": 10,
      "id": "a06f1321",
      "metadata": {
        "scrolled": true,
        "colab": {
          "base_uri": "https://localhost:8080/",
          "height": 112
        },
        "id": "a06f1321",
        "outputId": "fa03aae3-fdbf-41f8-fee5-797491a50261"
      },
      "outputs": [
        {
          "output_type": "display_data",
          "data": {
            "text/plain": [
              "    Name Location  Age\n",
              "2  Peter   Berlin   53\n",
              "3  Linda   London   33"
            ],
            "text/html": [
              "\n",
              "  <div id=\"df-892ff903-71ef-4955-9a87-1f9f95b45645\">\n",
              "    <div class=\"colab-df-container\">\n",
              "      <div>\n",
              "<style scoped>\n",
              "    .dataframe tbody tr th:only-of-type {\n",
              "        vertical-align: middle;\n",
              "    }\n",
              "\n",
              "    .dataframe tbody tr th {\n",
              "        vertical-align: top;\n",
              "    }\n",
              "\n",
              "    .dataframe thead th {\n",
              "        text-align: right;\n",
              "    }\n",
              "</style>\n",
              "<table border=\"1\" class=\"dataframe\">\n",
              "  <thead>\n",
              "    <tr style=\"text-align: right;\">\n",
              "      <th></th>\n",
              "      <th>Name</th>\n",
              "      <th>Location</th>\n",
              "      <th>Age</th>\n",
              "    </tr>\n",
              "  </thead>\n",
              "  <tbody>\n",
              "    <tr>\n",
              "      <th>2</th>\n",
              "      <td>Peter</td>\n",
              "      <td>Berlin</td>\n",
              "      <td>53</td>\n",
              "    </tr>\n",
              "    <tr>\n",
              "      <th>3</th>\n",
              "      <td>Linda</td>\n",
              "      <td>London</td>\n",
              "      <td>33</td>\n",
              "    </tr>\n",
              "  </tbody>\n",
              "</table>\n",
              "</div>\n",
              "      <button class=\"colab-df-convert\" onclick=\"convertToInteractive('df-892ff903-71ef-4955-9a87-1f9f95b45645')\"\n",
              "              title=\"Convert this dataframe to an interactive table.\"\n",
              "              style=\"display:none;\">\n",
              "        \n",
              "  <svg xmlns=\"http://www.w3.org/2000/svg\" height=\"24px\"viewBox=\"0 0 24 24\"\n",
              "       width=\"24px\">\n",
              "    <path d=\"M0 0h24v24H0V0z\" fill=\"none\"/>\n",
              "    <path d=\"M18.56 5.44l.94 2.06.94-2.06 2.06-.94-2.06-.94-.94-2.06-.94 2.06-2.06.94zm-11 1L8.5 8.5l.94-2.06 2.06-.94-2.06-.94L8.5 2.5l-.94 2.06-2.06.94zm10 10l.94 2.06.94-2.06 2.06-.94-2.06-.94-.94-2.06-.94 2.06-2.06.94z\"/><path d=\"M17.41 7.96l-1.37-1.37c-.4-.4-.92-.59-1.43-.59-.52 0-1.04.2-1.43.59L10.3 9.45l-7.72 7.72c-.78.78-.78 2.05 0 2.83L4 21.41c.39.39.9.59 1.41.59.51 0 1.02-.2 1.41-.59l7.78-7.78 2.81-2.81c.8-.78.8-2.07 0-2.86zM5.41 20L4 18.59l7.72-7.72 1.47 1.35L5.41 20z\"/>\n",
              "  </svg>\n",
              "      </button>\n",
              "      \n",
              "  <style>\n",
              "    .colab-df-container {\n",
              "      display:flex;\n",
              "      flex-wrap:wrap;\n",
              "      gap: 12px;\n",
              "    }\n",
              "\n",
              "    .colab-df-convert {\n",
              "      background-color: #E8F0FE;\n",
              "      border: none;\n",
              "      border-radius: 50%;\n",
              "      cursor: pointer;\n",
              "      display: none;\n",
              "      fill: #1967D2;\n",
              "      height: 32px;\n",
              "      padding: 0 0 0 0;\n",
              "      width: 32px;\n",
              "    }\n",
              "\n",
              "    .colab-df-convert:hover {\n",
              "      background-color: #E2EBFA;\n",
              "      box-shadow: 0px 1px 2px rgba(60, 64, 67, 0.3), 0px 1px 3px 1px rgba(60, 64, 67, 0.15);\n",
              "      fill: #174EA6;\n",
              "    }\n",
              "\n",
              "    [theme=dark] .colab-df-convert {\n",
              "      background-color: #3B4455;\n",
              "      fill: #D2E3FC;\n",
              "    }\n",
              "\n",
              "    [theme=dark] .colab-df-convert:hover {\n",
              "      background-color: #434B5C;\n",
              "      box-shadow: 0px 1px 3px 1px rgba(0, 0, 0, 0.15);\n",
              "      filter: drop-shadow(0px 1px 2px rgba(0, 0, 0, 0.3));\n",
              "      fill: #FFFFFF;\n",
              "    }\n",
              "  </style>\n",
              "\n",
              "      <script>\n",
              "        const buttonEl =\n",
              "          document.querySelector('#df-892ff903-71ef-4955-9a87-1f9f95b45645 button.colab-df-convert');\n",
              "        buttonEl.style.display =\n",
              "          google.colab.kernel.accessAllowed ? 'block' : 'none';\n",
              "\n",
              "        async function convertToInteractive(key) {\n",
              "          const element = document.querySelector('#df-892ff903-71ef-4955-9a87-1f9f95b45645');\n",
              "          const dataTable =\n",
              "            await google.colab.kernel.invokeFunction('convertToInteractive',\n",
              "                                                     [key], {});\n",
              "          if (!dataTable) return;\n",
              "\n",
              "          const docLinkHtml = 'Like what you see? Visit the ' +\n",
              "            '<a target=\"_blank\" href=https://colab.research.google.com/notebooks/data_table.ipynb>data table notebook</a>'\n",
              "            + ' to learn more about interactive tables.';\n",
              "          element.innerHTML = '';\n",
              "          dataTable['output_type'] = 'display_data';\n",
              "          await google.colab.output.renderOutput(dataTable, element);\n",
              "          const docLink = document.createElement('div');\n",
              "          docLink.innerHTML = docLinkHtml;\n",
              "          element.appendChild(docLink);\n",
              "        }\n",
              "      </script>\n",
              "    </div>\n",
              "  </div>\n",
              "  "
            ]
          },
          "metadata": {}
        }
      ],
      "source": [
        "display(data_pandas[data_pandas.Age>30])"
      ]
    },
    {
      "cell_type": "markdown",
      "id": "678daa04",
      "metadata": {
        "id": "678daa04"
      },
      "source": [
        "## A First Application : Classifying Iris Species"
      ]
    },
    {
      "cell_type": "code",
      "execution_count": 11,
      "id": "a2ce5b12",
      "metadata": {
        "id": "a2ce5b12"
      },
      "outputs": [],
      "source": [
        "from sklearn.datasets import load_iris\n",
        "iris_dataset = load_iris()"
      ]
    },
    {
      "cell_type": "code",
      "execution_count": 12,
      "id": "1eadb05a",
      "metadata": {
        "scrolled": true,
        "colab": {
          "base_uri": "https://localhost:8080/"
        },
        "id": "1eadb05a",
        "outputId": "eed9c35b-b1c2-4e7c-c493-ab5c8614a468"
      },
      "outputs": [
        {
          "output_type": "stream",
          "name": "stdout",
          "text": [
            "Keys of iris_dataset:\n",
            " dict_keys(['data', 'target', 'frame', 'target_names', 'DESCR', 'feature_names', 'filename', 'data_module'])\n"
          ]
        }
      ],
      "source": [
        "print(\"Keys of iris_dataset:\\n\", iris_dataset.keys())"
      ]
    },
    {
      "cell_type": "code",
      "execution_count": 13,
      "id": "11c8c889",
      "metadata": {
        "scrolled": true,
        "colab": {
          "base_uri": "https://localhost:8080/"
        },
        "id": "11c8c889",
        "outputId": "91f94bdf-ddb0-4b4e-f523-5b2ff94c6a72"
      },
      "outputs": [
        {
          "output_type": "stream",
          "name": "stdout",
          "text": [
            ".. _iris_dataset:\n",
            "\n",
            "Iris plants dataset\n",
            "--------------------\n",
            "\n",
            "**Data Set Characteristics:**\n",
            "\n",
            "    :Number of Instances: 150 (50 in each of three classes)\n",
            "    :Number of Attributes: 4 numeric, pre\n",
            "...\n"
          ]
        }
      ],
      "source": [
        "print(iris_dataset['DESCR'][:193]+\"\\n...\")"
      ]
    },
    {
      "cell_type": "code",
      "execution_count": 14,
      "id": "e66c8666",
      "metadata": {
        "scrolled": true,
        "colab": {
          "base_uri": "https://localhost:8080/"
        },
        "id": "e66c8666",
        "outputId": "5c84e757-4d67-4982-bdd2-2d22685906ec"
      },
      "outputs": [
        {
          "output_type": "stream",
          "name": "stdout",
          "text": [
            "['setosa' 'versicolor' 'virginica']\n",
            "['sepal length (cm)', 'sepal width (cm)', 'petal length (cm)', 'petal width (cm)']\n",
            "<class 'numpy.ndarray'>\n",
            "(150, 4)\n"
          ]
        }
      ],
      "source": [
        "print(iris_dataset['target_names'])\n",
        "print(iris_dataset['feature_names'])\n",
        "print(type(iris_dataset['data']))\n",
        "print(iris_dataset['data'].shape)"
      ]
    },
    {
      "cell_type": "code",
      "execution_count": 15,
      "id": "164dfcd2",
      "metadata": {
        "scrolled": true,
        "colab": {
          "base_uri": "https://localhost:8080/"
        },
        "id": "164dfcd2",
        "outputId": "4d04f1eb-b71b-46e6-ea62-0ef001298ec5"
      },
      "outputs": [
        {
          "output_type": "stream",
          "name": "stdout",
          "text": [
            "[[5.1 3.5 1.4 0.2]\n",
            " [4.9 3.  1.4 0.2]\n",
            " [4.7 3.2 1.3 0.2]\n",
            " [4.6 3.1 1.5 0.2]\n",
            " [5.  3.6 1.4 0.2]]\n"
          ]
        }
      ],
      "source": [
        "print(iris_dataset['data'][:5])"
      ]
    },
    {
      "cell_type": "code",
      "execution_count": 16,
      "id": "2faf47b8",
      "metadata": {
        "scrolled": true,
        "colab": {
          "base_uri": "https://localhost:8080/"
        },
        "id": "2faf47b8",
        "outputId": "2585f6db-10db-490d-c7a2-ad1ea722b583"
      },
      "outputs": [
        {
          "output_type": "stream",
          "name": "stdout",
          "text": [
            "<class 'numpy.ndarray'>\n"
          ]
        }
      ],
      "source": [
        "print(type(iris_dataset['target']))"
      ]
    },
    {
      "cell_type": "code",
      "execution_count": 17,
      "id": "45a626ad",
      "metadata": {
        "scrolled": true,
        "colab": {
          "base_uri": "https://localhost:8080/"
        },
        "id": "45a626ad",
        "outputId": "dc0fbc13-8ee9-4907-eabc-af7259e91322"
      },
      "outputs": [
        {
          "output_type": "stream",
          "name": "stdout",
          "text": [
            "(150,)\n"
          ]
        }
      ],
      "source": [
        "print(iris_dataset['target'].shape)"
      ]
    },
    {
      "cell_type": "code",
      "execution_count": 18,
      "id": "c24287a1",
      "metadata": {
        "scrolled": true,
        "colab": {
          "base_uri": "https://localhost:8080/"
        },
        "id": "c24287a1",
        "outputId": "081409c8-6541-4f3d-9ac7-b4453b5726d9"
      },
      "outputs": [
        {
          "output_type": "stream",
          "name": "stdout",
          "text": [
            "[0 0 0 0 0 0 0 0 0 0 0 0 0 0 0 0 0 0 0 0 0 0 0 0 0 0 0 0 0 0 0 0 0 0 0 0 0\n",
            " 0 0 0 0 0 0 0 0 0 0 0 0 0 1 1 1 1 1 1 1 1 1 1 1 1 1 1 1 1 1 1 1 1 1 1 1 1\n",
            " 1 1 1 1 1 1 1 1 1 1 1 1 1 1 1 1 1 1 1 1 1 1 1 1 1 1 2 2 2 2 2 2 2 2 2 2 2\n",
            " 2 2 2 2 2 2 2 2 2 2 2 2 2 2 2 2 2 2 2 2 2 2 2 2 2 2 2 2 2 2 2 2 2 2 2 2 2\n",
            " 2 2]\n"
          ]
        }
      ],
      "source": [
        "print(iris_dataset['target'])"
      ]
    },
    {
      "cell_type": "markdown",
      "id": "b258df12",
      "metadata": {
        "id": "b258df12"
      },
      "source": [
        "### Training and Testing Data"
      ]
    },
    {
      "cell_type": "code",
      "execution_count": 19,
      "id": "b6cb0edc",
      "metadata": {
        "id": "b6cb0edc"
      },
      "outputs": [],
      "source": [
        "from sklearn.model_selection import train_test_split\n",
        "\n",
        "X_train, X_test, y_train, y_test = train_test_split(iris_dataset['data'],iris_dataset['target'],random_state=0)"
      ]
    },
    {
      "cell_type": "code",
      "execution_count": 20,
      "id": "5034d818",
      "metadata": {
        "scrolled": true,
        "colab": {
          "base_uri": "https://localhost:8080/"
        },
        "id": "5034d818",
        "outputId": "fc2e418b-994d-4426-be33-ac440a18f59d"
      },
      "outputs": [
        {
          "output_type": "stream",
          "name": "stdout",
          "text": [
            "(112, 4)\n",
            "(112,)\n"
          ]
        }
      ],
      "source": [
        "print(X_train.shape)\n",
        "print(y_train.shape)"
      ]
    },
    {
      "cell_type": "code",
      "execution_count": 21,
      "id": "8b54d8c4",
      "metadata": {
        "colab": {
          "base_uri": "https://localhost:8080/"
        },
        "id": "8b54d8c4",
        "outputId": "cb0e708b-c6b4-4b12-e356-64ca28e0ca23"
      },
      "outputs": [
        {
          "output_type": "stream",
          "name": "stdout",
          "text": [
            "(38, 4)\n",
            "(38,)\n"
          ]
        }
      ],
      "source": [
        "print(X_test.shape)\n",
        "print(y_test.shape)"
      ]
    },
    {
      "cell_type": "markdown",
      "id": "3f2bde73",
      "metadata": {
        "id": "3f2bde73"
      },
      "source": [
        "### Look at your data\n",
        "### 시각화"
      ]
    },
    {
      "cell_type": "code",
      "execution_count": 24,
      "id": "87f69fbc",
      "metadata": {
        "colab": {
          "base_uri": "https://localhost:8080/",
          "height": 905
        },
        "id": "87f69fbc",
        "outputId": "c0a6e647-3277-46f9-d59d-7e11b857084a"
      },
      "outputs": [
        {
          "output_type": "execute_result",
          "data": {
            "text/plain": [
              "array([[<matplotlib.axes._subplots.AxesSubplot object at 0x7f2ad3f43190>,\n",
              "        <matplotlib.axes._subplots.AxesSubplot object at 0x7f2ad3efa810>,\n",
              "        <matplotlib.axes._subplots.AxesSubplot object at 0x7f2ad3eafe10>,\n",
              "        <matplotlib.axes._subplots.AxesSubplot object at 0x7f2ad3e75450>],\n",
              "       [<matplotlib.axes._subplots.AxesSubplot object at 0x7f2ad3e2ca50>,\n",
              "        <matplotlib.axes._subplots.AxesSubplot object at 0x7f2ad3e57b50>,\n",
              "        <matplotlib.axes._subplots.AxesSubplot object at 0x7f2ad3e26710>,\n",
              "        <matplotlib.axes._subplots.AxesSubplot object at 0x7f2ad3dddc50>],\n",
              "       [<matplotlib.axes._subplots.AxesSubplot object at 0x7f2ad3dddc90>,\n",
              "        <matplotlib.axes._subplots.AxesSubplot object at 0x7f2ad3da13d0>,\n",
              "        <matplotlib.axes._subplots.AxesSubplot object at 0x7f2ad3d0fed0>,\n",
              "        <matplotlib.axes._subplots.AxesSubplot object at 0x7f2ad3cd1390>],\n",
              "       [<matplotlib.axes._subplots.AxesSubplot object at 0x7f2ad3c87990>,\n",
              "        <matplotlib.axes._subplots.AxesSubplot object at 0x7f2ad3c41f90>,\n",
              "        <matplotlib.axes._subplots.AxesSubplot object at 0x7f2ad3c055d0>,\n",
              "        <matplotlib.axes._subplots.AxesSubplot object at 0x7f2ad3bbbbd0>]],\n",
              "      dtype=object)"
            ]
          },
          "metadata": {},
          "execution_count": 24
        },
        {
          "output_type": "display_data",
          "data": {
            "text/plain": [
              "<Figure size 720x720 with 16 Axes>"
            ],
            "image/png": "[encoded data removed]"
          },
          "metadata": {
            "needs_background": "light"
          }
        }
      ],
      "source": [
        "# scatter_matrix 를 사용한 산점도 행렬 표현\n",
        "\n",
        "iris_dataframe = pd.DataFrame(X_train, columns = iris_dataset.feature_names)\n",
        "\n",
        "pd.plotting.scatter_matrix(iris_dataframe, c = y_train, figsize=(10,10),\n",
        "                          marker = 'o', hist_kwds = {'bins':20}, s=60,\n",
        "                          alpha = .8, cmap=mglearn.cm3)"
      ]
    },
    {
      "cell_type": "markdown",
      "id": "a9495529",
      "metadata": {
        "id": "a9495529"
      },
      "source": [
        "### First Model : k-nearest neighbors\n",
        "### 첫번째 모델 : k-nearest neighbors"
      ]
    },
    {
      "cell_type": "code",
      "execution_count": 26,
      "id": "a5d610d9",
      "metadata": {
        "id": "a5d610d9"
      },
      "outputs": [],
      "source": [
        "from sklearn.neighbors import KNeighborsClassifier\n",
        "\n",
        "knn = KNeighborsClassifier(n_neighbors=1)"
      ]
    },
    {
      "cell_type": "code",
      "execution_count": 27,
      "id": "b8df9a9f",
      "metadata": {
        "scrolled": true,
        "colab": {
          "base_uri": "https://localhost:8080/"
        },
        "id": "b8df9a9f",
        "outputId": "f5c97cdc-8c25-4a95-a563-c140a629597e"
      },
      "outputs": [
        {
          "output_type": "execute_result",
          "data": {
            "text/plain": [
              "KNeighborsClassifier(n_neighbors=1)"
            ]
          },
          "metadata": {},
          "execution_count": 27
        }
      ],
      "source": [
        "knn.fit(X_train,y_train)"
      ]
    },
    {
      "cell_type": "markdown",
      "id": "ecdce48a",
      "metadata": {
        "id": "ecdce48a"
      },
      "source": [
        "#### Predictions"
      ]
    },
    {
      "cell_type": "code",
      "execution_count": 28,
      "id": "5176fc19",
      "metadata": {
        "colab": {
          "base_uri": "https://localhost:8080/"
        },
        "id": "5176fc19",
        "outputId": "6ad0f844-0064-46c2-9d55-37e27f3e0486"
      },
      "outputs": [
        {
          "output_type": "stream",
          "name": "stdout",
          "text": [
            "X_new.shape: (1, 4)\n"
          ]
        }
      ],
      "source": [
        "X_new = np.array([[5,2.9,1,0.2]])\n",
        "print(\"X_new.shape:\", X_new.shape)"
      ]
    },
    {
      "cell_type": "code",
      "execution_count": 29,
      "id": "e773bd92",
      "metadata": {
        "colab": {
          "base_uri": "https://localhost:8080/"
        },
        "id": "e773bd92",
        "outputId": "d9c0034b-41fb-49bc-aa5b-0df204e64921"
      },
      "outputs": [
        {
          "output_type": "stream",
          "name": "stdout",
          "text": [
            "Prediction [0]\n",
            "Predicted target name: ['setosa']\n"
          ]
        }
      ],
      "source": [
        "prediction = knn.predict(X_new)\n",
        "print(\"Prediction\",prediction)\n",
        "print(\"Predicted target name:\", iris_dataset['target_names'][prediction])"
      ]
    },
    {
      "cell_type": "markdown",
      "id": "1cc42cc8",
      "metadata": {
        "id": "1cc42cc8"
      },
      "source": [
        "### Evaluating the model\n",
        "### 모델 평가"
      ]
    },
    {
      "cell_type": "code",
      "execution_count": 30,
      "id": "b265fd05",
      "metadata": {
        "scrolled": false,
        "colab": {
          "base_uri": "https://localhost:8080/"
        },
        "id": "b265fd05",
        "outputId": "988872a8-be6e-4581-ba30-2d2473c9bbba"
      },
      "outputs": [
        {
          "output_type": "stream",
          "name": "stdout",
          "text": [
            "Test set predictions:\n",
            " [2 1 0 2 0 2 0 1 1 1 2 1 1 1 1 0 1 1 0 0 2 1 0 0 2 0 0 1 1 0 2 1 0 2 2 1 0\n",
            " 2]\n"
          ]
        }
      ],
      "source": [
        "y_pred = knn.predict(X_test)\n",
        "print(\"Test set predictions:\\n\", y_pred)"
      ]
    },
    {
      "cell_type": "code",
      "execution_count": 31,
      "id": "73c514b3",
      "metadata": {
        "colab": {
          "base_uri": "https://localhost:8080/"
        },
        "id": "73c514b3",
        "outputId": "e8dc4e54-729e-4a52-e6d6-bd13adf519bc"
      },
      "outputs": [
        {
          "output_type": "stream",
          "name": "stdout",
          "text": [
            "Test set score 0.97\n"
          ]
        }
      ],
      "source": [
        "print(\"Test set score {:.2f}\".format(np.mean(y_pred == y_test)))"
      ]
    },
    {
      "cell_type": "code",
      "execution_count": 32,
      "id": "7fed7a88",
      "metadata": {
        "scrolled": false,
        "colab": {
          "base_uri": "https://localhost:8080/"
        },
        "id": "7fed7a88",
        "outputId": "f3b67d14-87a7-481e-bf33-22b3cf7c6db9"
      },
      "outputs": [
        {
          "output_type": "stream",
          "name": "stdout",
          "text": [
            "Test set score: 0.97\n"
          ]
        }
      ],
      "source": [
        "print(\"Test set score: {:.2f}\".format(knn.score(X_test, y_test)))"
      ]
    },
    {
      "cell_type": "markdown",
      "id": "d3aa8b79",
      "metadata": {
        "id": "d3aa8b79"
      },
      "source": [
        "## Summary and Outlook"
      ]
    },
    {
      "cell_type": "code",
      "execution_count": 33,
      "id": "5e759ec1",
      "metadata": {
        "colab": {
          "base_uri": "https://localhost:8080/"
        },
        "id": "5e759ec1",
        "outputId": "62010a39-c300-4067-f3c5-afafaa303db0"
      },
      "outputs": [
        {
          "output_type": "stream",
          "name": "stdout",
          "text": [
            "Test set score: 0.97\n"
          ]
        }
      ],
      "source": [
        "X_train, X_test, y_train, y_test = train_test_split(iris_dataset['data'], iris_dataset['target'], random_state=0)\n",
        "\n",
        "knn = KNeighborsClassifier(n_neighbors=1)\n",
        "knn.fit(X_train, y_train)\n",
        "\n",
        "print(\"Test set score: {:.2f}\".format(knn.score(X_test, y_test)))"
      ]
    }
  ],
  "metadata": {
    "kernelspec": {
      "display_name": "Python 3 (ipykernel)",
      "language": "python",
      "name": "python3"
    },
    "language_info": {
      "codemirror_mode": {
        "name": "ipython",
        "version": 3
      },
      "file_extension": ".py",
      "mimetype": "text/x-python",
      "name": "python",
      "nbconvert_exporter": "python",
      "pygments_lexer": "ipython3",
      "version": "3.8.13"
    },
    "colab": {
      "provenance": []
    }
  },
  "nbformat": 4,
  "nbformat_minor": 5
}